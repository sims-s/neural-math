{
 "cells": [
  {
   "cell_type": "code",
   "execution_count": 1,
   "metadata": {},
   "outputs": [],
   "source": [
    "import numpy as np\n",
    "import pandas as pd\n",
    "import torch\n",
    "import torch.nn as nn\n",
    "import matplotlib.pyplot as plt\n",
    "import os\n",
    "import sys\n",
    "sys.path.append('../src/')\n",
    "sys.path.append('../problems/')\n",
    "sys.path.append('../scripts/')\n",
    "sys.path.append('../scripts/dataset_generation/')\n",
    "from evaluation import Evaluation, EvaluationDataset\n",
    "import models\n",
    "import generation_utils\n",
    "import tokenizer\n",
    "import data_utils\n",
    "import metrics_utils\n",
    "from utils import get_best_checkpoint\n",
    "from train_model import get_loaders\n",
    "from tqdm.auto import tqdm\n",
    "import itertools\n",
    "from optimization_utils import test_on_loader"
   ]
  },
  {
   "cell_type": "code",
   "execution_count": 2,
   "metadata": {},
   "outputs": [],
   "source": [
    "%load_ext autoreload\n",
    "%autoreload 2"
   ]
  },
  {
   "cell_type": "code",
   "execution_count": 3,
   "metadata": {},
   "outputs": [
    {
     "data": {
      "text/html": [
       "<style>.container { width:100% !important; }</style>"
      ],
      "text/plain": [
       "<IPython.core.display.HTML object>"
      ]
     },
     "metadata": {},
     "output_type": "display_data"
    }
   ],
   "source": [
    "from IPython.core.display import display, HTML\n",
    "display(HTML(\"<style>.container { width:100% !important; }</style>\"))"
   ]
  },
  {
   "cell_type": "code",
   "execution_count": 4,
   "metadata": {},
   "outputs": [],
   "source": [
    "pd.set_option('display.max_colwidth', 999)\n",
    "pd.set_option('display.max_rows', 9999)"
   ]
  },
  {
   "cell_type": "code",
   "execution_count": 5,
   "metadata": {},
   "outputs": [],
   "source": [
    "device = torch.device('cuda')"
   ]
  },
  {
   "cell_type": "code",
   "execution_count": 6,
   "metadata": {},
   "outputs": [],
   "source": [
    "base_path = '../models/evaluation/addition/'"
   ]
  },
  {
   "cell_type": "code",
   "execution_count": 7,
   "metadata": {},
   "outputs": [],
   "source": [
    "# checkpoint = get_best_checkpoint(base_path)\n",
    "checkpoint = torch.load(base_path + 'checkpoints/80000_0.5956.pt')"
   ]
  },
  {
   "cell_type": "code",
   "execution_count": 8,
   "metadata": {},
   "outputs": [],
   "source": [
    "args = checkpoint['args']"
   ]
  },
  {
   "cell_type": "code",
   "execution_count": 9,
   "metadata": {},
   "outputs": [],
   "source": [
    "for key in ['train', 'test', 'oos']:\n",
    "    if not args['data'][f'{key}_path'].startswith('streaming_'):\n",
    "        args['data'][f'{key}_path'] = '../' + args['data'][f'{key}_path']"
   ]
  },
  {
   "cell_type": "code",
   "execution_count": 10,
   "metadata": {},
   "outputs": [],
   "source": [
    "problem = Evaluation(args)"
   ]
  },
  {
   "cell_type": "code",
   "execution_count": 11,
   "metadata": {},
   "outputs": [
    {
     "name": "stdout",
     "output_type": "stream",
     "text": [
      "Loading data...\n"
     ]
    }
   ],
   "source": [
    "train_loader, test_loader, oos_loader = get_loaders(problem)"
   ]
  },
  {
   "cell_type": "code",
   "execution_count": 12,
   "metadata": {},
   "outputs": [],
   "source": [
    "t = problem.get_tokenizer()"
   ]
  },
  {
   "cell_type": "code",
   "execution_count": 13,
   "metadata": {
    "scrolled": false
   },
   "outputs": [
    {
     "data": {
      "text/plain": [
       "dict_keys(['data', 'problem_type', 'model_args', 'optimizer', 'scheduler', 'loader', 'io', 'metrics', 'verbose', 'resume_training', 'overwrite', 'tokenizer'])"
      ]
     },
     "execution_count": 13,
     "metadata": {},
     "output_type": "execute_result"
    }
   ],
   "source": [
    "args.keys()"
   ]
  },
  {
   "cell_type": "code",
   "execution_count": 14,
   "metadata": {
    "scrolled": true
   },
   "outputs": [
    {
     "data": {
      "text/plain": [
       "Seq2SeqModel(\n",
       "  (src_embedding): TransformerEmbedding(\n",
       "    (embedding): Embedding(19, 128)\n",
       "  )\n",
       "  (tgt_embedding): TransformerEmbedding(\n",
       "    (embedding): Embedding(19, 128)\n",
       "  )\n",
       "  (positional_encoding): PositionalEncoding(\n",
       "    (dropout): Dropout(p=0.05, inplace=False)\n",
       "  )\n",
       "  (transformer): Transformer(\n",
       "    (encoder): TransformerEncoder(\n",
       "      (layers): ModuleList(\n",
       "        (0-3): 4 x TransformerEncoderLayer(\n",
       "          (self_attn): MultiHeadRelativeAttention(\n",
       "            (w_q): Linear(in_features=128, out_features=128, bias=False)\n",
       "            (w_k): Linear(in_features=128, out_features=128, bias=False)\n",
       "            (w_v): Linear(in_features=128, out_features=128, bias=False)\n",
       "            (out_proj): Linear(in_features=128, out_features=128, bias=False)\n",
       "            (pe_mod): PositionalEncoding(\n",
       "              (dropout): Dropout(p=0.05, inplace=False)\n",
       "            )\n",
       "            (w_k_pos): Linear(in_features=128, out_features=128, bias=False)\n",
       "          )\n",
       "          (linear1): Linear(in_features=128, out_features=128, bias=True)\n",
       "          (dropout): Dropout(p=0.1, inplace=False)\n",
       "          (linear2): Linear(in_features=128, out_features=128, bias=True)\n",
       "          (norm1): LayerNorm((128,), eps=1e-05, elementwise_affine=True)\n",
       "          (norm2): LayerNorm((128,), eps=1e-05, elementwise_affine=True)\n",
       "          (dropout1): Dropout(p=0.1, inplace=False)\n",
       "          (dropout2): Dropout(p=0.1, inplace=False)\n",
       "        )\n",
       "      )\n",
       "      (norm): LayerNorm((128,), eps=1e-05, elementwise_affine=True)\n",
       "    )\n",
       "    (decoder): TransformerDecoder(\n",
       "      (layers): ModuleList(\n",
       "        (0-3): 4 x TransformerDecoderLayer(\n",
       "          (self_attn): MultiHeadRelativeAttention(\n",
       "            (w_q): Linear(in_features=128, out_features=128, bias=False)\n",
       "            (w_k): Linear(in_features=128, out_features=128, bias=False)\n",
       "            (w_v): Linear(in_features=128, out_features=128, bias=False)\n",
       "            (out_proj): Linear(in_features=128, out_features=128, bias=False)\n",
       "            (pe_mod): PositionalEncoding(\n",
       "              (dropout): Dropout(p=0.05, inplace=False)\n",
       "            )\n",
       "            (w_k_pos): Linear(in_features=128, out_features=128, bias=False)\n",
       "          )\n",
       "          (multihead_attn): MultiHeadAttention(\n",
       "            (w_q): Linear(in_features=128, out_features=128, bias=False)\n",
       "            (w_k): Linear(in_features=128, out_features=128, bias=False)\n",
       "            (w_v): Linear(in_features=128, out_features=128, bias=False)\n",
       "            (out_proj): Linear(in_features=128, out_features=128, bias=False)\n",
       "          )\n",
       "          (linear1): Linear(in_features=128, out_features=128, bias=True)\n",
       "          (dropout): Dropout(p=0.1, inplace=False)\n",
       "          (linear2): Linear(in_features=128, out_features=128, bias=True)\n",
       "          (norm1): LayerNorm((128,), eps=1e-05, elementwise_affine=True)\n",
       "          (norm2): LayerNorm((128,), eps=1e-05, elementwise_affine=True)\n",
       "          (norm3): LayerNorm((128,), eps=1e-05, elementwise_affine=True)\n",
       "          (dropout1): Dropout(p=0.1, inplace=False)\n",
       "          (dropout2): Dropout(p=0.1, inplace=False)\n",
       "          (dropout3): Dropout(p=0.1, inplace=False)\n",
       "        )\n",
       "      )\n",
       "      (norm): LayerNorm((128,), eps=1e-05, elementwise_affine=True)\n",
       "    )\n",
       "  )\n",
       "  (tokens_out): Linear(in_features=128, out_features=19, bias=True)\n",
       ")"
      ]
     },
     "execution_count": 14,
     "metadata": {},
     "output_type": "execute_result"
    }
   ],
   "source": [
    "model = models.Seq2SeqModel(n_tokens = args['tokenizer']['n_tokens'], \n",
    "                          pad_token_id = args['tokenizer']['pad_token_id'],\n",
    "                          **args['model_args'])\n",
    "model.load_state_dict(checkpoint['model_state_dict'])\n",
    "model.to(device)\n",
    "model.eval()"
   ]
  },
  {
   "cell_type": "code",
   "execution_count": 15,
   "metadata": {
    "scrolled": false
   },
   "outputs": [
    {
     "data": {
      "text/plain": [
       "1210515"
      ]
     },
     "execution_count": 15,
     "metadata": {},
     "output_type": "execute_result"
    }
   ],
   "source": [
    "np.sum([np.prod(p.size()) for p in model.parameters()])"
   ]
  },
  {
   "cell_type": "code",
   "execution_count": 16,
   "metadata": {},
   "outputs": [
    {
     "data": {
      "text/plain": [
       "2048"
      ]
     },
     "execution_count": 16,
     "metadata": {},
     "output_type": "execute_result"
    }
   ],
   "source": [
    "len(test_loader.dataset)"
   ]
  },
  {
   "cell_type": "code",
   "execution_count": 17,
   "metadata": {
    "scrolled": true
   },
   "outputs": [
    {
     "data": {
      "application/vnd.jupyter.widget-view+json": {
       "model_id": "",
       "version_major": 2,
       "version_minor": 0
      },
      "text/plain": [
       "  0%|          | 0/2048 [00:00<?, ?it/s]"
      ]
     },
     "metadata": {},
     "output_type": "display_data"
    },
    {
     "data": {
      "application/vnd.jupyter.widget-view+json": {
       "model_id": "",
       "version_major": 2,
       "version_minor": 0
      },
      "text/plain": [
       "  0%|          | 0/8 [00:00<?, ?it/s]"
      ]
     },
     "metadata": {},
     "output_type": "display_data"
    }
   ],
   "source": [
    "test_df, test_metrics = problem.compute_metrics(model, device, test_loader, save=False, n_beams=64)"
   ]
  },
  {
   "cell_type": "code",
   "execution_count": 18,
   "metadata": {
    "scrolled": true
   },
   "outputs": [
    {
     "data": {
      "text/html": [
       "<div>\n",
       "<style scoped>\n",
       "    .dataframe tbody tr th:only-of-type {\n",
       "        vertical-align: middle;\n",
       "    }\n",
       "\n",
       "    .dataframe tbody tr th {\n",
       "        vertical-align: top;\n",
       "    }\n",
       "\n",
       "    .dataframe thead th {\n",
       "        text-align: right;\n",
       "    }\n",
       "</style>\n",
       "<table border=\"1\" class=\"dataframe\">\n",
       "  <thead>\n",
       "    <tr style=\"text-align: right;\">\n",
       "      <th></th>\n",
       "      <th>expression</th>\n",
       "      <th>value</th>\n",
       "      <th>model_input</th>\n",
       "      <th>beam_idx</th>\n",
       "      <th>log_prob</th>\n",
       "      <th>output_toks</th>\n",
       "      <th>pred</th>\n",
       "      <th>correct_value</th>\n",
       "      <th>log_prob_decile</th>\n",
       "    </tr>\n",
       "  </thead>\n",
       "  <tbody>\n",
       "    <tr>\n",
       "      <th>0</th>\n",
       "      <td>-3+-22+-65+64+-86</td>\n",
       "      <td>-112</td>\n",
       "      <td>[[SOS], -, 3, +, -, 2, 2, +, -, 6, 5, +, 6, 4, +, -, 8, 6, [EOS]]</td>\n",
       "      <td>0</td>\n",
       "      <td>-0.948943</td>\n",
       "      <td>[[SOS], -, 1, 1, 0, [EOS], [PAD]]</td>\n",
       "      <td>-110.0</td>\n",
       "      <td>False</td>\n",
       "      <td>(-4.206, -0.509]</td>\n",
       "    </tr>\n",
       "    <tr>\n",
       "      <th>1</th>\n",
       "      <td>-3+-22+-65+64+-86</td>\n",
       "      <td>-112</td>\n",
       "      <td>[[SOS], -, 3, +, -, 2, 2, +, -, 6, 5, +, 6, 4, +, -, 8, 6, [EOS]]</td>\n",
       "      <td>1</td>\n",
       "      <td>-1.362660</td>\n",
       "      <td>[[SOS], -, 1, 1, 1, [EOS], [PAD]]</td>\n",
       "      <td>-111.0</td>\n",
       "      <td>False</td>\n",
       "      <td>(-4.206, -0.509]</td>\n",
       "    </tr>\n",
       "    <tr>\n",
       "      <th>2</th>\n",
       "      <td>-3+-22+-65+64+-86</td>\n",
       "      <td>-112</td>\n",
       "      <td>[[SOS], -, 3, +, -, 2, 2, +, -, 6, 5, +, 6, 4, +, -, 8, 6, [EOS]]</td>\n",
       "      <td>2</td>\n",
       "      <td>-1.725591</td>\n",
       "      <td>[[SOS], -, 1, 0, 9, [EOS], [PAD]]</td>\n",
       "      <td>-109.0</td>\n",
       "      <td>False</td>\n",
       "      <td>(-4.206, -0.509]</td>\n",
       "    </tr>\n",
       "    <tr>\n",
       "      <th>3</th>\n",
       "      <td>-3+-22+-65+64+-86</td>\n",
       "      <td>-112</td>\n",
       "      <td>[[SOS], -, 3, +, -, 2, 2, +, -, 6, 5, +, 6, 4, +, -, 8, 6, [EOS]]</td>\n",
       "      <td>3</td>\n",
       "      <td>-2.361022</td>\n",
       "      <td>[[SOS], -, 1, 1, 2, [EOS], [PAD]]</td>\n",
       "      <td>-112.0</td>\n",
       "      <td>True</td>\n",
       "      <td>(-4.206, -0.509]</td>\n",
       "    </tr>\n",
       "    <tr>\n",
       "      <th>4</th>\n",
       "      <td>-3+-22+-65+64+-86</td>\n",
       "      <td>-112</td>\n",
       "      <td>[[SOS], -, 3, +, -, 2, 2, +, -, 6, 5, +, 6, 4, +, -, 8, 6, [EOS]]</td>\n",
       "      <td>4</td>\n",
       "      <td>-2.911325</td>\n",
       "      <td>[[SOS], -, 1, 0, 8, [EOS], [PAD]]</td>\n",
       "      <td>-108.0</td>\n",
       "      <td>False</td>\n",
       "      <td>(-4.206, -0.509]</td>\n",
       "    </tr>\n",
       "    <tr>\n",
       "      <th>...</th>\n",
       "      <td>...</td>\n",
       "      <td>...</td>\n",
       "      <td>...</td>\n",
       "      <td>...</td>\n",
       "      <td>...</td>\n",
       "      <td>...</td>\n",
       "      <td>...</td>\n",
       "      <td>...</td>\n",
       "      <td>...</td>\n",
       "    </tr>\n",
       "    <tr>\n",
       "      <th>131067</th>\n",
       "      <td>-56+-27+-55+84+7</td>\n",
       "      <td>-47</td>\n",
       "      <td>[[SOS], -, 5, 6, +, -, 2, 7, +, -, 5, 5, +, 8, 4, +, 7, [EOS]]</td>\n",
       "      <td>59</td>\n",
       "      <td>-11.166413</td>\n",
       "      <td>[[SOS], -, 4, 8, [EOS], (]</td>\n",
       "      <td>-48.0</td>\n",
       "      <td>False</td>\n",
       "      <td>(-11.223, -10.905]</td>\n",
       "    </tr>\n",
       "    <tr>\n",
       "      <th>131068</th>\n",
       "      <td>-56+-27+-55+84+7</td>\n",
       "      <td>-47</td>\n",
       "      <td>[[SOS], -, 5, 6, +, -, 2, 7, +, -, 5, 5, +, 8, 4, +, 7, [EOS]]</td>\n",
       "      <td>60</td>\n",
       "      <td>-11.166413</td>\n",
       "      <td>[[SOS], -, 4, 8, [EOS], )]</td>\n",
       "      <td>-48.0</td>\n",
       "      <td>False</td>\n",
       "      <td>(-11.223, -10.905]</td>\n",
       "    </tr>\n",
       "    <tr>\n",
       "      <th>131069</th>\n",
       "      <td>-56+-27+-55+84+7</td>\n",
       "      <td>-47</td>\n",
       "      <td>[[SOS], -, 5, 6, +, -, 2, 7, +, -, 5, 5, +, 8, 4, +, 7, [EOS]]</td>\n",
       "      <td>61</td>\n",
       "      <td>-11.166413</td>\n",
       "      <td>[[SOS], -, 4, 8, [EOS], [EOS]]</td>\n",
       "      <td>-48.0</td>\n",
       "      <td>False</td>\n",
       "      <td>(-11.223, -10.905]</td>\n",
       "    </tr>\n",
       "    <tr>\n",
       "      <th>131070</th>\n",
       "      <td>-56+-27+-55+84+7</td>\n",
       "      <td>-47</td>\n",
       "      <td>[[SOS], -, 5, 6, +, -, 2, 7, +, -, 5, 5, +, 8, 4, +, 7, [EOS]]</td>\n",
       "      <td>62</td>\n",
       "      <td>-11.212212</td>\n",
       "      <td>[[SOS], -, 5, 2, [EOS], [PAD]]</td>\n",
       "      <td>-52.0</td>\n",
       "      <td>False</td>\n",
       "      <td>(-11.223, -10.905]</td>\n",
       "    </tr>\n",
       "    <tr>\n",
       "      <th>131071</th>\n",
       "      <td>-56+-27+-55+84+7</td>\n",
       "      <td>-47</td>\n",
       "      <td>[[SOS], -, 5, 6, +, -, 2, 7, +, -, 5, 5, +, 8, 4, +, 7, [EOS]]</td>\n",
       "      <td>63</td>\n",
       "      <td>-11.323759</td>\n",
       "      <td>[[SOS], -, 4, 5, [EOS], 0]</td>\n",
       "      <td>-45.0</td>\n",
       "      <td>False</td>\n",
       "      <td>(-18.543, -11.223]</td>\n",
       "    </tr>\n",
       "  </tbody>\n",
       "</table>\n",
       "<p>131072 rows × 9 columns</p>\n",
       "</div>"
      ],
      "text/plain": [
       "               expression  value  \\\n",
       "0       -3+-22+-65+64+-86   -112   \n",
       "1       -3+-22+-65+64+-86   -112   \n",
       "2       -3+-22+-65+64+-86   -112   \n",
       "3       -3+-22+-65+64+-86   -112   \n",
       "4       -3+-22+-65+64+-86   -112   \n",
       "...                   ...    ...   \n",
       "131067   -56+-27+-55+84+7    -47   \n",
       "131068   -56+-27+-55+84+7    -47   \n",
       "131069   -56+-27+-55+84+7    -47   \n",
       "131070   -56+-27+-55+84+7    -47   \n",
       "131071   -56+-27+-55+84+7    -47   \n",
       "\n",
       "                                                              model_input  \\\n",
       "0       [[SOS], -, 3, +, -, 2, 2, +, -, 6, 5, +, 6, 4, +, -, 8, 6, [EOS]]   \n",
       "1       [[SOS], -, 3, +, -, 2, 2, +, -, 6, 5, +, 6, 4, +, -, 8, 6, [EOS]]   \n",
       "2       [[SOS], -, 3, +, -, 2, 2, +, -, 6, 5, +, 6, 4, +, -, 8, 6, [EOS]]   \n",
       "3       [[SOS], -, 3, +, -, 2, 2, +, -, 6, 5, +, 6, 4, +, -, 8, 6, [EOS]]   \n",
       "4       [[SOS], -, 3, +, -, 2, 2, +, -, 6, 5, +, 6, 4, +, -, 8, 6, [EOS]]   \n",
       "...                                                                   ...   \n",
       "131067     [[SOS], -, 5, 6, +, -, 2, 7, +, -, 5, 5, +, 8, 4, +, 7, [EOS]]   \n",
       "131068     [[SOS], -, 5, 6, +, -, 2, 7, +, -, 5, 5, +, 8, 4, +, 7, [EOS]]   \n",
       "131069     [[SOS], -, 5, 6, +, -, 2, 7, +, -, 5, 5, +, 8, 4, +, 7, [EOS]]   \n",
       "131070     [[SOS], -, 5, 6, +, -, 2, 7, +, -, 5, 5, +, 8, 4, +, 7, [EOS]]   \n",
       "131071     [[SOS], -, 5, 6, +, -, 2, 7, +, -, 5, 5, +, 8, 4, +, 7, [EOS]]   \n",
       "\n",
       "        beam_idx   log_prob                        output_toks   pred  \\\n",
       "0              0  -0.948943  [[SOS], -, 1, 1, 0, [EOS], [PAD]] -110.0   \n",
       "1              1  -1.362660  [[SOS], -, 1, 1, 1, [EOS], [PAD]] -111.0   \n",
       "2              2  -1.725591  [[SOS], -, 1, 0, 9, [EOS], [PAD]] -109.0   \n",
       "3              3  -2.361022  [[SOS], -, 1, 1, 2, [EOS], [PAD]] -112.0   \n",
       "4              4  -2.911325  [[SOS], -, 1, 0, 8, [EOS], [PAD]] -108.0   \n",
       "...          ...        ...                                ...    ...   \n",
       "131067        59 -11.166413         [[SOS], -, 4, 8, [EOS], (]  -48.0   \n",
       "131068        60 -11.166413         [[SOS], -, 4, 8, [EOS], )]  -48.0   \n",
       "131069        61 -11.166413     [[SOS], -, 4, 8, [EOS], [EOS]]  -48.0   \n",
       "131070        62 -11.212212     [[SOS], -, 5, 2, [EOS], [PAD]]  -52.0   \n",
       "131071        63 -11.323759         [[SOS], -, 4, 5, [EOS], 0]  -45.0   \n",
       "\n",
       "        correct_value     log_prob_decile  \n",
       "0               False    (-4.206, -0.509]  \n",
       "1               False    (-4.206, -0.509]  \n",
       "2               False    (-4.206, -0.509]  \n",
       "3                True    (-4.206, -0.509]  \n",
       "4               False    (-4.206, -0.509]  \n",
       "...               ...                 ...  \n",
       "131067          False  (-11.223, -10.905]  \n",
       "131068          False  (-11.223, -10.905]  \n",
       "131069          False  (-11.223, -10.905]  \n",
       "131070          False  (-11.223, -10.905]  \n",
       "131071          False  (-18.543, -11.223]  \n",
       "\n",
       "[131072 rows x 9 columns]"
      ]
     },
     "execution_count": 18,
     "metadata": {},
     "output_type": "execute_result"
    }
   ],
   "source": [
    "test_df"
   ]
  },
  {
   "cell_type": "code",
   "execution_count": 19,
   "metadata": {
    "scrolled": false
   },
   "outputs": [
    {
     "data": {
      "text/plain": [
       "{'correct_value': 0.98828125,\n",
       " 'beam_accuracy': {'correct_value': {0: 0.23681640625,\n",
       "   1: 0.1884765625,\n",
       "   2: 0.13232421875,\n",
       "   3: 0.10498046875,\n",
       "   4: 0.078125,\n",
       "   5: 0.05078125,\n",
       "   6: 0.0419921875,\n",
       "   7: 0.0478515625,\n",
       "   8: 0.0859375,\n",
       "   9: 0.115234375,\n",
       "   10: 0.1435546875,\n",
       "   11: 0.16357421875,\n",
       "   12: 0.16552734375,\n",
       "   13: 0.16943359375,\n",
       "   14: 0.17822265625,\n",
       "   15: 0.177734375,\n",
       "   16: 0.18017578125,\n",
       "   17: 0.18310546875,\n",
       "   18: 0.18408203125,\n",
       "   19: 0.1875,\n",
       "   20: 0.18896484375,\n",
       "   21: 0.1904296875,\n",
       "   22: 0.1904296875,\n",
       "   23: 0.19091796875,\n",
       "   24: 0.181640625,\n",
       "   25: 0.16845703125,\n",
       "   26: 0.16015625,\n",
       "   27: 0.1572265625,\n",
       "   28: 0.16455078125,\n",
       "   29: 0.1630859375,\n",
       "   30: 0.1630859375,\n",
       "   31: 0.16552734375,\n",
       "   32: 0.166015625,\n",
       "   33: 0.16552734375,\n",
       "   34: 0.16455078125,\n",
       "   35: 0.16650390625,\n",
       "   36: 0.16552734375,\n",
       "   37: 0.1650390625,\n",
       "   38: 0.1650390625,\n",
       "   39: 0.16455078125,\n",
       "   40: 0.16552734375,\n",
       "   41: 0.16357421875,\n",
       "   42: 0.142578125,\n",
       "   43: 0.12646484375,\n",
       "   44: 0.1171875,\n",
       "   45: 0.11376953125,\n",
       "   46: 0.12255859375,\n",
       "   47: 0.125,\n",
       "   48: 0.12353515625,\n",
       "   49: 0.125,\n",
       "   50: 0.126953125,\n",
       "   51: 0.126953125,\n",
       "   52: 0.12451171875,\n",
       "   53: 0.1240234375,\n",
       "   54: 0.1240234375,\n",
       "   55: 0.125,\n",
       "   56: 0.125,\n",
       "   57: 0.1240234375,\n",
       "   58: 0.123046875,\n",
       "   59: 0.1181640625,\n",
       "   60: 0.1083984375,\n",
       "   61: 0.09912109375,\n",
       "   62: 0.08935546875,\n",
       "   63: 0.08154296875}},\n",
       " 'by_prob': {'group_size': {'(-32.515, -18.543]': 13108.0,\n",
       "   '(-18.543, -11.223]': 13110.0,\n",
       "   '(-11.223, -10.905]': 13116.0,\n",
       "   '(-10.905, -10.713]': 13109.0,\n",
       "   '(-10.713, -10.547]': 13093.0,\n",
       "   '(-10.547, -10.375]': 13114.0,\n",
       "   '(-10.375, -10.199]': 13104.0,\n",
       "   '(-10.199, -9.908]': 13103.0,\n",
       "   '(-9.908, -4.206]': 13107.0,\n",
       "   '(-4.206, -0.509]': 13108.0},\n",
       "  'correct_value': {'(-32.515, -18.543]': 0.0,\n",
       "   '(-18.543, -11.223]': 0.027917620137299773,\n",
       "   '(-11.223, -10.905]': 0.1362458066483684,\n",
       "   '(-10.905, -10.713]': 0.18109695628957204,\n",
       "   '(-10.713, -10.547]': 0.1842969525700756,\n",
       "   '(-10.547, -10.375]': 0.16348940064053682,\n",
       "   '(-10.375, -10.199]': 0.2326007326007326,\n",
       "   '(-10.199, -9.908]': 0.33419827520415174,\n",
       "   '(-9.908, -4.206]': 0.046463721675440606,\n",
       "   '(-4.206, -0.509]': 0.12633506255721696}},\n",
       " 'loss': 0.5955680639919181,\n",
       " 'meta': {'n_beams': 64, 'temperature': 1.0, 'max_decode_size': 64}}"
      ]
     },
     "execution_count": 19,
     "metadata": {},
     "output_type": "execute_result"
    }
   ],
   "source": [
    "test_metrics"
   ]
  },
  {
   "cell_type": "code",
   "execution_count": null,
   "metadata": {},
   "outputs": [],
   "source": [
    "sys.exit()"
   ]
  },
  {
   "cell_type": "code",
   "execution_count": null,
   "metadata": {},
   "outputs": [],
   "source": []
  },
  {
   "cell_type": "code",
   "execution_count": null,
   "metadata": {},
   "outputs": [],
   "source": []
  }
 ],
 "metadata": {
  "kernelspec": {
   "display_name": "Python 3",
   "language": "python",
   "name": "python3"
  },
  "language_info": {
   "codemirror_mode": {
    "name": "ipython",
    "version": 3
   },
   "file_extension": ".py",
   "mimetype": "text/x-python",
   "name": "python",
   "nbconvert_exporter": "python",
   "pygments_lexer": "ipython3",
   "version": "3.8.7"
  }
 },
 "nbformat": 4,
 "nbformat_minor": 4
}
