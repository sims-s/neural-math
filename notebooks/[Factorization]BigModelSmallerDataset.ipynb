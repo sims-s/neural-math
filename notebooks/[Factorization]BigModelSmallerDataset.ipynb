{
 "cells": [
  {
   "cell_type": "code",
   "execution_count": 2,
   "metadata": {},
   "outputs": [],
   "source": [
    "import numpy as np\n",
    "import pandas as pd\n",
    "import torch\n",
    "import torch.nn as nn\n",
    "import matplotlib.pyplot as plt\n",
    "import os\n",
    "import sys\n",
    "sys.path.append('../src/')\n",
    "sys.path.append('../problems/')\n",
    "sys.path.append('../scripts/')\n",
    "sys.path.append('../scripts/dataset_generation/')\n",
    "import models\n",
    "import generation_utils\n",
    "import tokenizer\n",
    "import data_utils\n",
    "from train_model import get_loaders\n",
    "from utils import get_best_checkpoint\n",
    "from factorization import Factorization"
   ]
  },
  {
   "cell_type": "code",
   "execution_count": 3,
   "metadata": {},
   "outputs": [],
   "source": [
    "%load_ext autoreload\n",
    "%autoreload 2"
   ]
  },
  {
   "cell_type": "code",
   "execution_count": 4,
   "metadata": {},
   "outputs": [
    {
     "data": {
      "text/html": [
       "<style>.container { width:100% !important; }</style>"
      ],
      "text/plain": [
       "<IPython.core.display.HTML object>"
      ]
     },
     "metadata": {},
     "output_type": "display_data"
    }
   ],
   "source": [
    "from IPython.core.display import display, HTML\n",
    "display(HTML(\"<style>.container { width:100% !important; }</style>\"))"
   ]
  },
  {
   "cell_type": "code",
   "execution_count": 5,
   "metadata": {},
   "outputs": [],
   "source": [
    "pd.set_option('display.max_colwidth', 999)\n",
    "pd.set_option('display.max_rows', 9999)"
   ]
  },
  {
   "cell_type": "code",
   "execution_count": 6,
   "metadata": {},
   "outputs": [],
   "source": [
    "device = torch.device('cuda')"
   ]
  },
  {
   "cell_type": "code",
   "execution_count": 7,
   "metadata": {},
   "outputs": [],
   "source": [
    "base_path = '../models/factorization/2^22/scaled/'"
   ]
  },
  {
   "cell_type": "code",
   "execution_count": 8,
   "metadata": {},
   "outputs": [
    {
     "name": "stdout",
     "output_type": "stream",
     "text": [
      "Loading model at ../models/factorization/2^22/scaled/checkpoints/389150_0.0727.pt\n"
     ]
    }
   ],
   "source": [
    "checkpoint = get_best_checkpoint(base_path)"
   ]
  },
  {
   "cell_type": "code",
   "execution_count": 9,
   "metadata": {},
   "outputs": [],
   "source": [
    "args = checkpoint['args']"
   ]
  },
  {
   "cell_type": "code",
   "execution_count": 10,
   "metadata": {
    "scrolled": true
   },
   "outputs": [
    {
     "data": {
      "text/plain": [
       "{'data': {'train_path': 'data/train_data_2^22.npy',\n",
       "  'test_path': 'data/test_data_2^22.npy',\n",
       "  'oos_path': 'data/oos_data_2^22.npy',\n",
       "  'base': 30},\n",
       " 'problem_type': 'factorization',\n",
       " 'model_args': {'embed_dim': 256,\n",
       "  'num_encoder_layers': 10,\n",
       "  'num_decoder_layers': 10,\n",
       "  'dim_feedforward': 1024,\n",
       "  'dropout': 0.1,\n",
       "  'shared_embeddings': False,\n",
       "  'scale_embeddings': False,\n",
       "  'scale_embeddings_at_init': False,\n",
       "  'max_decode_size': 64,\n",
       "  'norm_first': False,\n",
       "  'learn_positional_encoding': True,\n",
       "  'repeat_positional_encoding': False,\n",
       "  'positional_encoding_query_key_only': False,\n",
       "  'positional_encoding_type': 'relative-transfxl',\n",
       "  'extra_positional_encoding_relative_decoder_mha': True,\n",
       "  'attn_weight_xavier_init_constant': 0.5,\n",
       "  'embedding_initialization': 'xavier'},\n",
       " 'optimizer': {'type': 'AdamW',\n",
       "  'opt_args': {'lr': 0.001, 'weight_decay': 0.1},\n",
       "  'max_grad_norm': 1,\n",
       "  'gradient_accumulation_steps': 8},\n",
       " 'scheduler': {'type': 'get_linear_schedule_with_warmup',\n",
       "  'nb_epochs': 200,\n",
       "  'max_steps': -1,\n",
       "  'scheduler_args': {'num_warmup_steps': 1200, 'nb_steps': 389150}},\n",
       " 'loader': {'train': {'batch_size': 256, 'random_sampling': True},\n",
       "  'test': {'batch_size': 256, 'shuffle': False},\n",
       "  'oos': {'batch_size': 256, 'shuffle': False}},\n",
       " 'io': {'save_path': './models/factorization/2^22/scaled/',\n",
       "  'checkpoint_every': 1000,\n",
       "  'evaluate_every': 1,\n",
       "  'evaluate_final': True},\n",
       " 'metrics': {'n_beams': 2,\n",
       "  'max_num': -1,\n",
       "  'save_suffix': '',\n",
       "  'temperature': 1.0},\n",
       " 'verbose': True,\n",
       " 'wandb': {'enabled': True,\n",
       "  'project': 'integer-factorization',\n",
       "  'entity': 'sims-s',\n",
       "  'watch_args': {'log': 'all', 'log_freq': 50},\n",
       "  'id': '2jand048'},\n",
       " 'resume_training': False,\n",
       " 'tokenizer': {'n_tokens': 34, 'pad_token_id': 31}}"
      ]
     },
     "execution_count": 10,
     "metadata": {},
     "output_type": "execute_result"
    }
   ],
   "source": [
    "args"
   ]
  },
  {
   "cell_type": "code",
   "execution_count": 11,
   "metadata": {},
   "outputs": [],
   "source": [
    "for key in ['train', 'test', 'oos']:\n",
    "    args['data'][f'{key}_path'] = '../' + args['data'][f'{key}_path'].replace('2^22', '2^13')"
   ]
  },
  {
   "cell_type": "code",
   "execution_count": 12,
   "metadata": {},
   "outputs": [],
   "source": [
    "problem = Factorization(args)"
   ]
  },
  {
   "cell_type": "code",
   "execution_count": 13,
   "metadata": {},
   "outputs": [],
   "source": [
    "tokenizer = problem.get_tokenizer()"
   ]
  },
  {
   "cell_type": "code",
   "execution_count": 14,
   "metadata": {
    "scrolled": true
   },
   "outputs": [
    {
     "data": {
      "text/plain": [
       "34"
      ]
     },
     "execution_count": 14,
     "metadata": {},
     "output_type": "execute_result"
    }
   ],
   "source": [
    "len(tokenizer)"
   ]
  },
  {
   "cell_type": "code",
   "execution_count": 15,
   "metadata": {
    "scrolled": true
   },
   "outputs": [
    {
     "data": {
      "text/plain": [
       "{'0': 0,\n",
       " '1': 1,\n",
       " '2': 2,\n",
       " '3': 3,\n",
       " '4': 4,\n",
       " '5': 5,\n",
       " '6': 6,\n",
       " '7': 7,\n",
       " '8': 8,\n",
       " '9': 9,\n",
       " '10': 10,\n",
       " '11': 11,\n",
       " '12': 12,\n",
       " '13': 13,\n",
       " '14': 14,\n",
       " '15': 15,\n",
       " '16': 16,\n",
       " '17': 17,\n",
       " '18': 18,\n",
       " '19': 19,\n",
       " '20': 20,\n",
       " '21': 21,\n",
       " '22': 22,\n",
       " '23': 23,\n",
       " '24': 24,\n",
       " '25': 25,\n",
       " '26': 26,\n",
       " '27': 27,\n",
       " '28': 28,\n",
       " '29': 29,\n",
       " '*': 30,\n",
       " '[PAD]': 31,\n",
       " '[EOS]': 32,\n",
       " '[SOS]': 33}"
      ]
     },
     "execution_count": 15,
     "metadata": {},
     "output_type": "execute_result"
    }
   ],
   "source": [
    "tokenizer.token_mapper"
   ]
  },
  {
   "cell_type": "code",
   "execution_count": 19,
   "metadata": {},
   "outputs": [
    {
     "name": "stdout",
     "output_type": "stream",
     "text": [
      "Loading data...\n"
     ]
    }
   ],
   "source": [
    "train_loader, test_loader, oos_loader = get_loaders(problem)"
   ]
  },
  {
   "cell_type": "code",
   "execution_count": 20,
   "metadata": {
    "scrolled": true
   },
   "outputs": [
    {
     "data": {
      "text/plain": [
       "dict_keys(['data', 'problem_type', 'model_args', 'optimizer', 'scheduler', 'loader', 'io', 'metrics', 'verbose', 'wandb', 'resume_training', 'tokenizer'])"
      ]
     },
     "execution_count": 20,
     "metadata": {},
     "output_type": "execute_result"
    }
   ],
   "source": [
    "args.keys()"
   ]
  },
  {
   "cell_type": "code",
   "execution_count": 21,
   "metadata": {
    "scrolled": true
   },
   "outputs": [
    {
     "data": {
      "text/plain": [
       "Seq2SeqModel(\n",
       "  (src_embedding): TransformerEmbedding(\n",
       "    (embedding): Embedding(34, 256)\n",
       "  )\n",
       "  (tgt_embedding): TransformerEmbedding(\n",
       "    (embedding): Embedding(34, 256)\n",
       "  )\n",
       "  (positional_encoding): PositionalEncoding(\n",
       "    (dropout): Dropout(p=0.1, inplace=False)\n",
       "  )\n",
       "  (transformer): Transformer(\n",
       "    (encoder): TransformerEncoder(\n",
       "      (layers): ModuleList(\n",
       "        (0-9): 10 x TransformerEncoderLayer(\n",
       "          (self_attn): MultiHeadRelativeAttention(\n",
       "            (w_q): Linear(in_features=256, out_features=256, bias=False)\n",
       "            (w_k): Linear(in_features=256, out_features=256, bias=False)\n",
       "            (w_v): Linear(in_features=256, out_features=256, bias=False)\n",
       "            (out_proj): Linear(in_features=256, out_features=256, bias=False)\n",
       "            (pe_mod): PositionalEncoding(\n",
       "              (dropout): Dropout(p=0.1, inplace=False)\n",
       "            )\n",
       "            (w_k_pos): Linear(in_features=256, out_features=256, bias=False)\n",
       "          )\n",
       "          (linear1): Linear(in_features=256, out_features=1024, bias=True)\n",
       "          (dropout): Dropout(p=0.1, inplace=False)\n",
       "          (linear2): Linear(in_features=1024, out_features=256, bias=True)\n",
       "          (norm1): LayerNorm((256,), eps=1e-05, elementwise_affine=True)\n",
       "          (norm2): LayerNorm((256,), eps=1e-05, elementwise_affine=True)\n",
       "          (dropout1): Dropout(p=0.1, inplace=False)\n",
       "          (dropout2): Dropout(p=0.1, inplace=False)\n",
       "        )\n",
       "      )\n",
       "      (norm): LayerNorm((256,), eps=1e-05, elementwise_affine=True)\n",
       "    )\n",
       "    (decoder): TransformerDecoder(\n",
       "      (layers): ModuleList(\n",
       "        (0-9): 10 x TransformerDecoderLayer(\n",
       "          (self_attn): MultiHeadRelativeAttention(\n",
       "            (w_q): Linear(in_features=256, out_features=256, bias=False)\n",
       "            (w_k): Linear(in_features=256, out_features=256, bias=False)\n",
       "            (w_v): Linear(in_features=256, out_features=256, bias=False)\n",
       "            (out_proj): Linear(in_features=256, out_features=256, bias=False)\n",
       "            (pe_mod): PositionalEncoding(\n",
       "              (dropout): Dropout(p=0.1, inplace=False)\n",
       "            )\n",
       "            (w_k_pos): Linear(in_features=256, out_features=256, bias=False)\n",
       "          )\n",
       "          (multihead_attn): MultiHeadAttention(\n",
       "            (w_q): Linear(in_features=256, out_features=256, bias=False)\n",
       "            (w_k): Linear(in_features=256, out_features=256, bias=False)\n",
       "            (w_v): Linear(in_features=256, out_features=256, bias=False)\n",
       "            (out_proj): Linear(in_features=256, out_features=256, bias=False)\n",
       "          )\n",
       "          (linear1): Linear(in_features=256, out_features=1024, bias=True)\n",
       "          (dropout): Dropout(p=0.1, inplace=False)\n",
       "          (linear2): Linear(in_features=1024, out_features=256, bias=True)\n",
       "          (norm1): LayerNorm((256,), eps=1e-05, elementwise_affine=True)\n",
       "          (norm2): LayerNorm((256,), eps=1e-05, elementwise_affine=True)\n",
       "          (norm3): LayerNorm((256,), eps=1e-05, elementwise_affine=True)\n",
       "          (dropout1): Dropout(p=0.1, inplace=False)\n",
       "          (dropout2): Dropout(p=0.1, inplace=False)\n",
       "          (dropout3): Dropout(p=0.1, inplace=False)\n",
       "        )\n",
       "      )\n",
       "      (norm): LayerNorm((256,), eps=1e-05, elementwise_affine=True)\n",
       "    )\n",
       "  )\n",
       "  (tokens_out): Linear(in_features=256, out_features=34, bias=True)\n",
       ")"
      ]
     },
     "execution_count": 21,
     "metadata": {},
     "output_type": "execute_result"
    }
   ],
   "source": [
    "model = models.Seq2SeqModel(n_tokens = args['tokenizer']['n_tokens'], \n",
    "                          pad_token_id = args['tokenizer']['pad_token_id'],\n",
    "                          **args['model_args'])\n",
    "model.load_state_dict(checkpoint['model_state_dict'])\n",
    "model.to(device)\n",
    "model.eval()"
   ]
  },
  {
   "cell_type": "code",
   "execution_count": 22,
   "metadata": {
    "scrolled": true
   },
   "outputs": [
    {
     "data": {
      "text/plain": [
       "{'input': ['[SOS]', 8, '[EOS]'],\n",
       " 'label': ['[SOS]', 2, '*', 2, '*', 2, '[EOS]']}"
      ]
     },
     "execution_count": 22,
     "metadata": {},
     "output_type": "execute_result"
    }
   ],
   "source": [
    "test_loader.dataset[0]"
   ]
  },
  {
   "cell_type": "code",
   "execution_count": 23,
   "metadata": {},
   "outputs": [
    {
     "data": {
      "application/vnd.jupyter.widget-view+json": {
       "model_id": "",
       "version_major": 2,
       "version_minor": 0
      },
      "text/plain": [
       "  0%|          | 0/856 [00:00<?, ?it/s]"
      ]
     },
     "metadata": {},
     "output_type": "display_data"
    },
    {
     "name": "stderr",
     "output_type": "stream",
     "text": [
      "../problems\\factorization.py:90: RuntimeWarning: invalid value encountered in double_scalars\n",
      "  information['percent_prime_factors_pred'] = information['num_prime_factors_pred'] / information['num_pred_factors']\n"
     ]
    },
    {
     "data": {
      "application/vnd.jupyter.widget-view+json": {
       "model_id": "",
       "version_major": 2,
       "version_minor": 0
      },
      "text/plain": [
       "  0%|          | 0/4 [00:00<?, ?it/s]"
      ]
     },
     "metadata": {},
     "output_type": "display_data"
    },
    {
     "name": "stdout",
     "output_type": "stream",
     "text": [
      "Wall time: 2min 29s\n"
     ]
    }
   ],
   "source": [
    "%%time\n",
    "test_preds, test_metrics = problem.compute_metrics(model, device, test_loader, save=False, n_beams=20)\n",
    "# oos_preds, oos_metrics = problem.compute_metrics(model, device, oos_loader, save=False, n_beams=5)"
   ]
  },
  {
   "cell_type": "code",
   "execution_count": 24,
   "metadata": {
    "scrolled": true
   },
   "outputs": [
    {
     "data": {
      "text/html": [
       "<div>\n",
       "<style scoped>\n",
       "    .dataframe tbody tr th:only-of-type {\n",
       "        vertical-align: middle;\n",
       "    }\n",
       "\n",
       "    .dataframe tbody tr th {\n",
       "        vertical-align: top;\n",
       "    }\n",
       "\n",
       "    .dataframe thead th {\n",
       "        text-align: right;\n",
       "    }\n",
       "</style>\n",
       "<table border=\"1\" class=\"dataframe\">\n",
       "  <thead>\n",
       "    <tr style=\"text-align: right;\">\n",
       "      <th></th>\n",
       "      <th>input_num</th>\n",
       "      <th>model_input</th>\n",
       "      <th>beam_idx</th>\n",
       "      <th>log_prob</th>\n",
       "      <th>pred_str</th>\n",
       "      <th>pred_factor_list</th>\n",
       "      <th>product</th>\n",
       "      <th>num_pred_factors</th>\n",
       "      <th>num_prime_factors_pred</th>\n",
       "      <th>percent_prime_factors_pred</th>\n",
       "      <th>correct_product</th>\n",
       "      <th>correct_factorization</th>\n",
       "      <th>pred_same_as_input</th>\n",
       "      <th>input_is_prime</th>\n",
       "      <th>target_factor_str</th>\n",
       "      <th>target_factor_list</th>\n",
       "      <th>num_target_factors</th>\n",
       "      <th>min_target_prime_factor_if_composite</th>\n",
       "      <th>log_prob_decile</th>\n",
       "    </tr>\n",
       "  </thead>\n",
       "  <tbody>\n",
       "    <tr>\n",
       "      <th>0</th>\n",
       "      <td>8</td>\n",
       "      <td>[[SOS], 8, [EOS]]</td>\n",
       "      <td>0</td>\n",
       "      <td>-0.001551</td>\n",
       "      <td>[SOS] 2 * 2 * 2 [EOS] [PAD] [PAD] [PAD]</td>\n",
       "      <td>[2, 2, 2]</td>\n",
       "      <td>8.0</td>\n",
       "      <td>3</td>\n",
       "      <td>3.0</td>\n",
       "      <td>1.000000</td>\n",
       "      <td>True</td>\n",
       "      <td>True</td>\n",
       "      <td>False</td>\n",
       "      <td>False</td>\n",
       "      <td>[SOS] 2 * 2 * 2 [EOS]</td>\n",
       "      <td>[2, 2, 2]</td>\n",
       "      <td>3</td>\n",
       "      <td>2</td>\n",
       "      <td>(-3.285403, 0.0]</td>\n",
       "    </tr>\n",
       "    <tr>\n",
       "      <th>1</th>\n",
       "      <td>8</td>\n",
       "      <td>[[SOS], 8, [EOS]]</td>\n",
       "      <td>1</td>\n",
       "      <td>-6.526535</td>\n",
       "      <td>[SOS] 2 * 2 * 2 * 1 1 [EOS]</td>\n",
       "      <td>[2, 2, 2, 31]</td>\n",
       "      <td>248.0</td>\n",
       "      <td>4</td>\n",
       "      <td>4.0</td>\n",
       "      <td>1.000000</td>\n",
       "      <td>False</td>\n",
       "      <td>False</td>\n",
       "      <td>False</td>\n",
       "      <td>False</td>\n",
       "      <td>[SOS] 2 * 2 * 2 [EOS]</td>\n",
       "      <td>[2, 2, 2]</td>\n",
       "      <td>3</td>\n",
       "      <td>2</td>\n",
       "      <td>(-6.983982, -4.74091]</td>\n",
       "    </tr>\n",
       "    <tr>\n",
       "      <th>2</th>\n",
       "      <td>8</td>\n",
       "      <td>[[SOS], 8, [EOS]]</td>\n",
       "      <td>2</td>\n",
       "      <td>-9.211891</td>\n",
       "      <td>[SOS] 2 * 2 * 2 [EOS] [PAD] [PAD] 0</td>\n",
       "      <td>[2, 2, 60]</td>\n",
       "      <td>240.0</td>\n",
       "      <td>3</td>\n",
       "      <td>2.0</td>\n",
       "      <td>0.666667</td>\n",
       "      <td>False</td>\n",
       "      <td>False</td>\n",
       "      <td>False</td>\n",
       "      <td>False</td>\n",
       "      <td>[SOS] 2 * 2 * 2 [EOS]</td>\n",
       "      <td>[2, 2, 2]</td>\n",
       "      <td>3</td>\n",
       "      <td>2</td>\n",
       "      <td>(-13.885378999999999, -9.210369]</td>\n",
       "    </tr>\n",
       "    <tr>\n",
       "      <th>3</th>\n",
       "      <td>8</td>\n",
       "      <td>[[SOS], 8, [EOS]]</td>\n",
       "      <td>3</td>\n",
       "      <td>-9.211891</td>\n",
       "      <td>[SOS] 2 * 2 * 2 [EOS] [PAD] [PAD] 1</td>\n",
       "      <td>[2, 2, 61]</td>\n",
       "      <td>244.0</td>\n",
       "      <td>3</td>\n",
       "      <td>3.0</td>\n",
       "      <td>1.000000</td>\n",
       "      <td>False</td>\n",
       "      <td>False</td>\n",
       "      <td>False</td>\n",
       "      <td>False</td>\n",
       "      <td>[SOS] 2 * 2 * 2 [EOS]</td>\n",
       "      <td>[2, 2, 2]</td>\n",
       "      <td>3</td>\n",
       "      <td>2</td>\n",
       "      <td>(-13.885378999999999, -9.210369]</td>\n",
       "    </tr>\n",
       "    <tr>\n",
       "      <th>4</th>\n",
       "      <td>8</td>\n",
       "      <td>[[SOS], 8, [EOS]]</td>\n",
       "      <td>4</td>\n",
       "      <td>-9.211891</td>\n",
       "      <td>[SOS] 2 * 2 * 2 [EOS] [PAD] [PAD] 2</td>\n",
       "      <td>[2, 2, 62]</td>\n",
       "      <td>248.0</td>\n",
       "      <td>3</td>\n",
       "      <td>2.0</td>\n",
       "      <td>0.666667</td>\n",
       "      <td>False</td>\n",
       "      <td>False</td>\n",
       "      <td>False</td>\n",
       "      <td>False</td>\n",
       "      <td>[SOS] 2 * 2 * 2 [EOS]</td>\n",
       "      <td>[2, 2, 2]</td>\n",
       "      <td>3</td>\n",
       "      <td>2</td>\n",
       "      <td>(-13.885378999999999, -9.210369]</td>\n",
       "    </tr>\n",
       "    <tr>\n",
       "      <th>...</th>\n",
       "      <td>...</td>\n",
       "      <td>...</td>\n",
       "      <td>...</td>\n",
       "      <td>...</td>\n",
       "      <td>...</td>\n",
       "      <td>...</td>\n",
       "      <td>...</td>\n",
       "      <td>...</td>\n",
       "      <td>...</td>\n",
       "      <td>...</td>\n",
       "      <td>...</td>\n",
       "      <td>...</td>\n",
       "      <td>...</td>\n",
       "      <td>...</td>\n",
       "      <td>...</td>\n",
       "      <td>...</td>\n",
       "      <td>...</td>\n",
       "      <td>...</td>\n",
       "      <td>...</td>\n",
       "    </tr>\n",
       "    <tr>\n",
       "      <th>17115</th>\n",
       "      <td>8184</td>\n",
       "      <td>[[SOS], 9, 2, 24, [EOS]]</td>\n",
       "      <td>15</td>\n",
       "      <td>-9.210367</td>\n",
       "      <td>[SOS] 2 * 2 * 2 * 3 * 11 * 1 1 [EOS] 14</td>\n",
       "      <td>[2, 2, 2, 3, 11, 944]</td>\n",
       "      <td>249216.0</td>\n",
       "      <td>6</td>\n",
       "      <td>5.0</td>\n",
       "      <td>0.833333</td>\n",
       "      <td>False</td>\n",
       "      <td>False</td>\n",
       "      <td>False</td>\n",
       "      <td>False</td>\n",
       "      <td>[SOS] 2 * 2 * 2 * 3 * 11 * 1 1 [EOS]</td>\n",
       "      <td>[2, 2, 2, 3, 11, 31]</td>\n",
       "      <td>6</td>\n",
       "      <td>2</td>\n",
       "      <td>(-9.210369, -9.210348]</td>\n",
       "    </tr>\n",
       "    <tr>\n",
       "      <th>17116</th>\n",
       "      <td>8184</td>\n",
       "      <td>[[SOS], 9, 2, 24, [EOS]]</td>\n",
       "      <td>16</td>\n",
       "      <td>-9.210367</td>\n",
       "      <td>[SOS] 2 * 2 * 2 * 3 * 11 * 1 1 [EOS] 15</td>\n",
       "      <td>[2, 2, 2, 3, 11, 945]</td>\n",
       "      <td>249480.0</td>\n",
       "      <td>6</td>\n",
       "      <td>5.0</td>\n",
       "      <td>0.833333</td>\n",
       "      <td>False</td>\n",
       "      <td>False</td>\n",
       "      <td>False</td>\n",
       "      <td>False</td>\n",
       "      <td>[SOS] 2 * 2 * 2 * 3 * 11 * 1 1 [EOS]</td>\n",
       "      <td>[2, 2, 2, 3, 11, 31]</td>\n",
       "      <td>6</td>\n",
       "      <td>2</td>\n",
       "      <td>(-9.210369, -9.210348]</td>\n",
       "    </tr>\n",
       "    <tr>\n",
       "      <th>17117</th>\n",
       "      <td>8184</td>\n",
       "      <td>[[SOS], 9, 2, 24, [EOS]]</td>\n",
       "      <td>17</td>\n",
       "      <td>-9.210367</td>\n",
       "      <td>[SOS] 2 * 2 * 2 * 3 * 11 * 1 1 [EOS] 16</td>\n",
       "      <td>[2, 2, 2, 3, 11, 946]</td>\n",
       "      <td>249744.0</td>\n",
       "      <td>6</td>\n",
       "      <td>5.0</td>\n",
       "      <td>0.833333</td>\n",
       "      <td>False</td>\n",
       "      <td>False</td>\n",
       "      <td>False</td>\n",
       "      <td>False</td>\n",
       "      <td>[SOS] 2 * 2 * 2 * 3 * 11 * 1 1 [EOS]</td>\n",
       "      <td>[2, 2, 2, 3, 11, 31]</td>\n",
       "      <td>6</td>\n",
       "      <td>2</td>\n",
       "      <td>(-9.210369, -9.210348]</td>\n",
       "    </tr>\n",
       "    <tr>\n",
       "      <th>17118</th>\n",
       "      <td>8184</td>\n",
       "      <td>[[SOS], 9, 2, 24, [EOS]]</td>\n",
       "      <td>18</td>\n",
       "      <td>-9.210367</td>\n",
       "      <td>[SOS] 2 * 2 * 2 * 3 * 11 * 1 1 [EOS] 17</td>\n",
       "      <td>[2, 2, 2, 3, 11, 947]</td>\n",
       "      <td>250008.0</td>\n",
       "      <td>6</td>\n",
       "      <td>6.0</td>\n",
       "      <td>1.000000</td>\n",
       "      <td>False</td>\n",
       "      <td>False</td>\n",
       "      <td>False</td>\n",
       "      <td>False</td>\n",
       "      <td>[SOS] 2 * 2 * 2 * 3 * 11 * 1 1 [EOS]</td>\n",
       "      <td>[2, 2, 2, 3, 11, 31]</td>\n",
       "      <td>6</td>\n",
       "      <td>2</td>\n",
       "      <td>(-9.210369, -9.210348]</td>\n",
       "    </tr>\n",
       "    <tr>\n",
       "      <th>17119</th>\n",
       "      <td>8184</td>\n",
       "      <td>[[SOS], 9, 2, 24, [EOS]]</td>\n",
       "      <td>19</td>\n",
       "      <td>-9.210367</td>\n",
       "      <td>[SOS] 2 * 2 * 2 * 3 * 11 * 1 1 [EOS] 18</td>\n",
       "      <td>[2, 2, 2, 3, 11, 948]</td>\n",
       "      <td>250272.0</td>\n",
       "      <td>6</td>\n",
       "      <td>5.0</td>\n",
       "      <td>0.833333</td>\n",
       "      <td>False</td>\n",
       "      <td>False</td>\n",
       "      <td>False</td>\n",
       "      <td>False</td>\n",
       "      <td>[SOS] 2 * 2 * 2 * 3 * 11 * 1 1 [EOS]</td>\n",
       "      <td>[2, 2, 2, 3, 11, 31]</td>\n",
       "      <td>6</td>\n",
       "      <td>2</td>\n",
       "      <td>(-9.210369, -9.210348]</td>\n",
       "    </tr>\n",
       "  </tbody>\n",
       "</table>\n",
       "<p>17120 rows × 19 columns</p>\n",
       "</div>"
      ],
      "text/plain": [
       "       input_num               model_input  beam_idx  log_prob  \\\n",
       "0              8         [[SOS], 8, [EOS]]         0 -0.001551   \n",
       "1              8         [[SOS], 8, [EOS]]         1 -6.526535   \n",
       "2              8         [[SOS], 8, [EOS]]         2 -9.211891   \n",
       "3              8         [[SOS], 8, [EOS]]         3 -9.211891   \n",
       "4              8         [[SOS], 8, [EOS]]         4 -9.211891   \n",
       "...          ...                       ...       ...       ...   \n",
       "17115       8184  [[SOS], 9, 2, 24, [EOS]]        15 -9.210367   \n",
       "17116       8184  [[SOS], 9, 2, 24, [EOS]]        16 -9.210367   \n",
       "17117       8184  [[SOS], 9, 2, 24, [EOS]]        17 -9.210367   \n",
       "17118       8184  [[SOS], 9, 2, 24, [EOS]]        18 -9.210367   \n",
       "17119       8184  [[SOS], 9, 2, 24, [EOS]]        19 -9.210367   \n",
       "\n",
       "                                      pred_str       pred_factor_list  \\\n",
       "0      [SOS] 2 * 2 * 2 [EOS] [PAD] [PAD] [PAD]              [2, 2, 2]   \n",
       "1                  [SOS] 2 * 2 * 2 * 1 1 [EOS]          [2, 2, 2, 31]   \n",
       "2          [SOS] 2 * 2 * 2 [EOS] [PAD] [PAD] 0             [2, 2, 60]   \n",
       "3          [SOS] 2 * 2 * 2 [EOS] [PAD] [PAD] 1             [2, 2, 61]   \n",
       "4          [SOS] 2 * 2 * 2 [EOS] [PAD] [PAD] 2             [2, 2, 62]   \n",
       "...                                        ...                    ...   \n",
       "17115  [SOS] 2 * 2 * 2 * 3 * 11 * 1 1 [EOS] 14  [2, 2, 2, 3, 11, 944]   \n",
       "17116  [SOS] 2 * 2 * 2 * 3 * 11 * 1 1 [EOS] 15  [2, 2, 2, 3, 11, 945]   \n",
       "17117  [SOS] 2 * 2 * 2 * 3 * 11 * 1 1 [EOS] 16  [2, 2, 2, 3, 11, 946]   \n",
       "17118  [SOS] 2 * 2 * 2 * 3 * 11 * 1 1 [EOS] 17  [2, 2, 2, 3, 11, 947]   \n",
       "17119  [SOS] 2 * 2 * 2 * 3 * 11 * 1 1 [EOS] 18  [2, 2, 2, 3, 11, 948]   \n",
       "\n",
       "        product  num_pred_factors  num_prime_factors_pred  \\\n",
       "0           8.0                 3                     3.0   \n",
       "1         248.0                 4                     4.0   \n",
       "2         240.0                 3                     2.0   \n",
       "3         244.0                 3                     3.0   \n",
       "4         248.0                 3                     2.0   \n",
       "...         ...               ...                     ...   \n",
       "17115  249216.0                 6                     5.0   \n",
       "17116  249480.0                 6                     5.0   \n",
       "17117  249744.0                 6                     5.0   \n",
       "17118  250008.0                 6                     6.0   \n",
       "17119  250272.0                 6                     5.0   \n",
       "\n",
       "       percent_prime_factors_pred  correct_product  correct_factorization  \\\n",
       "0                        1.000000             True                   True   \n",
       "1                        1.000000            False                  False   \n",
       "2                        0.666667            False                  False   \n",
       "3                        1.000000            False                  False   \n",
       "4                        0.666667            False                  False   \n",
       "...                           ...              ...                    ...   \n",
       "17115                    0.833333            False                  False   \n",
       "17116                    0.833333            False                  False   \n",
       "17117                    0.833333            False                  False   \n",
       "17118                    1.000000            False                  False   \n",
       "17119                    0.833333            False                  False   \n",
       "\n",
       "       pred_same_as_input  input_is_prime  \\\n",
       "0                   False           False   \n",
       "1                   False           False   \n",
       "2                   False           False   \n",
       "3                   False           False   \n",
       "4                   False           False   \n",
       "...                   ...             ...   \n",
       "17115               False           False   \n",
       "17116               False           False   \n",
       "17117               False           False   \n",
       "17118               False           False   \n",
       "17119               False           False   \n",
       "\n",
       "                          target_factor_str    target_factor_list  \\\n",
       "0                     [SOS] 2 * 2 * 2 [EOS]             [2, 2, 2]   \n",
       "1                     [SOS] 2 * 2 * 2 [EOS]             [2, 2, 2]   \n",
       "2                     [SOS] 2 * 2 * 2 [EOS]             [2, 2, 2]   \n",
       "3                     [SOS] 2 * 2 * 2 [EOS]             [2, 2, 2]   \n",
       "4                     [SOS] 2 * 2 * 2 [EOS]             [2, 2, 2]   \n",
       "...                                     ...                   ...   \n",
       "17115  [SOS] 2 * 2 * 2 * 3 * 11 * 1 1 [EOS]  [2, 2, 2, 3, 11, 31]   \n",
       "17116  [SOS] 2 * 2 * 2 * 3 * 11 * 1 1 [EOS]  [2, 2, 2, 3, 11, 31]   \n",
       "17117  [SOS] 2 * 2 * 2 * 3 * 11 * 1 1 [EOS]  [2, 2, 2, 3, 11, 31]   \n",
       "17118  [SOS] 2 * 2 * 2 * 3 * 11 * 1 1 [EOS]  [2, 2, 2, 3, 11, 31]   \n",
       "17119  [SOS] 2 * 2 * 2 * 3 * 11 * 1 1 [EOS]  [2, 2, 2, 3, 11, 31]   \n",
       "\n",
       "       num_target_factors  min_target_prime_factor_if_composite  \\\n",
       "0                       3                                     2   \n",
       "1                       3                                     2   \n",
       "2                       3                                     2   \n",
       "3                       3                                     2   \n",
       "4                       3                                     2   \n",
       "...                   ...                                   ...   \n",
       "17115                   6                                     2   \n",
       "17116                   6                                     2   \n",
       "17117                   6                                     2   \n",
       "17118                   6                                     2   \n",
       "17119                   6                                     2   \n",
       "\n",
       "                        log_prob_decile  \n",
       "0                      (-3.285403, 0.0]  \n",
       "1                 (-6.983982, -4.74091]  \n",
       "2      (-13.885378999999999, -9.210369]  \n",
       "3      (-13.885378999999999, -9.210369]  \n",
       "4      (-13.885378999999999, -9.210369]  \n",
       "...                                 ...  \n",
       "17115            (-9.210369, -9.210348]  \n",
       "17116            (-9.210369, -9.210348]  \n",
       "17117            (-9.210369, -9.210348]  \n",
       "17118            (-9.210369, -9.210348]  \n",
       "17119            (-9.210369, -9.210348]  \n",
       "\n",
       "[17120 rows x 19 columns]"
      ]
     },
     "execution_count": 24,
     "metadata": {},
     "output_type": "execute_result"
    }
   ],
   "source": [
    "test_preds"
   ]
  },
  {
   "cell_type": "code",
   "execution_count": 25,
   "metadata": {},
   "outputs": [
    {
     "data": {
      "text/plain": [
       "1.0"
      ]
     },
     "execution_count": 25,
     "metadata": {},
     "output_type": "execute_result"
    }
   ],
   "source": [
    "test_preds.groupby('input_num')['correct_factorization'].any().mean()"
   ]
  },
  {
   "cell_type": "code",
   "execution_count": 26,
   "metadata": {},
   "outputs": [],
   "source": [
    "import pprint"
   ]
  },
  {
   "cell_type": "code",
   "execution_count": 27,
   "metadata": {},
   "outputs": [
    {
     "data": {
      "text/plain": [
       "dict_keys(['correct', 'beam_accuracy', 'by_prob', 'by_num_target_factors', 'by_input_num', 'pred_same_as_input_beam_0', 'by_min_factor_composite_only', 'loss', 'meta'])"
      ]
     },
     "execution_count": 27,
     "metadata": {},
     "output_type": "execute_result"
    }
   ],
   "source": [
    "test_metrics.keys()"
   ]
  },
  {
   "cell_type": "code",
   "execution_count": 28,
   "metadata": {
    "scrolled": true
   },
   "outputs": [
    {
     "data": {
      "text/html": [
       "<div>\n",
       "<style scoped>\n",
       "    .dataframe tbody tr th:only-of-type {\n",
       "        vertical-align: middle;\n",
       "    }\n",
       "\n",
       "    .dataframe tbody tr th {\n",
       "        vertical-align: top;\n",
       "    }\n",
       "\n",
       "    .dataframe thead th {\n",
       "        text-align: right;\n",
       "    }\n",
       "</style>\n",
       "<table border=\"1\" class=\"dataframe\">\n",
       "  <thead>\n",
       "    <tr style=\"text-align: right;\">\n",
       "      <th></th>\n",
       "      <th>correct_product</th>\n",
       "      <th>correct_factorization</th>\n",
       "    </tr>\n",
       "  </thead>\n",
       "  <tbody>\n",
       "    <tr>\n",
       "      <th>0</th>\n",
       "      <td>0.997664</td>\n",
       "      <td>0.867991</td>\n",
       "    </tr>\n",
       "    <tr>\n",
       "      <th>1</th>\n",
       "      <td>0.057243</td>\n",
       "      <td>0.046729</td>\n",
       "    </tr>\n",
       "    <tr>\n",
       "      <th>2</th>\n",
       "      <td>0.029206</td>\n",
       "      <td>0.029206</td>\n",
       "    </tr>\n",
       "    <tr>\n",
       "      <th>3</th>\n",
       "      <td>0.016355</td>\n",
       "      <td>0.014019</td>\n",
       "    </tr>\n",
       "    <tr>\n",
       "      <th>4</th>\n",
       "      <td>0.014019</td>\n",
       "      <td>0.010514</td>\n",
       "    </tr>\n",
       "    <tr>\n",
       "      <th>5</th>\n",
       "      <td>0.012850</td>\n",
       "      <td>0.011682</td>\n",
       "    </tr>\n",
       "    <tr>\n",
       "      <th>6</th>\n",
       "      <td>0.016355</td>\n",
       "      <td>0.014019</td>\n",
       "    </tr>\n",
       "    <tr>\n",
       "      <th>7</th>\n",
       "      <td>0.004673</td>\n",
       "      <td>0.004673</td>\n",
       "    </tr>\n",
       "    <tr>\n",
       "      <th>8</th>\n",
       "      <td>0.003505</td>\n",
       "      <td>0.003505</td>\n",
       "    </tr>\n",
       "    <tr>\n",
       "      <th>9</th>\n",
       "      <td>0.004673</td>\n",
       "      <td>0.004673</td>\n",
       "    </tr>\n",
       "    <tr>\n",
       "      <th>10</th>\n",
       "      <td>0.003505</td>\n",
       "      <td>0.002336</td>\n",
       "    </tr>\n",
       "    <tr>\n",
       "      <th>11</th>\n",
       "      <td>0.001168</td>\n",
       "      <td>0.001168</td>\n",
       "    </tr>\n",
       "    <tr>\n",
       "      <th>12</th>\n",
       "      <td>0.000000</td>\n",
       "      <td>0.000000</td>\n",
       "    </tr>\n",
       "    <tr>\n",
       "      <th>13</th>\n",
       "      <td>0.003505</td>\n",
       "      <td>0.003505</td>\n",
       "    </tr>\n",
       "    <tr>\n",
       "      <th>14</th>\n",
       "      <td>0.000000</td>\n",
       "      <td>0.000000</td>\n",
       "    </tr>\n",
       "    <tr>\n",
       "      <th>15</th>\n",
       "      <td>0.001168</td>\n",
       "      <td>0.001168</td>\n",
       "    </tr>\n",
       "    <tr>\n",
       "      <th>16</th>\n",
       "      <td>0.004673</td>\n",
       "      <td>0.004673</td>\n",
       "    </tr>\n",
       "    <tr>\n",
       "      <th>17</th>\n",
       "      <td>0.000000</td>\n",
       "      <td>0.000000</td>\n",
       "    </tr>\n",
       "    <tr>\n",
       "      <th>18</th>\n",
       "      <td>0.000000</td>\n",
       "      <td>0.000000</td>\n",
       "    </tr>\n",
       "    <tr>\n",
       "      <th>19</th>\n",
       "      <td>0.000000</td>\n",
       "      <td>0.000000</td>\n",
       "    </tr>\n",
       "  </tbody>\n",
       "</table>\n",
       "</div>"
      ],
      "text/plain": [
       "    correct_product  correct_factorization\n",
       "0          0.997664               0.867991\n",
       "1          0.057243               0.046729\n",
       "2          0.029206               0.029206\n",
       "3          0.016355               0.014019\n",
       "4          0.014019               0.010514\n",
       "5          0.012850               0.011682\n",
       "6          0.016355               0.014019\n",
       "7          0.004673               0.004673\n",
       "8          0.003505               0.003505\n",
       "9          0.004673               0.004673\n",
       "10         0.003505               0.002336\n",
       "11         0.001168               0.001168\n",
       "12         0.000000               0.000000\n",
       "13         0.003505               0.003505\n",
       "14         0.000000               0.000000\n",
       "15         0.001168               0.001168\n",
       "16         0.004673               0.004673\n",
       "17         0.000000               0.000000\n",
       "18         0.000000               0.000000\n",
       "19         0.000000               0.000000"
      ]
     },
     "execution_count": 28,
     "metadata": {},
     "output_type": "execute_result"
    }
   ],
   "source": [
    "pd.DataFrame(test_metrics['beam_accuracy'])"
   ]
  },
  {
   "cell_type": "code",
   "execution_count": 29,
   "metadata": {},
   "outputs": [
    {
     "data": {
      "text/html": [
       "<div>\n",
       "<style scoped>\n",
       "    .dataframe tbody tr th:only-of-type {\n",
       "        vertical-align: middle;\n",
       "    }\n",
       "\n",
       "    .dataframe tbody tr th {\n",
       "        vertical-align: top;\n",
       "    }\n",
       "\n",
       "    .dataframe thead th {\n",
       "        text-align: right;\n",
       "    }\n",
       "</style>\n",
       "<table border=\"1\" class=\"dataframe\">\n",
       "  <thead>\n",
       "    <tr style=\"text-align: right;\">\n",
       "      <th></th>\n",
       "      <th>0</th>\n",
       "      <th>1</th>\n",
       "    </tr>\n",
       "  </thead>\n",
       "  <tbody>\n",
       "    <tr>\n",
       "      <th>input_is_prime</th>\n",
       "      <td>False</td>\n",
       "      <td>True</td>\n",
       "    </tr>\n",
       "    <tr>\n",
       "      <th>pred_same_as_input</th>\n",
       "      <td>False</td>\n",
       "      <td>False</td>\n",
       "    </tr>\n",
       "    <tr>\n",
       "      <th>group_size</th>\n",
       "      <td>751</td>\n",
       "      <td>105</td>\n",
       "    </tr>\n",
       "    <tr>\n",
       "      <th>correct_product_mean</th>\n",
       "      <td>0.997337</td>\n",
       "      <td>1.0</td>\n",
       "    </tr>\n",
       "    <tr>\n",
       "      <th>correct_factorization_mean</th>\n",
       "      <td>0.849534</td>\n",
       "      <td>1.0</td>\n",
       "    </tr>\n",
       "  </tbody>\n",
       "</table>\n",
       "</div>"
      ],
      "text/plain": [
       "                                   0      1\n",
       "input_is_prime                 False   True\n",
       "pred_same_as_input             False  False\n",
       "group_size                       751    105\n",
       "correct_product_mean        0.997337    1.0\n",
       "correct_factorization_mean  0.849534    1.0"
      ]
     },
     "execution_count": 29,
     "metadata": {},
     "output_type": "execute_result"
    }
   ],
   "source": [
    "pd.DataFrame(test_metrics['pred_same_as_input_beam_0'])"
   ]
  },
  {
   "cell_type": "code",
   "execution_count": null,
   "metadata": {},
   "outputs": [],
   "source": []
  },
  {
   "cell_type": "code",
   "execution_count": null,
   "metadata": {},
   "outputs": [],
   "source": []
  },
  {
   "cell_type": "code",
   "execution_count": null,
   "metadata": {},
   "outputs": [],
   "source": []
  }
 ],
 "metadata": {
  "kernelspec": {
   "display_name": "Python 3",
   "language": "python",
   "name": "python3"
  },
  "language_info": {
   "codemirror_mode": {
    "name": "ipython",
    "version": 3
   },
   "file_extension": ".py",
   "mimetype": "text/x-python",
   "name": "python",
   "nbconvert_exporter": "python",
   "pygments_lexer": "ipython3",
   "version": "3.8.7"
  }
 },
 "nbformat": 4,
 "nbformat_minor": 4
}
