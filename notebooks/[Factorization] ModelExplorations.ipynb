{
 "cells": [
  {
   "cell_type": "code",
   "execution_count": 1,
   "metadata": {},
   "outputs": [],
   "source": [
    "import numpy as np\n",
    "import pandas as pd\n",
    "import torch\n",
    "import torch.nn as nn\n",
    "import matplotlib.pyplot as plt\n",
    "import os\n",
    "import sys\n",
    "sys.path.append('../src/')\n",
    "sys.path.append('../problems/')\n",
    "sys.path.append('../scripts/')\n",
    "sys.path.append('../scripts/dataset_generation/')\n",
    "import models\n",
    "import generation_utils\n",
    "import metrics_utils\n",
    "import tokenizer\n",
    "import data_utils\n",
    "from utils import get_best_checkpoint\n",
    "from factorization import Factorization\n",
    "from train_model import get_loaders\n"
   ]
  },
  {
   "cell_type": "code",
   "execution_count": 2,
   "metadata": {},
   "outputs": [
    {
     "data": {
      "text/html": [
       "<style>.container { width:100% !important; }</style>"
      ],
      "text/plain": [
       "<IPython.core.display.HTML object>"
      ]
     },
     "metadata": {},
     "output_type": "display_data"
    }
   ],
   "source": [
    "from IPython.core.display import display, HTML\n",
    "display(HTML(\"<style>.container { width:100% !important; }</style>\"))"
   ]
  },
  {
   "cell_type": "code",
   "execution_count": 3,
   "metadata": {},
   "outputs": [],
   "source": [
    "pd.set_option('display.max_colwidth', 999)\n",
    "pd.set_option('display.max_rows', 20)"
   ]
  },
  {
   "cell_type": "code",
   "execution_count": 4,
   "metadata": {},
   "outputs": [],
   "source": [
    "device = torch.device('cuda')"
   ]
  },
  {
   "cell_type": "code",
   "execution_count": 5,
   "metadata": {},
   "outputs": [],
   "source": [
    "base_path = '../models/factorization/2^22/scaled/'"
   ]
  },
  {
   "cell_type": "code",
   "execution_count": 6,
   "metadata": {},
   "outputs": [
    {
     "name": "stdout",
     "output_type": "stream",
     "text": [
      "Loading model at ../models/factorization/2^22/scaled/checkpoints/389150_0.0727.pt\n"
     ]
    }
   ],
   "source": [
    "checkpoint = get_best_checkpoint(base_path)"
   ]
  },
  {
   "cell_type": "code",
   "execution_count": 7,
   "metadata": {},
   "outputs": [],
   "source": [
    "args = checkpoint['args']"
   ]
  },
  {
   "cell_type": "code",
   "execution_count": 8,
   "metadata": {},
   "outputs": [],
   "source": [
    "problem = Factorization(args)"
   ]
  },
  {
   "cell_type": "code",
   "execution_count": 9,
   "metadata": {},
   "outputs": [],
   "source": [
    "t = problem.get_tokenizer()"
   ]
  },
  {
   "cell_type": "code",
   "execution_count": 10,
   "metadata": {
    "scrolled": true
   },
   "outputs": [
    {
     "data": {
      "text/plain": [
       "dict_keys(['data', 'problem_type', 'model_args', 'optimizer', 'scheduler', 'loader', 'io', 'metrics', 'verbose', 'wandb', 'resume_training', 'tokenizer'])"
      ]
     },
     "execution_count": 10,
     "metadata": {},
     "output_type": "execute_result"
    }
   ],
   "source": [
    "args.keys()"
   ]
  },
  {
   "cell_type": "code",
   "execution_count": 11,
   "metadata": {
    "scrolled": true
   },
   "outputs": [
    {
     "data": {
      "text/plain": [
       "Seq2SeqModel(\n",
       "  (src_embedding): TransformerEmbedding(\n",
       "    (embedding): Embedding(34, 256)\n",
       "  )\n",
       "  (tgt_embedding): TransformerEmbedding(\n",
       "    (embedding): Embedding(34, 256)\n",
       "  )\n",
       "  (positional_encoding): PositionalEncoding(\n",
       "    (dropout): Dropout(p=0.1, inplace=False)\n",
       "  )\n",
       "  (transformer): Transformer(\n",
       "    (encoder): TransformerEncoder(\n",
       "      (layers): ModuleList(\n",
       "        (0-9): 10 x TransformerEncoderLayer(\n",
       "          (self_attn): MultiHeadRelativeAttention(\n",
       "            (w_q): Linear(in_features=256, out_features=256, bias=False)\n",
       "            (w_k): Linear(in_features=256, out_features=256, bias=False)\n",
       "            (w_v): Linear(in_features=256, out_features=256, bias=False)\n",
       "            (out_proj): Linear(in_features=256, out_features=256, bias=False)\n",
       "            (pe_mod): PositionalEncoding(\n",
       "              (dropout): Dropout(p=0.1, inplace=False)\n",
       "            )\n",
       "            (w_k_pos): Linear(in_features=256, out_features=256, bias=False)\n",
       "          )\n",
       "          (linear1): Linear(in_features=256, out_features=1024, bias=True)\n",
       "          (dropout): Dropout(p=0.1, inplace=False)\n",
       "          (linear2): Linear(in_features=1024, out_features=256, bias=True)\n",
       "          (norm1): LayerNorm((256,), eps=1e-05, elementwise_affine=True)\n",
       "          (norm2): LayerNorm((256,), eps=1e-05, elementwise_affine=True)\n",
       "          (dropout1): Dropout(p=0.1, inplace=False)\n",
       "          (dropout2): Dropout(p=0.1, inplace=False)\n",
       "        )\n",
       "      )\n",
       "      (norm): LayerNorm((256,), eps=1e-05, elementwise_affine=True)\n",
       "    )\n",
       "    (decoder): TransformerDecoder(\n",
       "      (layers): ModuleList(\n",
       "        (0-9): 10 x TransformerDecoderLayer(\n",
       "          (self_attn): MultiHeadRelativeAttention(\n",
       "            (w_q): Linear(in_features=256, out_features=256, bias=False)\n",
       "            (w_k): Linear(in_features=256, out_features=256, bias=False)\n",
       "            (w_v): Linear(in_features=256, out_features=256, bias=False)\n",
       "            (out_proj): Linear(in_features=256, out_features=256, bias=False)\n",
       "            (pe_mod): PositionalEncoding(\n",
       "              (dropout): Dropout(p=0.1, inplace=False)\n",
       "            )\n",
       "            (w_k_pos): Linear(in_features=256, out_features=256, bias=False)\n",
       "          )\n",
       "          (multihead_attn): MultiHeadAttention(\n",
       "            (w_q): Linear(in_features=256, out_features=256, bias=False)\n",
       "            (w_k): Linear(in_features=256, out_features=256, bias=False)\n",
       "            (w_v): Linear(in_features=256, out_features=256, bias=False)\n",
       "            (out_proj): Linear(in_features=256, out_features=256, bias=False)\n",
       "          )\n",
       "          (linear1): Linear(in_features=256, out_features=1024, bias=True)\n",
       "          (dropout): Dropout(p=0.1, inplace=False)\n",
       "          (linear2): Linear(in_features=1024, out_features=256, bias=True)\n",
       "          (norm1): LayerNorm((256,), eps=1e-05, elementwise_affine=True)\n",
       "          (norm2): LayerNorm((256,), eps=1e-05, elementwise_affine=True)\n",
       "          (norm3): LayerNorm((256,), eps=1e-05, elementwise_affine=True)\n",
       "          (dropout1): Dropout(p=0.1, inplace=False)\n",
       "          (dropout2): Dropout(p=0.1, inplace=False)\n",
       "          (dropout3): Dropout(p=0.1, inplace=False)\n",
       "        )\n",
       "      )\n",
       "      (norm): LayerNorm((256,), eps=1e-05, elementwise_affine=True)\n",
       "    )\n",
       "  )\n",
       "  (tokens_out): Linear(in_features=256, out_features=34, bias=True)\n",
       ")"
      ]
     },
     "execution_count": 11,
     "metadata": {},
     "output_type": "execute_result"
    }
   ],
   "source": [
    "model = models.Seq2SeqModel(n_tokens = args['tokenizer']['n_tokens'], \n",
    "                          pad_token_id = args['tokenizer']['pad_token_id'],\n",
    "                          **args['model_args'])\n",
    "model.load_state_dict(checkpoint['model_state_dict'])\n",
    "model.to(device)\n",
    "model.eval()"
   ]
  },
  {
   "cell_type": "markdown",
   "metadata": {},
   "source": [
    "## Model Performance"
   ]
  },
  {
   "cell_type": "code",
   "execution_count": 12,
   "metadata": {},
   "outputs": [],
   "source": [
    "for key in ['train', 'test', 'oos']:\n",
    "    if not args['data'][f'{key}_path'].startswith('streaming_'):\n",
    "        args['data'][f'{key}_path'] = '../' + args['data'][f'{key}_path']"
   ]
  },
  {
   "cell_type": "code",
   "execution_count": 13,
   "metadata": {},
   "outputs": [
    {
     "name": "stdout",
     "output_type": "stream",
     "text": [
      "Loading data...\n"
     ]
    }
   ],
   "source": [
    "train_loader, test_loader, oos_loader = get_loaders(problem)"
   ]
  },
  {
   "cell_type": "code",
   "execution_count": 14,
   "metadata": {
    "scrolled": false
   },
   "outputs": [
    {
     "data": {
      "application/vnd.jupyter.widget-view+json": {
       "model_id": "",
       "version_major": 2,
       "version_minor": 0
      },
      "text/plain": [
       "  0%|          | 0/209624 [00:00<?, ?it/s]"
      ]
     },
     "metadata": {},
     "output_type": "display_data"
    },
    {
     "name": "stderr",
     "output_type": "stream",
     "text": [
      "../problems\\factorization.py:90: RuntimeWarning: invalid value encountered in double_scalars\n",
      "  information['percent_prime_factors_pred'] = information['num_prime_factors_pred'] / information['num_pred_factors']\n"
     ]
    },
    {
     "data": {
      "application/vnd.jupyter.widget-view+json": {
       "model_id": "",
       "version_major": 2,
       "version_minor": 0
      },
      "text/plain": [
       "  0%|          | 0/819 [00:00<?, ?it/s]"
      ]
     },
     "metadata": {},
     "output_type": "display_data"
    }
   ],
   "source": [
    "test_df, test_metrics = problem.compute_metrics(model, device, test_loader, save=False, n_beams=64)"
   ]
  },
  {
   "cell_type": "code",
   "execution_count": 16,
   "metadata": {},
   "outputs": [],
   "source": [
    "import json\n",
    "with open('factorization_scaled_test_metrics_64.json', 'w') as f:\n",
    "    json.dump(test_metrics, f)"
   ]
  },
  {
   "cell_type": "code",
   "execution_count": 15,
   "metadata": {},
   "outputs": [],
   "source": [
    "test_df.to_csv('factorization_scaled_test_preds_64.csv')"
   ]
  },
  {
   "cell_type": "code",
   "execution_count": 17,
   "metadata": {},
   "outputs": [
    {
     "data": {
      "text/plain": [
       "{'correct': {'correct_product': 1.0,\n",
       "  'correct_factorization': 0.963286646567187},\n",
       " 'beam_accuracy': {'correct_product': {0: 0.9901776514139602,\n",
       "   1: 0.15494409037133153,\n",
       "   2: 0.07555909628668474,\n",
       "   3: 0.050862496660687706,\n",
       "   4: 0.03734305232225318,\n",
       "   5: 0.028594054115940924,\n",
       "   6: 0.02238293325191772,\n",
       "   7: 0.019215357020188527,\n",
       "   8: 0.01513185513109186,\n",
       "   9: 0.01343357630805633,\n",
       "   10: 0.011949967560966302,\n",
       "   11: 0.01083368316604969,\n",
       "   12: 0.009383467541884518,\n",
       "   13: 0.008190856008853949,\n",
       "   14: 0.007790138533755677,\n",
       "   15: 0.0075754684578101745,\n",
       "   16: 0.006983933137427012,\n",
       "   17: 0.0065593634316681295,\n",
       "   18: 0.006048925695531046,\n",
       "   19: 0.005967828111284967,\n",
       "   20: 0.005629126435904286,\n",
       "   21: 0.0052856543143914815,\n",
       "   22: 0.005032820669389001,\n",
       "   23: 0.004894477731557456,\n",
       "   24: 0.004598710071365874,\n",
       "   25: 0.0044508262412700835,\n",
       "   26: 0.004264778842117315,\n",
       "   27: 0.003959470289661489,\n",
       "   28: 0.004002404304850589,\n",
       "   29: 0.003678013967866275,\n",
       "   30: 0.003639850398809297,\n",
       "   31: 0.20949891233828188,\n",
       "   32: 0.2638295233370225,\n",
       "   33: 0.09625806205396328,\n",
       "   34: 0.05758882570698012,\n",
       "   35: 0.041154638781818874,\n",
       "   36: 0.03202877533106896,\n",
       "   37: 0.026189749265351295,\n",
       "   38: 0.021538564286532075,\n",
       "   39: 0.018595199023012633,\n",
       "   40: 0.01641033469450063,\n",
       "   41: 0.014468763118726862,\n",
       "   42: 0.013133038201732627,\n",
       "   43: 0.011964278899362668,\n",
       "   44: 0.01091955119642789,\n",
       "   45: 0.00991298706255009,\n",
       "   46: 0.009545662710376674,\n",
       "   47: 0.008834866236690456,\n",
       "   48: 0.008224249131778804,\n",
       "   49: 0.00781876121054841,\n",
       "   50: 0.007880777010266,\n",
       "   51: 0.007141357859787047,\n",
       "   52: 0.006692935923367553,\n",
       "   53: 0.006630920123649964,\n",
       "   54: 0.006373316032515361,\n",
       "   55: 0.005986909895813457,\n",
       "   56: 0.0059535167728886,\n",
       "   57: 0.005791321604396443,\n",
       "   58: 0.005381063237033927,\n",
       "   59: 0.005032820669389001,\n",
       "   60: 0.004899248177689578,\n",
       "   61: 0.004379269549288249,\n",
       "   62: 0.00431725374957066,\n",
       "   63: 0.1852841277716292},\n",
       "  'correct_factorization': {0: 0.6245420371713163,\n",
       "   1: 0.06769740106094722,\n",
       "   2: 0.04682192878678014,\n",
       "   3: 0.035959622943937716,\n",
       "   4: 0.028522497423959087,\n",
       "   5: 0.022945845895508146,\n",
       "   6: 0.018146777086593138,\n",
       "   7: 0.015852192497042325,\n",
       "   8: 0.01263691180399191,\n",
       "   9: 0.011315498225394039,\n",
       "   10: 0.01010380490783498,\n",
       "   11: 0.00935007441895966,\n",
       "   12: 0.007904629240926612,\n",
       "   13: 0.007012555814219746,\n",
       "   14: 0.006511658970346907,\n",
       "   15: 0.006444872724497195,\n",
       "   16: 0.005791321604396443,\n",
       "   17: 0.005600503759111552,\n",
       "   18: 0.0050041979925962675,\n",
       "   19: 0.004937411746746556,\n",
       "   20: 0.004741823455329542,\n",
       "   21: 0.004393580887684616,\n",
       "   22: 0.004126435904285769,\n",
       "   23: 0.00406442010456818,\n",
       "   24: 0.003754341105980231,\n",
       "   25: 0.003639850398809297,\n",
       "   26: 0.0034967370148456284,\n",
       "   27: 0.0031675762317291915,\n",
       "   28: 0.0031055604320116017,\n",
       "   29: 0.002986299278708545,\n",
       "   30: 0.0028765790176697326,\n",
       "   31: 0.2087928863107278,\n",
       "   32: 0.26313780864786473,\n",
       "   33: 0.08584417814754036,\n",
       "   34: 0.05074800595351677,\n",
       "   35: 0.035625691714689156,\n",
       "   36: 0.027492081059420678,\n",
       "   37: 0.02225413120635042,\n",
       "   38: 0.018118154409800403,\n",
       "   39: 0.0157186200053429,\n",
       "   40: 0.013576689692019998,\n",
       "   41: 0.012059687822005115,\n",
       "   42: 0.010714422012746631,\n",
       "   43: 0.0098080372476434,\n",
       "   44: 0.008915963820936535,\n",
       "   45: 0.00781876121054841,\n",
       "   46: 0.00762794336526352,\n",
       "   47: 0.006917146891577301,\n",
       "   48: 0.006435331832232951,\n",
       "   49: 0.006163416402701981,\n",
       "   50: 0.00601553257260619,\n",
       "   51: 0.005543258405526085,\n",
       "   52: 0.004932641300614433,\n",
       "   53: 0.0049994275464641455,\n",
       "   54: 0.0048086097011792546,\n",
       "   55: 0.004498530702591306,\n",
       "   56: 0.004307712857306415,\n",
       "   57: 0.004221844826928214,\n",
       "   58: 0.003988092966454223,\n",
       "   59: 0.003544441476166851,\n",
       "   60: 0.0034681143380528947,\n",
       "   61: 0.0030673968629546236,\n",
       "   62: 0.0029672174941800557,\n",
       "   63: 0.18406766400793803}},\n",
       " 'by_prob': {'group_size': {'(-21.2315, -9.2153]': 1341652.0,\n",
       "   '(-9.2153, -9.2106]': 1343073.0,\n",
       "   '(-9.2106, -9.2104]': 1342212.0,\n",
       "   '(-9.2104, -9.2103]': 1378615.0,\n",
       "   '(-9.2103, -6.4385]': 1302416.0,\n",
       "   '(-6.4385, -6.0572]': 1341595.0,\n",
       "   '(-6.0572, -5.6631]': 1341592.0,\n",
       "   '(-5.6631, -5.179]': 1341594.0,\n",
       "   '(-5.179, -4.3331]': 1341594.0,\n",
       "   '(-4.3331, 0.0]': 1341593.0},\n",
       "  'correct_product': {'(-21.2315, -9.2153]': 0.036665245533118875,\n",
       "   '(-9.2153, -9.2106]': 0.035971983652415024,\n",
       "   '(-9.2106, -9.2104]': 0.046497870679147554,\n",
       "   '(-9.2104, -9.2103]': 0.0484711104985801,\n",
       "   '(-9.2103, -6.4385]': 0.010563445166521296,\n",
       "   '(-6.4385, -6.0572]': 0.0044760154890261215,\n",
       "   '(-6.0572, -5.6631]': 0.00524973315285124,\n",
       "   '(-5.6631, -5.179]': 0.007736319631721668,\n",
       "   '(-5.179, -4.3331]': 0.013732172326352085,\n",
       "   '(-4.3331, 0.0]': 0.2079855813201172},\n",
       "  'correct_factorization': {'(-21.2315, -9.2153]': 0.02502959038558434,\n",
       "   '(-9.2153, -9.2106]': 0.0359667717242473,\n",
       "   '(-9.2106, -9.2104]': 0.04649638060157412,\n",
       "   '(-9.2104, -9.2103]': 0.0484711104985801,\n",
       "   '(-9.2103, -6.4385]': 0.0010895136423385461,\n",
       "   '(-6.4385, -6.0572]': 0.002632687211863491,\n",
       "   '(-6.0572, -5.6631]': 0.0034824298296352394,\n",
       "   '(-5.6631, -5.179]': 0.0059198237320679725,\n",
       "   '(-5.179, -4.3331]': 0.011230670381650484,\n",
       "   '(-4.3331, 0.0]': 0.13888414742772212},\n",
       "  'percent_prime_factors_pred': {'(-21.2315, -9.2153]': 0.8160378739682826,\n",
       "   '(-9.2153, -9.2106]': 0.7799515480308356,\n",
       "   '(-9.2106, -9.2104]': 0.8014835074266863,\n",
       "   '(-9.2104, -9.2103]': 0.8263052329291635,\n",
       "   '(-9.2103, -6.4385]': 0.8844918033147322,\n",
       "   '(-6.4385, -6.0572]': 0.8544524195402534,\n",
       "   '(-6.0572, -5.6631]': 0.8712582294818421,\n",
       "   '(-5.6631, -5.179]': 0.8882120245018134,\n",
       "   '(-5.179, -4.3331]': 0.9116627168165146,\n",
       "   '(-4.3331, 0.0]': 0.9071575562189305}},\n",
       " 'by_num_target_factors': {'group_size': {1: 14760,\n",
       "   2: 41265,\n",
       "   3: 52029,\n",
       "   4: 42401,\n",
       "   5: 27488,\n",
       "   6: 15601,\n",
       "   7: 8034,\n",
       "   8: 4187,\n",
       "   9: 2057,\n",
       "   10: 991,\n",
       "   11: 436,\n",
       "   12: 185,\n",
       "   13: 106,\n",
       "   14: 51,\n",
       "   15: 21,\n",
       "   16: 6,\n",
       "   17: 2,\n",
       "   18: 3,\n",
       "   19: 1},\n",
       "  'correct_product_mean': {1: 1.0,\n",
       "   2: 1.0,\n",
       "   3: 1.0,\n",
       "   4: 1.0,\n",
       "   5: 1.0,\n",
       "   6: 1.0,\n",
       "   7: 1.0,\n",
       "   8: 1.0,\n",
       "   9: 1.0,\n",
       "   10: 1.0,\n",
       "   11: 1.0,\n",
       "   12: 1.0,\n",
       "   13: 1.0,\n",
       "   14: 1.0,\n",
       "   15: 1.0,\n",
       "   16: 1.0,\n",
       "   17: 1.0,\n",
       "   18: 1.0,\n",
       "   19: 1.0},\n",
       "  'correct_factorization_mean': {1: 1.0,\n",
       "   2: 0.8736217133163698,\n",
       "   3: 0.9565242460935247,\n",
       "   4: 0.9953302988137073,\n",
       "   5: 0.9992724097788126,\n",
       "   6: 1.0,\n",
       "   7: 0.9998755290017426,\n",
       "   8: 1.0,\n",
       "   9: 1.0,\n",
       "   10: 1.0,\n",
       "   11: 1.0,\n",
       "   12: 1.0,\n",
       "   13: 1.0,\n",
       "   14: 1.0,\n",
       "   15: 1.0,\n",
       "   16: 1.0,\n",
       "   17: 1.0,\n",
       "   18: 1.0,\n",
       "   19: 1.0}},\n",
       " 'by_input_num': {'group_size': {'(11.999, 422171.3]': 20963,\n",
       "   '(422171.3, 846410.0]': 20962,\n",
       "   '(846410.0, 1268418.6]': 20962,\n",
       "   '(1268418.6, 1686422.4]': 20963,\n",
       "   '(1686422.4, 2101676.0]': 20962,\n",
       "   '(2101676.0, 2517655.0]': 20962,\n",
       "   '(2517655.0, 2936009.5]': 20963,\n",
       "   '(2936009.5, 3358593.6]': 20962,\n",
       "   '(3358593.6, 3778630.0]': 20962,\n",
       "   '(3778630.0, 4194290.0]': 20963},\n",
       "  'correct_product_mean': {'(11.999, 422171.3]': 1.0,\n",
       "   '(422171.3, 846410.0]': 1.0,\n",
       "   '(846410.0, 1268418.6]': 1.0,\n",
       "   '(1268418.6, 1686422.4]': 1.0,\n",
       "   '(1686422.4, 2101676.0]': 1.0,\n",
       "   '(2101676.0, 2517655.0]': 1.0,\n",
       "   '(2517655.0, 2936009.5]': 1.0,\n",
       "   '(2936009.5, 3358593.6]': 1.0,\n",
       "   '(3358593.6, 3778630.0]': 1.0,\n",
       "   '(3778630.0, 4194290.0]': 1.0},\n",
       "  'correct_factorization_mean': {'(11.999, 422171.3]': 0.9999045938081381,\n",
       "   '(422171.3, 846410.0]': 0.9968514454727603,\n",
       "   '(846410.0, 1268418.6]': 0.9861177368571701,\n",
       "   '(1268418.6, 1686422.4]': 0.9790106377903925,\n",
       "   '(1686422.4, 2101676.0]': 0.969230035301975,\n",
       "   '(2101676.0, 2517655.0]': 0.96002289857838,\n",
       "   '(2517655.0, 2936009.5]': 0.9515336545341793,\n",
       "   '(2936009.5, 3358593.6]': 0.9394141780364469,\n",
       "   '(3358593.6, 3778630.0]': 0.9288235855357313,\n",
       "   '(3778630.0, 4194290.0]': 0.9219577350570052}},\n",
       " 'pred_same_as_input_beam_0': {0: {'input_is_prime': False,\n",
       "   'pred_same_as_input': False,\n",
       "   'group_size': 194864,\n",
       "   'correct_product_mean': 0.9894644469989325,\n",
       "   'correct_factorization_mean': 0.5961337137696034},\n",
       "  1: {'input_is_prime': True,\n",
       "   'pred_same_as_input': False,\n",
       "   'group_size': 14760,\n",
       "   'correct_product_mean': 0.9995934959349594,\n",
       "   'correct_factorization_mean': 0.9995934959349594}},\n",
       " 'by_min_factor_composite_only': {0: {'min_factor_decile': '(1.999, 3.0]',\n",
       "   'group_size': 139714,\n",
       "   'correct_product_mean': 1.0,\n",
       "   'correct_factorization_mean': 0.7562950026482672},\n",
       "  1: {'min_factor_decile': '(3.0, 7.0]',\n",
       "   'group_size': 21974,\n",
       "   'correct_product_mean': 1.0,\n",
       "   'correct_factorization_mean': 0.4752889778829526},\n",
       "  2: {'min_factor_decile': '(7.0, 29.0]',\n",
       "   'group_size': 14869,\n",
       "   'correct_product_mean': 1.0,\n",
       "   'correct_factorization_mean': 0.0009415562579864146},\n",
       "  3: {'min_factor_decile': '(29.0, 2017.0]',\n",
       "   'group_size': 18307,\n",
       "   'correct_product_mean': 1.0,\n",
       "   'correct_factorization_mean': 0.0022942044026874964}},\n",
       " 'loss': 0.15332736861774018,\n",
       " 'meta': {'n_beams': 64, 'temperature': 1.0, 'max_decode_size': 64}}"
      ]
     },
     "execution_count": 17,
     "metadata": {},
     "output_type": "execute_result"
    }
   ],
   "source": [
    "test_metrics"
   ]
  },
  {
   "cell_type": "markdown",
   "metadata": {},
   "source": [
    "# Visualize Embeddings"
   ]
  },
  {
   "cell_type": "code",
   "execution_count": 18,
   "metadata": {},
   "outputs": [],
   "source": [
    "embeddings = model.src_embedding.embedding.weight.data.cpu().numpy()"
   ]
  },
  {
   "cell_type": "code",
   "execution_count": 19,
   "metadata": {},
   "outputs": [],
   "source": [
    "tokens = [''.join(t.decode([i], decode_special=True)) for i in range(len(t))]\n",
    "special_tokens = set(problem.special_tokens)\n",
    "tokens = np.array([tok if tok in special_tokens else data_utils.base2dec([int(tok)], args['data']['base']) for tok in tokens])"
   ]
  },
  {
   "cell_type": "code",
   "execution_count": 20,
   "metadata": {},
   "outputs": [
    {
     "data": {
      "text/plain": [
       "(34, 256)"
      ]
     },
     "execution_count": 20,
     "metadata": {},
     "output_type": "execute_result"
    }
   ],
   "source": [
    "embeddings.shape"
   ]
  },
  {
   "cell_type": "code",
   "execution_count": 21,
   "metadata": {},
   "outputs": [
    {
     "data": {
      "text/plain": [
       "(34,)"
      ]
     },
     "execution_count": 21,
     "metadata": {},
     "output_type": "execute_result"
    }
   ],
   "source": [
    "tokens.shape"
   ]
  },
  {
   "cell_type": "code",
   "execution_count": 22,
   "metadata": {},
   "outputs": [
    {
     "data": {
      "text/plain": [
       "array(['0', '1', '2', '3', '4', '5', '6', '7', '8', '9', '10', '11', '12',\n",
       "       '13', '14', '15', '16', '17', '18', '19', '20', '21', '22', '23',\n",
       "       '24', '25', '26', '27', '28', '29', '*', '[PAD]', '[EOS]', '[SOS]'],\n",
       "      dtype='<U11')"
      ]
     },
     "execution_count": 22,
     "metadata": {},
     "output_type": "execute_result"
    }
   ],
   "source": [
    "tokens"
   ]
  },
  {
   "cell_type": "markdown",
   "metadata": {},
   "source": [
    "## TSNE\n",
    "* Doesn't seem to be super interesting (over more paramaters than these)"
   ]
  },
  {
   "cell_type": "code",
   "execution_count": 23,
   "metadata": {},
   "outputs": [],
   "source": [
    "from sklearn.manifold import TSNE"
   ]
  },
  {
   "cell_type": "code",
   "execution_count": 24,
   "metadata": {},
   "outputs": [],
   "source": [
    "tsne = TSNE()#perplexity=30, learning_rate=200, n_iter=1000)\n",
    "embeddings_for_plot = tsne.fit_transform(embeddings)"
   ]
  },
  {
   "cell_type": "code",
   "execution_count": 25,
   "metadata": {
    "scrolled": false
   },
   "outputs": [
    {
     "data": {
      "image/png": "[encoded data removed]",
      "text/plain": [
       "<Figure size 432x288 with 1 Axes>"
      ]
     },
     "metadata": {
      "needs_background": "light"
     },
     "output_type": "display_data"
    }
   ],
   "source": [
    "plt.scatter(embeddings_for_plot[:,0], embeddings_for_plot[:,1])\n",
    "ax = plt.gca()\n",
    "for tok, (x,y) in zip(tokens, embeddings_for_plot):\n",
    "    fontsize = 12 if not tok in ['.', '_'] else 24\n",
    "    ax.annotate(tok, (x+.3,y), fontsize=fontsize)\n",
    "plt.show()"
   ]
  },
  {
   "cell_type": "markdown",
   "metadata": {},
   "source": [
    "## Cosine Similarity\n",
    "* Some embeddings have relatively simlar cosine similarities"
   ]
  },
  {
   "cell_type": "code",
   "execution_count": 26,
   "metadata": {},
   "outputs": [],
   "source": [
    "from sklearn.metrics.pairwise import cosine_similarity"
   ]
  },
  {
   "cell_type": "code",
   "execution_count": 27,
   "metadata": {},
   "outputs": [],
   "source": [
    "cs_sim_mat = cosine_similarity(embeddings)\n",
    "cs_sims = np.triu(cs_sim_mat, 1).ravel()\n",
    "cs_sims = cs_sims[~np.isclose(cs_sims, 0)]"
   ]
  },
  {
   "cell_type": "code",
   "execution_count": 28,
   "metadata": {},
   "outputs": [
    {
     "data": {
      "image/png": "[encoded data removed]",
      "text/plain": [
       "<Figure size 432x288 with 1 Axes>"
      ]
     },
     "metadata": {
      "needs_background": "light"
     },
     "output_type": "display_data"
    }
   ],
   "source": [
    "plt.title('cosine simiarlty of embeddings')\n",
    "pd.Series(cs_sims).hist()\n",
    "plt.show()"
   ]
  },
  {
   "cell_type": "code",
   "execution_count": 29,
   "metadata": {},
   "outputs": [
    {
     "data": {
      "text/plain": [
       "(34, 34)"
      ]
     },
     "execution_count": 29,
     "metadata": {},
     "output_type": "execute_result"
    }
   ],
   "source": [
    "cs_sim_mat.shape"
   ]
  },
  {
   "cell_type": "code",
   "execution_count": 30,
   "metadata": {},
   "outputs": [
    {
     "data": {
      "text/plain": [
       "array(['0', '1', '2', '3', '4', '5', '6', '7', '8', '9', '10', '11', '12',\n",
       "       '13', '14', '15', '16', '17', '18', '19', '20', '21', '22', '23',\n",
       "       '24', '25', '26', '27', '28', '29', '*', '[PAD]', '[EOS]', '[SOS]'],\n",
       "      dtype='<U11')"
      ]
     },
     "execution_count": 30,
     "metadata": {},
     "output_type": "execute_result"
    }
   ],
   "source": [
    "tokens"
   ]
  },
  {
   "cell_type": "code",
   "execution_count": 31,
   "metadata": {},
   "outputs": [
    {
     "data": {
      "image/png": "[encoded data removed]",
      "text/plain": [
       "<Figure size 1440x1440 with 2 Axes>"
      ]
     },
     "metadata": {
      "needs_background": "light"
     },
     "output_type": "display_data"
    }
   ],
   "source": [
    "fig = plt.gcf()\n",
    "fig.set_size_inches(20, 20)\n",
    "ax = plt.gca()\n",
    "plt.colorbar(ax.matshow(np.clip(cs_sim_mat, a_min=-1, a_max=cs_sim_mat[cs_sim_mat<.99].max()*1.1)), ax=ax)\n",
    "ax.set_xticks(np.arange(cs_sim_mat.shape[0]))\n",
    "ax.set_yticks(np.arange(cs_sim_mat.shape[0]))\n",
    "ax.set_xticklabels(tokens[:cs_sim_mat.shape[0]])\n",
    "ax.set_yticklabels(tokens[:cs_sim_mat.shape[0]])\n",
    "plt.show()"
   ]
  },
  {
   "cell_type": "markdown",
   "metadata": {},
   "source": [
    "### Are the embeddings linearly predictive of anything interesting?"
   ]
  },
  {
   "cell_type": "code",
   "execution_count": 32,
   "metadata": {},
   "outputs": [],
   "source": [
    "from sklearn.linear_model import LogisticRegression\n",
    "from sklearn.svm import SVC"
   ]
  },
  {
   "cell_type": "code",
   "execution_count": 33,
   "metadata": {},
   "outputs": [],
   "source": [
    "logreg = LogisticRegression(C = .1, penalty='l1', solver='liblinear')\n",
    "# logreg = SVC()"
   ]
  },
  {
   "cell_type": "code",
   "execution_count": 34,
   "metadata": {},
   "outputs": [
    {
     "data": {
      "text/plain": [
       "((34, 256), (34,))"
      ]
     },
     "execution_count": 34,
     "metadata": {},
     "output_type": "execute_result"
    }
   ],
   "source": [
    "embeddings.shape, tokens.shape"
   ]
  },
  {
   "cell_type": "code",
   "execution_count": 35,
   "metadata": {},
   "outputs": [],
   "source": [
    "logreg_x = embeddings[:-4]\n",
    "logreg_y = tokens[:-4].astype(int) % 2"
   ]
  },
  {
   "cell_type": "code",
   "execution_count": 36,
   "metadata": {},
   "outputs": [],
   "source": [
    "train_indexer = np.random.rand(logreg_x.shape[0]) < .8\n",
    "logreg_x_train = logreg_x[train_indexer]\n",
    "logreg_x_test = logreg_x[~train_indexer]\n",
    "\n",
    "logreg_y_train = logreg_y[train_indexer]\n",
    "logreg_y_test = logreg_y[~train_indexer]"
   ]
  },
  {
   "cell_type": "code",
   "execution_count": 37,
   "metadata": {},
   "outputs": [
    {
     "data": {
      "text/plain": [
       "((23, 256), (23,))"
      ]
     },
     "execution_count": 37,
     "metadata": {},
     "output_type": "execute_result"
    }
   ],
   "source": [
    "logreg_x_train.shape, logreg_y_train.shape"
   ]
  },
  {
   "cell_type": "code",
   "execution_count": 38,
   "metadata": {},
   "outputs": [
    {
     "data": {
      "text/plain": [
       "((7, 256), (7,))"
      ]
     },
     "execution_count": 38,
     "metadata": {},
     "output_type": "execute_result"
    }
   ],
   "source": [
    "logreg_x_test.shape, logreg_y_test.shape"
   ]
  },
  {
   "cell_type": "code",
   "execution_count": 39,
   "metadata": {},
   "outputs": [
    {
     "data": {
      "text/plain": [
       "LogisticRegression(C=0.1, penalty='l1', solver='liblinear')"
      ]
     },
     "execution_count": 39,
     "metadata": {},
     "output_type": "execute_result"
    }
   ],
   "source": [
    "logreg.fit(logreg_x_train, logreg_y_train)"
   ]
  },
  {
   "cell_type": "code",
   "execution_count": 40,
   "metadata": {},
   "outputs": [
    {
     "data": {
      "text/plain": [
       "0.5217391304347826"
      ]
     },
     "execution_count": 40,
     "metadata": {},
     "output_type": "execute_result"
    }
   ],
   "source": [
    "logreg.score(logreg_x_train, logreg_y_train)"
   ]
  },
  {
   "cell_type": "code",
   "execution_count": 41,
   "metadata": {},
   "outputs": [
    {
     "data": {
      "text/plain": [
       "0.42857142857142855"
      ]
     },
     "execution_count": 41,
     "metadata": {},
     "output_type": "execute_result"
    }
   ],
   "source": [
    "logreg.score(logreg_x_test, logreg_y_test)"
   ]
  },
  {
   "cell_type": "markdown",
   "metadata": {},
   "source": [
    "# How well does the model do on numbers higher than what it was trained on?"
   ]
  },
  {
   "cell_type": "code",
   "execution_count": 42,
   "metadata": {},
   "outputs": [],
   "source": [
    "start = 2**22\n",
    "length = 1024\n",
    "numbers = np.arange(start, start + length)"
   ]
  },
  {
   "cell_type": "code",
   "execution_count": 43,
   "metadata": {},
   "outputs": [
    {
     "data": {
      "text/plain": [
       "<tokenizer.Tokenizer at 0x26dff30cc70>"
      ]
     },
     "execution_count": 43,
     "metadata": {},
     "output_type": "execute_result"
    }
   ],
   "source": [
    "t"
   ]
  },
  {
   "cell_type": "code",
   "execution_count": 44,
   "metadata": {},
   "outputs": [
    {
     "data": {
      "application/vnd.jupyter.widget-view+json": {
       "model_id": "",
       "version_major": 2,
       "version_minor": 0
      },
      "text/plain": [
       "  0%|          | 0/1024 [00:00<?, ?it/s]"
      ]
     },
     "metadata": {},
     "output_type": "display_data"
    },
    {
     "name": "stderr",
     "output_type": "stream",
     "text": [
      "../problems\\factorization.py:90: RuntimeWarning: invalid value encountered in double_scalars\n",
      "  information['percent_prime_factors_pred'] = information['num_prime_factors_pred'] / information['num_pred_factors']\n"
     ]
    }
   ],
   "source": [
    "larger_df = problem.form_prediction_df(model, device, numbers, args['model_args']['max_decode_size'], n_beams = 10)"
   ]
  },
  {
   "cell_type": "code",
   "execution_count": 45,
   "metadata": {
    "scrolled": true
   },
   "outputs": [
    {
     "data": {
      "text/plain": [
       "(10240, 18)"
      ]
     },
     "execution_count": 45,
     "metadata": {},
     "output_type": "execute_result"
    }
   ],
   "source": [
    "larger_df.shape"
   ]
  },
  {
   "cell_type": "code",
   "execution_count": 46,
   "metadata": {
    "scrolled": true
   },
   "outputs": [
    {
     "data": {
      "text/html": [
       "<div>\n",
       "<style scoped>\n",
       "    .dataframe tbody tr th:only-of-type {\n",
       "        vertical-align: middle;\n",
       "    }\n",
       "\n",
       "    .dataframe tbody tr th {\n",
       "        vertical-align: top;\n",
       "    }\n",
       "\n",
       "    .dataframe thead th {\n",
       "        text-align: right;\n",
       "    }\n",
       "</style>\n",
       "<table border=\"1\" class=\"dataframe\">\n",
       "  <thead>\n",
       "    <tr style=\"text-align: right;\">\n",
       "      <th></th>\n",
       "      <th>input_num</th>\n",
       "      <th>model_input</th>\n",
       "      <th>beam_idx</th>\n",
       "      <th>log_prob</th>\n",
       "      <th>pred_str</th>\n",
       "      <th>pred_factor_list</th>\n",
       "      <th>product</th>\n",
       "      <th>num_pred_factors</th>\n",
       "      <th>num_prime_factors_pred</th>\n",
       "      <th>percent_prime_factors_pred</th>\n",
       "      <th>correct_product</th>\n",
       "      <th>correct_factorization</th>\n",
       "      <th>pred_same_as_input</th>\n",
       "      <th>input_is_prime</th>\n",
       "      <th>target_factor_str</th>\n",
       "      <th>target_factor_list</th>\n",
       "      <th>num_target_factors</th>\n",
       "      <th>min_target_prime_factor_if_composite</th>\n",
       "    </tr>\n",
       "  </thead>\n",
       "  <tbody>\n",
       "    <tr>\n",
       "      <th>0</th>\n",
       "      <td>4194304</td>\n",
       "      <td>[[SOS], 5, 5, 10, 10, 4, [EOS]]</td>\n",
       "      <td>0</td>\n",
       "      <td>-0.464921</td>\n",
       "      <td>[SOS] 2 * 2 * 2 * 2 * 2 * 2 * 2 * 2 * 2 * 2 * 2 * 2 * 2 * 2 * 2 * 2 * 2 * 2 * 2 * 2 * 2 * 2 * 2 * 2 * 2 * 2 * 2 * 2 * 2 * 2 * 2 * 2</td>\n",
       "      <td>[2, 2, 2, 2, 2, 2, 2, 2, 2, 2, 2, 2, 2, 2, 2, 2, 2, 2, 2, 2, 2, 2, 2, 2, 2, 2, 2, 2, 2, 2, 2, 2]</td>\n",
       "      <td>0.000000e+00</td>\n",
       "      <td>32</td>\n",
       "      <td>32.0</td>\n",
       "      <td>1.000000</td>\n",
       "      <td>False</td>\n",
       "      <td>False</td>\n",
       "      <td>False</td>\n",
       "      <td>False</td>\n",
       "      <td>[SOS] 2 * 2 * 2 * 2 * 2 * 2 * 2 * 2 * 2 * 2 * 2 * 2 * 2 * 2 * 2 * 2 * 2 * 2 * 2 * 2 * 2 * 2 [EOS]</td>\n",
       "      <td>[2, 2, 2, 2, 2, 2, 2, 2, 2, 2, 2, 2, 2, 2, 2, 2, 2, 2, 2, 2, 2, 2]</td>\n",
       "      <td>22</td>\n",
       "      <td>2</td>\n",
       "    </tr>\n",
       "    <tr>\n",
       "      <th>1</th>\n",
       "      <td>4194304</td>\n",
       "      <td>[[SOS], 5, 5, 10, 10, 4, [EOS]]</td>\n",
       "      <td>1</td>\n",
       "      <td>-3.776376</td>\n",
       "      <td>[SOS] 2 * 2 * 2 * 2 * 2 * 2 * 2 * 2 * 2 * 2 * 2 * 2 * 2 * 2 * 2 * 2 * 2 * 2 * 17 [EOS] [PAD] [PAD] [PAD] [PAD] [PAD] [PAD] [PAD] [PAD] [PAD] [PAD] [PAD] [PAD] [PAD] [PAD] [PAD] [PAD] [PAD] [PAD] [PAD] [PAD] [PAD] [PAD] [PAD] [PAD] [PAD]</td>\n",
       "      <td>[2, 2, 2, 2, 2, 2, 2, 2, 2, 2, 2, 2, 2, 2, 2, 2, 2, 2, 17]</td>\n",
       "      <td>4.456448e+06</td>\n",
       "      <td>19</td>\n",
       "      <td>19.0</td>\n",
       "      <td>1.000000</td>\n",
       "      <td>False</td>\n",
       "      <td>False</td>\n",
       "      <td>False</td>\n",
       "      <td>False</td>\n",
       "      <td>[SOS] 2 * 2 * 2 * 2 * 2 * 2 * 2 * 2 * 2 * 2 * 2 * 2 * 2 * 2 * 2 * 2 * 2 * 2 * 2 * 2 * 2 * 2 [EOS]</td>\n",
       "      <td>[2, 2, 2, 2, 2, 2, 2, 2, 2, 2, 2, 2, 2, 2, 2, 2, 2, 2, 2, 2, 2, 2]</td>\n",
       "      <td>22</td>\n",
       "      <td>2</td>\n",
       "    </tr>\n",
       "    <tr>\n",
       "      <th>2</th>\n",
       "      <td>4194304</td>\n",
       "      <td>[[SOS], 5, 5, 10, 10, 4, [EOS]]</td>\n",
       "      <td>2</td>\n",
       "      <td>-4.664926</td>\n",
       "      <td>[SOS] 2 * 2 * 2 * 2 * 2 * 2 * 2 * 2 * 2 * 2 * 2 * 2 * 2 * 2 * 2 * 2 * 2 * 2 * 2 * 2 * 2 * 2 * 2 * 2 * 2 * 2 * 2 * 2 * 2 * 2 * 2 * 13</td>\n",
       "      <td>[2, 2, 2, 2, 2, 2, 2, 2, 2, 2, 2, 2, 2, 2, 2, 2, 2, 2, 2, 2, 2, 2, 2, 2, 2, 2, 2, 2, 2, 2, 2, 13]</td>\n",
       "      <td>-2.147484e+09</td>\n",
       "      <td>32</td>\n",
       "      <td>32.0</td>\n",
       "      <td>1.000000</td>\n",
       "      <td>False</td>\n",
       "      <td>False</td>\n",
       "      <td>False</td>\n",
       "      <td>False</td>\n",
       "      <td>[SOS] 2 * 2 * 2 * 2 * 2 * 2 * 2 * 2 * 2 * 2 * 2 * 2 * 2 * 2 * 2 * 2 * 2 * 2 * 2 * 2 * 2 * 2 [EOS]</td>\n",
       "      <td>[2, 2, 2, 2, 2, 2, 2, 2, 2, 2, 2, 2, 2, 2, 2, 2, 2, 2, 2, 2, 2, 2]</td>\n",
       "      <td>22</td>\n",
       "      <td>2</td>\n",
       "    </tr>\n",
       "    <tr>\n",
       "      <th>3</th>\n",
       "      <td>4194304</td>\n",
       "      <td>[[SOS], 5, 5, 10, 10, 4, [EOS]]</td>\n",
       "      <td>3</td>\n",
       "      <td>-4.709636</td>\n",
       "      <td>[SOS] 2 * 2 * 2 * 2 * 2 * 2 * 2 * 2 * 2 * 2 * 2 * 2 * 2 * 2 * 2 * 2 * 2 * 2 * 2 * 2 * 2 * 2 * 2 * 2 * 2 * 2 * 2 * 2 * 2 * 2 * 13 2 *</td>\n",
       "      <td>[2, 2, 2, 2, 2, 2, 2, 2, 2, 2, 2, 2, 2, 2, 2, 2, 2, 2, 2, 2, 2, 2, 2, 2, 2, 2, 2, 2, 2, 2, 392]</td>\n",
       "      <td>0.000000e+00</td>\n",
       "      <td>31</td>\n",
       "      <td>30.0</td>\n",
       "      <td>0.967742</td>\n",
       "      <td>False</td>\n",
       "      <td>False</td>\n",
       "      <td>False</td>\n",
       "      <td>False</td>\n",
       "      <td>[SOS] 2 * 2 * 2 * 2 * 2 * 2 * 2 * 2 * 2 * 2 * 2 * 2 * 2 * 2 * 2 * 2 * 2 * 2 * 2 * 2 * 2 * 2 [EOS]</td>\n",
       "      <td>[2, 2, 2, 2, 2, 2, 2, 2, 2, 2, 2, 2, 2, 2, 2, 2, 2, 2, 2, 2, 2, 2]</td>\n",
       "      <td>22</td>\n",
       "      <td>2</td>\n",
       "    </tr>\n",
       "    <tr>\n",
       "      <th>4</th>\n",
       "      <td>4194304</td>\n",
       "      <td>[[SOS], 5, 5, 10, 10, 4, [EOS]]</td>\n",
       "      <td>4</td>\n",
       "      <td>-4.746852</td>\n",
       "      <td>[SOS] 2 * 2 * 2 * 2 * 2 * 2 * 2 * 2 * 2 * 2 * 2 * 2 * 2 * 2 * 2 * 2 * 2 * 2 * 2 * 2 * 2 * 2 * 2 * 2 * 2 * 2 * 2 * 2 * 13 2 * 2 * 2 *</td>\n",
       "      <td>[2, 2, 2, 2, 2, 2, 2, 2, 2, 2, 2, 2, 2, 2, 2, 2, 2, 2, 2, 2, 2, 2, 2, 2, 2, 2, 2, 2, 392, 2, 2]</td>\n",
       "      <td>0.000000e+00</td>\n",
       "      <td>31</td>\n",
       "      <td>30.0</td>\n",
       "      <td>0.967742</td>\n",
       "      <td>False</td>\n",
       "      <td>False</td>\n",
       "      <td>False</td>\n",
       "      <td>False</td>\n",
       "      <td>[SOS] 2 * 2 * 2 * 2 * 2 * 2 * 2 * 2 * 2 * 2 * 2 * 2 * 2 * 2 * 2 * 2 * 2 * 2 * 2 * 2 * 2 * 2 [EOS]</td>\n",
       "      <td>[2, 2, 2, 2, 2, 2, 2, 2, 2, 2, 2, 2, 2, 2, 2, 2, 2, 2, 2, 2, 2, 2]</td>\n",
       "      <td>22</td>\n",
       "      <td>2</td>\n",
       "    </tr>\n",
       "    <tr>\n",
       "      <th>5</th>\n",
       "      <td>4194304</td>\n",
       "      <td>[[SOS], 5, 5, 10, 10, 4, [EOS]]</td>\n",
       "      <td>5</td>\n",
       "      <td>-4.898310</td>\n",
       "      <td>[SOS] 2 * 2 * 2 * 2 * 2 * 2 * 2 * 2 * 2 * 2 * 2 * 2 * 2 * 2 * 2 * 2 * 2 * 2 * 2 * 2 * 2 * 2 * 2 * 2 * 2 * 2 * 2 * 2 * 2 * 13 2 * 2 *</td>\n",
       "      <td>[2, 2, 2, 2, 2, 2, 2, 2, 2, 2, 2, 2, 2, 2, 2, 2, 2, 2, 2, 2, 2, 2, 2, 2, 2, 2, 2, 2, 2, 392, 2]</td>\n",
       "      <td>0.000000e+00</td>\n",
       "      <td>31</td>\n",
       "      <td>30.0</td>\n",
       "      <td>0.967742</td>\n",
       "      <td>False</td>\n",
       "      <td>False</td>\n",
       "      <td>False</td>\n",
       "      <td>False</td>\n",
       "      <td>[SOS] 2 * 2 * 2 * 2 * 2 * 2 * 2 * 2 * 2 * 2 * 2 * 2 * 2 * 2 * 2 * 2 * 2 * 2 * 2 * 2 * 2 * 2 [EOS]</td>\n",
       "      <td>[2, 2, 2, 2, 2, 2, 2, 2, 2, 2, 2, 2, 2, 2, 2, 2, 2, 2, 2, 2, 2, 2]</td>\n",
       "      <td>22</td>\n",
       "      <td>2</td>\n",
       "    </tr>\n",
       "    <tr>\n",
       "      <th>6</th>\n",
       "      <td>4194304</td>\n",
       "      <td>[[SOS], 5, 5, 10, 10, 4, [EOS]]</td>\n",
       "      <td>6</td>\n",
       "      <td>-4.910382</td>\n",
       "      <td>[SOS] 2 * 2 * 2 * 2 * 2 * 2 * 2 * 2 * 2 * 2 * 2 * 2 * 2 * 2 * 2 * 2 * 2 * 2 * 2 * 2 * 2 * 2 * 2 * 2 * 2 * 2 * 13 2 * 2 * 2 * 2 * 2 *</td>\n",
       "      <td>[2, 2, 2, 2, 2, 2, 2, 2, 2, 2, 2, 2, 2, 2, 2, 2, 2, 2, 2, 2, 2, 2, 2, 2, 2, 2, 392, 2, 2, 2, 2]</td>\n",
       "      <td>0.000000e+00</td>\n",
       "      <td>31</td>\n",
       "      <td>30.0</td>\n",
       "      <td>0.967742</td>\n",
       "      <td>False</td>\n",
       "      <td>False</td>\n",
       "      <td>False</td>\n",
       "      <td>False</td>\n",
       "      <td>[SOS] 2 * 2 * 2 * 2 * 2 * 2 * 2 * 2 * 2 * 2 * 2 * 2 * 2 * 2 * 2 * 2 * 2 * 2 * 2 * 2 * 2 * 2 [EOS]</td>\n",
       "      <td>[2, 2, 2, 2, 2, 2, 2, 2, 2, 2, 2, 2, 2, 2, 2, 2, 2, 2, 2, 2, 2, 2]</td>\n",
       "      <td>22</td>\n",
       "      <td>2</td>\n",
       "    </tr>\n",
       "    <tr>\n",
       "      <th>7</th>\n",
       "      <td>4194304</td>\n",
       "      <td>[[SOS], 5, 5, 10, 10, 4, [EOS]]</td>\n",
       "      <td>7</td>\n",
       "      <td>-5.023736</td>\n",
       "      <td>[SOS] 2 * 2 * 2 * 2 * 2 * 2 * 2 * 2 * 2 * 2 * 2 * 2 * 2 * 2 * 2 * 2 * 7 * 9 7 [EOS] [PAD] [PAD] [PAD] [PAD] [PAD] [PAD] [PAD] [PAD] [PAD] [PAD] [PAD] [PAD] [PAD] [PAD] [PAD] [PAD] [PAD] [PAD] [PAD] [PAD] [PAD] [PAD] [PAD] [PAD] [PAD] [PAD]</td>\n",
       "      <td>[2, 2, 2, 2, 2, 2, 2, 2, 2, 2, 2, 2, 2, 2, 2, 2, 7, 277]</td>\n",
       "      <td>1.270743e+08</td>\n",
       "      <td>18</td>\n",
       "      <td>18.0</td>\n",
       "      <td>1.000000</td>\n",
       "      <td>False</td>\n",
       "      <td>False</td>\n",
       "      <td>False</td>\n",
       "      <td>False</td>\n",
       "      <td>[SOS] 2 * 2 * 2 * 2 * 2 * 2 * 2 * 2 * 2 * 2 * 2 * 2 * 2 * 2 * 2 * 2 * 2 * 2 * 2 * 2 * 2 * 2 [EOS]</td>\n",
       "      <td>[2, 2, 2, 2, 2, 2, 2, 2, 2, 2, 2, 2, 2, 2, 2, 2, 2, 2, 2, 2, 2, 2]</td>\n",
       "      <td>22</td>\n",
       "      <td>2</td>\n",
       "    </tr>\n",
       "    <tr>\n",
       "      <th>8</th>\n",
       "      <td>4194304</td>\n",
       "      <td>[[SOS], 5, 5, 10, 10, 4, [EOS]]</td>\n",
       "      <td>8</td>\n",
       "      <td>-5.045999</td>\n",
       "      <td>[SOS] 2 * 2 * 2 * 2 * 2 * 2 * 2 * 2 * 2 * 2 * 2 * 2 * 2 * 2 * 2 * 2 * 2 * 2 * 2 * 2 * 2 * 2 * 2 * 2 * 2 * 2 * 2 * 13 2 * 2 * 2 * 2 *</td>\n",
       "      <td>[2, 2, 2, 2, 2, 2, 2, 2, 2, 2, 2, 2, 2, 2, 2, 2, 2, 2, 2, 2, 2, 2, 2, 2, 2, 2, 2, 392, 2, 2, 2]</td>\n",
       "      <td>0.000000e+00</td>\n",
       "      <td>31</td>\n",
       "      <td>30.0</td>\n",
       "      <td>0.967742</td>\n",
       "      <td>False</td>\n",
       "      <td>False</td>\n",
       "      <td>False</td>\n",
       "      <td>False</td>\n",
       "      <td>[SOS] 2 * 2 * 2 * 2 * 2 * 2 * 2 * 2 * 2 * 2 * 2 * 2 * 2 * 2 * 2 * 2 * 2 * 2 * 2 * 2 * 2 * 2 [EOS]</td>\n",
       "      <td>[2, 2, 2, 2, 2, 2, 2, 2, 2, 2, 2, 2, 2, 2, 2, 2, 2, 2, 2, 2, 2, 2]</td>\n",
       "      <td>22</td>\n",
       "      <td>2</td>\n",
       "    </tr>\n",
       "    <tr>\n",
       "      <th>9</th>\n",
       "      <td>4194304</td>\n",
       "      <td>[[SOS], 5, 5, 10, 10, 4, [EOS]]</td>\n",
       "      <td>9</td>\n",
       "      <td>-5.047121</td>\n",
       "      <td>[SOS] 2 * 2 * 2 * 2 * 2 * 2 * 2 * 2 * 2 * 2 * 2 * 2 * 2 * 2 * 2 * 2 * 2 * 2 * 2 * 2 * 2 * 2 * 2 * 2 * 2 * 13 2 * 2 * 2 * 2 * 2 * 2 *</td>\n",
       "      <td>[2, 2, 2, 2, 2, 2, 2, 2, 2, 2, 2, 2, 2, 2, 2, 2, 2, 2, 2, 2, 2, 2, 2, 2, 2, 392, 2, 2, 2, 2, 2]</td>\n",
       "      <td>0.000000e+00</td>\n",
       "      <td>31</td>\n",
       "      <td>30.0</td>\n",
       "      <td>0.967742</td>\n",
       "      <td>False</td>\n",
       "      <td>False</td>\n",
       "      <td>False</td>\n",
       "      <td>False</td>\n",
       "      <td>[SOS] 2 * 2 * 2 * 2 * 2 * 2 * 2 * 2 * 2 * 2 * 2 * 2 * 2 * 2 * 2 * 2 * 2 * 2 * 2 * 2 * 2 * 2 [EOS]</td>\n",
       "      <td>[2, 2, 2, 2, 2, 2, 2, 2, 2, 2, 2, 2, 2, 2, 2, 2, 2, 2, 2, 2, 2, 2]</td>\n",
       "      <td>22</td>\n",
       "      <td>2</td>\n",
       "    </tr>\n",
       "  </tbody>\n",
       "</table>\n",
       "</div>"
      ],
      "text/plain": [
       "   input_num                      model_input  beam_idx  log_prob  \\\n",
       "0    4194304  [[SOS], 5, 5, 10, 10, 4, [EOS]]         0 -0.464921   \n",
       "1    4194304  [[SOS], 5, 5, 10, 10, 4, [EOS]]         1 -3.776376   \n",
       "2    4194304  [[SOS], 5, 5, 10, 10, 4, [EOS]]         2 -4.664926   \n",
       "3    4194304  [[SOS], 5, 5, 10, 10, 4, [EOS]]         3 -4.709636   \n",
       "4    4194304  [[SOS], 5, 5, 10, 10, 4, [EOS]]         4 -4.746852   \n",
       "5    4194304  [[SOS], 5, 5, 10, 10, 4, [EOS]]         5 -4.898310   \n",
       "6    4194304  [[SOS], 5, 5, 10, 10, 4, [EOS]]         6 -4.910382   \n",
       "7    4194304  [[SOS], 5, 5, 10, 10, 4, [EOS]]         7 -5.023736   \n",
       "8    4194304  [[SOS], 5, 5, 10, 10, 4, [EOS]]         8 -5.045999   \n",
       "9    4194304  [[SOS], 5, 5, 10, 10, 4, [EOS]]         9 -5.047121   \n",
       "\n",
       "                                                                                                                                                                                                                                          pred_str  \\\n",
       "0                                                                                                              [SOS] 2 * 2 * 2 * 2 * 2 * 2 * 2 * 2 * 2 * 2 * 2 * 2 * 2 * 2 * 2 * 2 * 2 * 2 * 2 * 2 * 2 * 2 * 2 * 2 * 2 * 2 * 2 * 2 * 2 * 2 * 2 * 2   \n",
       "1     [SOS] 2 * 2 * 2 * 2 * 2 * 2 * 2 * 2 * 2 * 2 * 2 * 2 * 2 * 2 * 2 * 2 * 2 * 2 * 17 [EOS] [PAD] [PAD] [PAD] [PAD] [PAD] [PAD] [PAD] [PAD] [PAD] [PAD] [PAD] [PAD] [PAD] [PAD] [PAD] [PAD] [PAD] [PAD] [PAD] [PAD] [PAD] [PAD] [PAD] [PAD] [PAD]   \n",
       "2                                                                                                             [SOS] 2 * 2 * 2 * 2 * 2 * 2 * 2 * 2 * 2 * 2 * 2 * 2 * 2 * 2 * 2 * 2 * 2 * 2 * 2 * 2 * 2 * 2 * 2 * 2 * 2 * 2 * 2 * 2 * 2 * 2 * 2 * 13   \n",
       "3                                                                                                             [SOS] 2 * 2 * 2 * 2 * 2 * 2 * 2 * 2 * 2 * 2 * 2 * 2 * 2 * 2 * 2 * 2 * 2 * 2 * 2 * 2 * 2 * 2 * 2 * 2 * 2 * 2 * 2 * 2 * 2 * 2 * 13 2 *   \n",
       "4                                                                                                             [SOS] 2 * 2 * 2 * 2 * 2 * 2 * 2 * 2 * 2 * 2 * 2 * 2 * 2 * 2 * 2 * 2 * 2 * 2 * 2 * 2 * 2 * 2 * 2 * 2 * 2 * 2 * 2 * 2 * 13 2 * 2 * 2 *   \n",
       "5                                                                                                             [SOS] 2 * 2 * 2 * 2 * 2 * 2 * 2 * 2 * 2 * 2 * 2 * 2 * 2 * 2 * 2 * 2 * 2 * 2 * 2 * 2 * 2 * 2 * 2 * 2 * 2 * 2 * 2 * 2 * 2 * 13 2 * 2 *   \n",
       "6                                                                                                             [SOS] 2 * 2 * 2 * 2 * 2 * 2 * 2 * 2 * 2 * 2 * 2 * 2 * 2 * 2 * 2 * 2 * 2 * 2 * 2 * 2 * 2 * 2 * 2 * 2 * 2 * 2 * 13 2 * 2 * 2 * 2 * 2 *   \n",
       "7  [SOS] 2 * 2 * 2 * 2 * 2 * 2 * 2 * 2 * 2 * 2 * 2 * 2 * 2 * 2 * 2 * 2 * 7 * 9 7 [EOS] [PAD] [PAD] [PAD] [PAD] [PAD] [PAD] [PAD] [PAD] [PAD] [PAD] [PAD] [PAD] [PAD] [PAD] [PAD] [PAD] [PAD] [PAD] [PAD] [PAD] [PAD] [PAD] [PAD] [PAD] [PAD] [PAD]   \n",
       "8                                                                                                             [SOS] 2 * 2 * 2 * 2 * 2 * 2 * 2 * 2 * 2 * 2 * 2 * 2 * 2 * 2 * 2 * 2 * 2 * 2 * 2 * 2 * 2 * 2 * 2 * 2 * 2 * 2 * 2 * 13 2 * 2 * 2 * 2 *   \n",
       "9                                                                                                             [SOS] 2 * 2 * 2 * 2 * 2 * 2 * 2 * 2 * 2 * 2 * 2 * 2 * 2 * 2 * 2 * 2 * 2 * 2 * 2 * 2 * 2 * 2 * 2 * 2 * 2 * 13 2 * 2 * 2 * 2 * 2 * 2 *   \n",
       "\n",
       "                                                                                    pred_factor_list  \\\n",
       "0   [2, 2, 2, 2, 2, 2, 2, 2, 2, 2, 2, 2, 2, 2, 2, 2, 2, 2, 2, 2, 2, 2, 2, 2, 2, 2, 2, 2, 2, 2, 2, 2]   \n",
       "1                                         [2, 2, 2, 2, 2, 2, 2, 2, 2, 2, 2, 2, 2, 2, 2, 2, 2, 2, 17]   \n",
       "2  [2, 2, 2, 2, 2, 2, 2, 2, 2, 2, 2, 2, 2, 2, 2, 2, 2, 2, 2, 2, 2, 2, 2, 2, 2, 2, 2, 2, 2, 2, 2, 13]   \n",
       "3    [2, 2, 2, 2, 2, 2, 2, 2, 2, 2, 2, 2, 2, 2, 2, 2, 2, 2, 2, 2, 2, 2, 2, 2, 2, 2, 2, 2, 2, 2, 392]   \n",
       "4    [2, 2, 2, 2, 2, 2, 2, 2, 2, 2, 2, 2, 2, 2, 2, 2, 2, 2, 2, 2, 2, 2, 2, 2, 2, 2, 2, 2, 392, 2, 2]   \n",
       "5    [2, 2, 2, 2, 2, 2, 2, 2, 2, 2, 2, 2, 2, 2, 2, 2, 2, 2, 2, 2, 2, 2, 2, 2, 2, 2, 2, 2, 2, 392, 2]   \n",
       "6    [2, 2, 2, 2, 2, 2, 2, 2, 2, 2, 2, 2, 2, 2, 2, 2, 2, 2, 2, 2, 2, 2, 2, 2, 2, 2, 392, 2, 2, 2, 2]   \n",
       "7                                           [2, 2, 2, 2, 2, 2, 2, 2, 2, 2, 2, 2, 2, 2, 2, 2, 7, 277]   \n",
       "8    [2, 2, 2, 2, 2, 2, 2, 2, 2, 2, 2, 2, 2, 2, 2, 2, 2, 2, 2, 2, 2, 2, 2, 2, 2, 2, 2, 392, 2, 2, 2]   \n",
       "9    [2, 2, 2, 2, 2, 2, 2, 2, 2, 2, 2, 2, 2, 2, 2, 2, 2, 2, 2, 2, 2, 2, 2, 2, 2, 392, 2, 2, 2, 2, 2]   \n",
       "\n",
       "        product  num_pred_factors  num_prime_factors_pred  \\\n",
       "0  0.000000e+00                32                    32.0   \n",
       "1  4.456448e+06                19                    19.0   \n",
       "2 -2.147484e+09                32                    32.0   \n",
       "3  0.000000e+00                31                    30.0   \n",
       "4  0.000000e+00                31                    30.0   \n",
       "5  0.000000e+00                31                    30.0   \n",
       "6  0.000000e+00                31                    30.0   \n",
       "7  1.270743e+08                18                    18.0   \n",
       "8  0.000000e+00                31                    30.0   \n",
       "9  0.000000e+00                31                    30.0   \n",
       "\n",
       "   percent_prime_factors_pred  correct_product  correct_factorization  \\\n",
       "0                    1.000000            False                  False   \n",
       "1                    1.000000            False                  False   \n",
       "2                    1.000000            False                  False   \n",
       "3                    0.967742            False                  False   \n",
       "4                    0.967742            False                  False   \n",
       "5                    0.967742            False                  False   \n",
       "6                    0.967742            False                  False   \n",
       "7                    1.000000            False                  False   \n",
       "8                    0.967742            False                  False   \n",
       "9                    0.967742            False                  False   \n",
       "\n",
       "   pred_same_as_input  input_is_prime  \\\n",
       "0               False           False   \n",
       "1               False           False   \n",
       "2               False           False   \n",
       "3               False           False   \n",
       "4               False           False   \n",
       "5               False           False   \n",
       "6               False           False   \n",
       "7               False           False   \n",
       "8               False           False   \n",
       "9               False           False   \n",
       "\n",
       "                                                                                   target_factor_str  \\\n",
       "0  [SOS] 2 * 2 * 2 * 2 * 2 * 2 * 2 * 2 * 2 * 2 * 2 * 2 * 2 * 2 * 2 * 2 * 2 * 2 * 2 * 2 * 2 * 2 [EOS]   \n",
       "1  [SOS] 2 * 2 * 2 * 2 * 2 * 2 * 2 * 2 * 2 * 2 * 2 * 2 * 2 * 2 * 2 * 2 * 2 * 2 * 2 * 2 * 2 * 2 [EOS]   \n",
       "2  [SOS] 2 * 2 * 2 * 2 * 2 * 2 * 2 * 2 * 2 * 2 * 2 * 2 * 2 * 2 * 2 * 2 * 2 * 2 * 2 * 2 * 2 * 2 [EOS]   \n",
       "3  [SOS] 2 * 2 * 2 * 2 * 2 * 2 * 2 * 2 * 2 * 2 * 2 * 2 * 2 * 2 * 2 * 2 * 2 * 2 * 2 * 2 * 2 * 2 [EOS]   \n",
       "4  [SOS] 2 * 2 * 2 * 2 * 2 * 2 * 2 * 2 * 2 * 2 * 2 * 2 * 2 * 2 * 2 * 2 * 2 * 2 * 2 * 2 * 2 * 2 [EOS]   \n",
       "5  [SOS] 2 * 2 * 2 * 2 * 2 * 2 * 2 * 2 * 2 * 2 * 2 * 2 * 2 * 2 * 2 * 2 * 2 * 2 * 2 * 2 * 2 * 2 [EOS]   \n",
       "6  [SOS] 2 * 2 * 2 * 2 * 2 * 2 * 2 * 2 * 2 * 2 * 2 * 2 * 2 * 2 * 2 * 2 * 2 * 2 * 2 * 2 * 2 * 2 [EOS]   \n",
       "7  [SOS] 2 * 2 * 2 * 2 * 2 * 2 * 2 * 2 * 2 * 2 * 2 * 2 * 2 * 2 * 2 * 2 * 2 * 2 * 2 * 2 * 2 * 2 [EOS]   \n",
       "8  [SOS] 2 * 2 * 2 * 2 * 2 * 2 * 2 * 2 * 2 * 2 * 2 * 2 * 2 * 2 * 2 * 2 * 2 * 2 * 2 * 2 * 2 * 2 [EOS]   \n",
       "9  [SOS] 2 * 2 * 2 * 2 * 2 * 2 * 2 * 2 * 2 * 2 * 2 * 2 * 2 * 2 * 2 * 2 * 2 * 2 * 2 * 2 * 2 * 2 [EOS]   \n",
       "\n",
       "                                                   target_factor_list  \\\n",
       "0  [2, 2, 2, 2, 2, 2, 2, 2, 2, 2, 2, 2, 2, 2, 2, 2, 2, 2, 2, 2, 2, 2]   \n",
       "1  [2, 2, 2, 2, 2, 2, 2, 2, 2, 2, 2, 2, 2, 2, 2, 2, 2, 2, 2, 2, 2, 2]   \n",
       "2  [2, 2, 2, 2, 2, 2, 2, 2, 2, 2, 2, 2, 2, 2, 2, 2, 2, 2, 2, 2, 2, 2]   \n",
       "3  [2, 2, 2, 2, 2, 2, 2, 2, 2, 2, 2, 2, 2, 2, 2, 2, 2, 2, 2, 2, 2, 2]   \n",
       "4  [2, 2, 2, 2, 2, 2, 2, 2, 2, 2, 2, 2, 2, 2, 2, 2, 2, 2, 2, 2, 2, 2]   \n",
       "5  [2, 2, 2, 2, 2, 2, 2, 2, 2, 2, 2, 2, 2, 2, 2, 2, 2, 2, 2, 2, 2, 2]   \n",
       "6  [2, 2, 2, 2, 2, 2, 2, 2, 2, 2, 2, 2, 2, 2, 2, 2, 2, 2, 2, 2, 2, 2]   \n",
       "7  [2, 2, 2, 2, 2, 2, 2, 2, 2, 2, 2, 2, 2, 2, 2, 2, 2, 2, 2, 2, 2, 2]   \n",
       "8  [2, 2, 2, 2, 2, 2, 2, 2, 2, 2, 2, 2, 2, 2, 2, 2, 2, 2, 2, 2, 2, 2]   \n",
       "9  [2, 2, 2, 2, 2, 2, 2, 2, 2, 2, 2, 2, 2, 2, 2, 2, 2, 2, 2, 2, 2, 2]   \n",
       "\n",
       "   num_target_factors  min_target_prime_factor_if_composite  \n",
       "0                  22                                     2  \n",
       "1                  22                                     2  \n",
       "2                  22                                     2  \n",
       "3                  22                                     2  \n",
       "4                  22                                     2  \n",
       "5                  22                                     2  \n",
       "6                  22                                     2  \n",
       "7                  22                                     2  \n",
       "8                  22                                     2  \n",
       "9                  22                                     2  "
      ]
     },
     "execution_count": 46,
     "metadata": {},
     "output_type": "execute_result"
    }
   ],
   "source": [
    "larger_df.head(10)"
   ]
  },
  {
   "cell_type": "code",
   "execution_count": 47,
   "metadata": {
    "scrolled": false
   },
   "outputs": [
    {
     "data": {
      "text/plain": [
       "correct_factorization    0.765625\n",
       "dtype: float64"
      ]
     },
     "execution_count": 47,
     "metadata": {},
     "output_type": "execute_result"
    }
   ],
   "source": [
    "larger_df.groupby('input_num').agg({'correct_factorization' : 'any'}).mean()"
   ]
  },
  {
   "cell_type": "code",
   "execution_count": 48,
   "metadata": {},
   "outputs": [
    {
     "data": {
      "text/plain": [
       "0.4462890625"
      ]
     },
     "execution_count": 48,
     "metadata": {},
     "output_type": "execute_result"
    }
   ],
   "source": [
    "top_beams = larger_df['beam_idx'] == 8\n",
    "# just picking 8 as a random beam, do higher beams tend to over or underpredict? hypothetically under is more frequent since model is trained to predict smaller numbers\n",
    "(larger_df[top_beams]['product'] < larger_df[top_beams]['input_num']).mean()"
   ]
  },
  {
   "cell_type": "markdown",
   "metadata": {},
   "source": [
    "### how does it handle squares/cubes/...?"
   ]
  },
  {
   "cell_type": "code",
   "execution_count": 49,
   "metadata": {},
   "outputs": [],
   "source": [
    "from sympy import factorint\n",
    "from sympy.ntheory import primerange"
   ]
  },
  {
   "cell_type": "code",
   "execution_count": 50,
   "metadata": {},
   "outputs": [],
   "source": [
    "max_num = 256\n",
    "squares = np.array(list(primerange(2, max_num)))**2\n",
    "cubes = np.array(list(primerange(2, max_num)))**3"
   ]
  },
  {
   "cell_type": "code",
   "execution_count": 51,
   "metadata": {},
   "outputs": [
    {
     "data": {
      "application/vnd.jupyter.widget-view+json": {
       "model_id": "",
       "version_major": 2,
       "version_minor": 0
      },
      "text/plain": [
       "  0%|          | 0/54 [00:00<?, ?it/s]"
      ]
     },
     "metadata": {},
     "output_type": "display_data"
    }
   ],
   "source": [
    "square_df = problem.form_prediction_df(model, device, squares, args['model_args']['max_decode_size'], n_beams = 10)"
   ]
  },
  {
   "cell_type": "code",
   "execution_count": 52,
   "metadata": {
    "scrolled": false
   },
   "outputs": [
    {
     "data": {
      "text/plain": [
       "0.1111111111111111"
      ]
     },
     "execution_count": 52,
     "metadata": {},
     "output_type": "execute_result"
    }
   ],
   "source": [
    "square_df[square_df['beam_idx']==0]['correct_factorization'].mean()"
   ]
  },
  {
   "cell_type": "code",
   "execution_count": 53,
   "metadata": {
    "scrolled": true
   },
   "outputs": [
    {
     "data": {
      "text/plain": [
       "correct_factorization    0.592593\n",
       "dtype: float64"
      ]
     },
     "execution_count": 53,
     "metadata": {},
     "output_type": "execute_result"
    }
   ],
   "source": [
    "square_df.groupby('input_num').agg({'correct_factorization' : 'any'}).mean()"
   ]
  },
  {
   "cell_type": "code",
   "execution_count": 54,
   "metadata": {
    "scrolled": true
   },
   "outputs": [
    {
     "data": {
      "text/html": [
       "<div>\n",
       "<style scoped>\n",
       "    .dataframe tbody tr th:only-of-type {\n",
       "        vertical-align: middle;\n",
       "    }\n",
       "\n",
       "    .dataframe tbody tr th {\n",
       "        vertical-align: top;\n",
       "    }\n",
       "\n",
       "    .dataframe thead th {\n",
       "        text-align: right;\n",
       "    }\n",
       "</style>\n",
       "<table border=\"1\" class=\"dataframe\">\n",
       "  <thead>\n",
       "    <tr style=\"text-align: right;\">\n",
       "      <th></th>\n",
       "      <th>input_num</th>\n",
       "      <th>model_input</th>\n",
       "      <th>beam_idx</th>\n",
       "      <th>log_prob</th>\n",
       "      <th>pred_str</th>\n",
       "      <th>pred_factor_list</th>\n",
       "      <th>product</th>\n",
       "      <th>num_pred_factors</th>\n",
       "      <th>num_prime_factors_pred</th>\n",
       "      <th>percent_prime_factors_pred</th>\n",
       "      <th>correct_product</th>\n",
       "      <th>correct_factorization</th>\n",
       "      <th>pred_same_as_input</th>\n",
       "      <th>input_is_prime</th>\n",
       "      <th>target_factor_str</th>\n",
       "      <th>target_factor_list</th>\n",
       "      <th>num_target_factors</th>\n",
       "      <th>min_target_prime_factor_if_composite</th>\n",
       "    </tr>\n",
       "  </thead>\n",
       "  <tbody>\n",
       "    <tr>\n",
       "      <th>0</th>\n",
       "      <td>4</td>\n",
       "      <td>[[SOS], 4, [EOS]]</td>\n",
       "      <td>0</td>\n",
       "      <td>-0.000280</td>\n",
       "      <td>[SOS] 2 * 2 [EOS] [PAD] [PAD] [PAD]</td>\n",
       "      <td>[2, 2]</td>\n",
       "      <td>4</td>\n",
       "      <td>2</td>\n",
       "      <td>2</td>\n",
       "      <td>1.0</td>\n",
       "      <td>True</td>\n",
       "      <td>True</td>\n",
       "      <td>False</td>\n",
       "      <td>False</td>\n",
       "      <td>[SOS] 2 * 2 [EOS]</td>\n",
       "      <td>[2, 2]</td>\n",
       "      <td>2</td>\n",
       "      <td>2</td>\n",
       "    </tr>\n",
       "    <tr>\n",
       "      <th>1</th>\n",
       "      <td>4</td>\n",
       "      <td>[[SOS], 4, [EOS]]</td>\n",
       "      <td>1</td>\n",
       "      <td>-8.205846</td>\n",
       "      <td>[SOS] 2 * 2 * 1 1 [EOS]</td>\n",
       "      <td>[2, 2, 31]</td>\n",
       "      <td>124</td>\n",
       "      <td>3</td>\n",
       "      <td>3</td>\n",
       "      <td>1.0</td>\n",
       "      <td>False</td>\n",
       "      <td>False</td>\n",
       "      <td>False</td>\n",
       "      <td>False</td>\n",
       "      <td>[SOS] 2 * 2 [EOS]</td>\n",
       "      <td>[2, 2]</td>\n",
       "      <td>2</td>\n",
       "      <td>2</td>\n",
       "    </tr>\n",
       "    <tr>\n",
       "      <th>2</th>\n",
       "      <td>4</td>\n",
       "      <td>[[SOS], 4, [EOS]]</td>\n",
       "      <td>2</td>\n",
       "      <td>-9.210621</td>\n",
       "      <td>[SOS] 2 * 2 [EOS] [PAD] [PAD] 0</td>\n",
       "      <td>[2, 60]</td>\n",
       "      <td>120</td>\n",
       "      <td>2</td>\n",
       "      <td>1</td>\n",
       "      <td>0.5</td>\n",
       "      <td>False</td>\n",
       "      <td>False</td>\n",
       "      <td>False</td>\n",
       "      <td>False</td>\n",
       "      <td>[SOS] 2 * 2 [EOS]</td>\n",
       "      <td>[2, 2]</td>\n",
       "      <td>2</td>\n",
       "      <td>2</td>\n",
       "    </tr>\n",
       "    <tr>\n",
       "      <th>3</th>\n",
       "      <td>4</td>\n",
       "      <td>[[SOS], 4, [EOS]]</td>\n",
       "      <td>3</td>\n",
       "      <td>-9.210621</td>\n",
       "      <td>[SOS] 2 * 2 [EOS] [PAD] [PAD] 1</td>\n",
       "      <td>[2, 61]</td>\n",
       "      <td>122</td>\n",
       "      <td>2</td>\n",
       "      <td>2</td>\n",
       "      <td>1.0</td>\n",
       "      <td>False</td>\n",
       "      <td>False</td>\n",
       "      <td>False</td>\n",
       "      <td>False</td>\n",
       "      <td>[SOS] 2 * 2 [EOS]</td>\n",
       "      <td>[2, 2]</td>\n",
       "      <td>2</td>\n",
       "      <td>2</td>\n",
       "    </tr>\n",
       "    <tr>\n",
       "      <th>4</th>\n",
       "      <td>4</td>\n",
       "      <td>[[SOS], 4, [EOS]]</td>\n",
       "      <td>4</td>\n",
       "      <td>-9.210621</td>\n",
       "      <td>[SOS] 2 * 2 [EOS] [PAD] [PAD] 2</td>\n",
       "      <td>[2, 62]</td>\n",
       "      <td>124</td>\n",
       "      <td>2</td>\n",
       "      <td>1</td>\n",
       "      <td>0.5</td>\n",
       "      <td>False</td>\n",
       "      <td>False</td>\n",
       "      <td>False</td>\n",
       "      <td>False</td>\n",
       "      <td>[SOS] 2 * 2 [EOS]</td>\n",
       "      <td>[2, 2]</td>\n",
       "      <td>2</td>\n",
       "      <td>2</td>\n",
       "    </tr>\n",
       "    <tr>\n",
       "      <th>...</th>\n",
       "      <td>...</td>\n",
       "      <td>...</td>\n",
       "      <td>...</td>\n",
       "      <td>...</td>\n",
       "      <td>...</td>\n",
       "      <td>...</td>\n",
       "      <td>...</td>\n",
       "      <td>...</td>\n",
       "      <td>...</td>\n",
       "      <td>...</td>\n",
       "      <td>...</td>\n",
       "      <td>...</td>\n",
       "      <td>...</td>\n",
       "      <td>...</td>\n",
       "      <td>...</td>\n",
       "      <td>...</td>\n",
       "      <td>...</td>\n",
       "      <td>...</td>\n",
       "    </tr>\n",
       "    <tr>\n",
       "      <th>535</th>\n",
       "      <td>63001</td>\n",
       "      <td>[[SOS], 2, 10, 0, 1, [EOS]]</td>\n",
       "      <td>5</td>\n",
       "      <td>-3.138722</td>\n",
       "      <td>[SOS] 2 11 * 29 11 [EOS] [PAD] [PAD]</td>\n",
       "      <td>[71, 881]</td>\n",
       "      <td>62551</td>\n",
       "      <td>2</td>\n",
       "      <td>2</td>\n",
       "      <td>1.0</td>\n",
       "      <td>False</td>\n",
       "      <td>False</td>\n",
       "      <td>False</td>\n",
       "      <td>False</td>\n",
       "      <td>[SOS] 8 11 * 8 11 [EOS]</td>\n",
       "      <td>[251, 251]</td>\n",
       "      <td>2</td>\n",
       "      <td>251</td>\n",
       "    </tr>\n",
       "    <tr>\n",
       "      <th>536</th>\n",
       "      <td>63001</td>\n",
       "      <td>[[SOS], 2, 10, 0, 1, [EOS]]</td>\n",
       "      <td>6</td>\n",
       "      <td>-3.304835</td>\n",
       "      <td>[SOS] 17 * 1 7 * 3 11 [EOS]</td>\n",
       "      <td>[17, 37, 101]</td>\n",
       "      <td>63529</td>\n",
       "      <td>3</td>\n",
       "      <td>3</td>\n",
       "      <td>1.0</td>\n",
       "      <td>False</td>\n",
       "      <td>False</td>\n",
       "      <td>False</td>\n",
       "      <td>False</td>\n",
       "      <td>[SOS] 8 11 * 8 11 [EOS]</td>\n",
       "      <td>[251, 251]</td>\n",
       "      <td>2</td>\n",
       "      <td>251</td>\n",
       "    </tr>\n",
       "    <tr>\n",
       "      <th>537</th>\n",
       "      <td>63001</td>\n",
       "      <td>[[SOS], 2, 10, 0, 1, [EOS]]</td>\n",
       "      <td>7</td>\n",
       "      <td>-3.326592</td>\n",
       "      <td>[SOS] 19 * 3 20 19 [EOS] [PAD] [PAD]</td>\n",
       "      <td>[19, 3319]</td>\n",
       "      <td>63061</td>\n",
       "      <td>2</td>\n",
       "      <td>2</td>\n",
       "      <td>1.0</td>\n",
       "      <td>False</td>\n",
       "      <td>False</td>\n",
       "      <td>False</td>\n",
       "      <td>False</td>\n",
       "      <td>[SOS] 8 11 * 8 11 [EOS]</td>\n",
       "      <td>[251, 251]</td>\n",
       "      <td>2</td>\n",
       "      <td>251</td>\n",
       "    </tr>\n",
       "    <tr>\n",
       "      <th>538</th>\n",
       "      <td>63001</td>\n",
       "      <td>[[SOS], 2, 10, 0, 1, [EOS]]</td>\n",
       "      <td>8</td>\n",
       "      <td>-3.552692</td>\n",
       "      <td>[SOS] 23 * 1 11 * 2 7 [EOS]</td>\n",
       "      <td>[23, 41, 67]</td>\n",
       "      <td>63181</td>\n",
       "      <td>3</td>\n",
       "      <td>3</td>\n",
       "      <td>1.0</td>\n",
       "      <td>False</td>\n",
       "      <td>False</td>\n",
       "      <td>False</td>\n",
       "      <td>False</td>\n",
       "      <td>[SOS] 8 11 * 8 11 [EOS]</td>\n",
       "      <td>[251, 251]</td>\n",
       "      <td>2</td>\n",
       "      <td>251</td>\n",
       "    </tr>\n",
       "    <tr>\n",
       "      <th>539</th>\n",
       "      <td>63001</td>\n",
       "      <td>[[SOS], 2, 10, 0, 1, [EOS]]</td>\n",
       "      <td>9</td>\n",
       "      <td>-3.774047</td>\n",
       "      <td>[SOS] 5 29 * 11 29 [EOS] [PAD] [PAD]</td>\n",
       "      <td>[179, 359]</td>\n",
       "      <td>64261</td>\n",
       "      <td>2</td>\n",
       "      <td>2</td>\n",
       "      <td>1.0</td>\n",
       "      <td>False</td>\n",
       "      <td>False</td>\n",
       "      <td>False</td>\n",
       "      <td>False</td>\n",
       "      <td>[SOS] 8 11 * 8 11 [EOS]</td>\n",
       "      <td>[251, 251]</td>\n",
       "      <td>2</td>\n",
       "      <td>251</td>\n",
       "    </tr>\n",
       "  </tbody>\n",
       "</table>\n",
       "<p>540 rows × 18 columns</p>\n",
       "</div>"
      ],
      "text/plain": [
       "     input_num                  model_input  beam_idx  log_prob  \\\n",
       "0            4            [[SOS], 4, [EOS]]         0 -0.000280   \n",
       "1            4            [[SOS], 4, [EOS]]         1 -8.205846   \n",
       "2            4            [[SOS], 4, [EOS]]         2 -9.210621   \n",
       "3            4            [[SOS], 4, [EOS]]         3 -9.210621   \n",
       "4            4            [[SOS], 4, [EOS]]         4 -9.210621   \n",
       "..         ...                          ...       ...       ...   \n",
       "535      63001  [[SOS], 2, 10, 0, 1, [EOS]]         5 -3.138722   \n",
       "536      63001  [[SOS], 2, 10, 0, 1, [EOS]]         6 -3.304835   \n",
       "537      63001  [[SOS], 2, 10, 0, 1, [EOS]]         7 -3.326592   \n",
       "538      63001  [[SOS], 2, 10, 0, 1, [EOS]]         8 -3.552692   \n",
       "539      63001  [[SOS], 2, 10, 0, 1, [EOS]]         9 -3.774047   \n",
       "\n",
       "                                 pred_str pred_factor_list  product  \\\n",
       "0     [SOS] 2 * 2 [EOS] [PAD] [PAD] [PAD]           [2, 2]        4   \n",
       "1                 [SOS] 2 * 2 * 1 1 [EOS]       [2, 2, 31]      124   \n",
       "2         [SOS] 2 * 2 [EOS] [PAD] [PAD] 0          [2, 60]      120   \n",
       "3         [SOS] 2 * 2 [EOS] [PAD] [PAD] 1          [2, 61]      122   \n",
       "4         [SOS] 2 * 2 [EOS] [PAD] [PAD] 2          [2, 62]      124   \n",
       "..                                    ...              ...      ...   \n",
       "535  [SOS] 2 11 * 29 11 [EOS] [PAD] [PAD]        [71, 881]    62551   \n",
       "536           [SOS] 17 * 1 7 * 3 11 [EOS]    [17, 37, 101]    63529   \n",
       "537  [SOS] 19 * 3 20 19 [EOS] [PAD] [PAD]       [19, 3319]    63061   \n",
       "538           [SOS] 23 * 1 11 * 2 7 [EOS]     [23, 41, 67]    63181   \n",
       "539  [SOS] 5 29 * 11 29 [EOS] [PAD] [PAD]       [179, 359]    64261   \n",
       "\n",
       "     num_pred_factors  num_prime_factors_pred  percent_prime_factors_pred  \\\n",
       "0                   2                       2                         1.0   \n",
       "1                   3                       3                         1.0   \n",
       "2                   2                       1                         0.5   \n",
       "3                   2                       2                         1.0   \n",
       "4                   2                       1                         0.5   \n",
       "..                ...                     ...                         ...   \n",
       "535                 2                       2                         1.0   \n",
       "536                 3                       3                         1.0   \n",
       "537                 2                       2                         1.0   \n",
       "538                 3                       3                         1.0   \n",
       "539                 2                       2                         1.0   \n",
       "\n",
       "     correct_product  correct_factorization  pred_same_as_input  \\\n",
       "0               True                   True               False   \n",
       "1              False                  False               False   \n",
       "2              False                  False               False   \n",
       "3              False                  False               False   \n",
       "4              False                  False               False   \n",
       "..               ...                    ...                 ...   \n",
       "535            False                  False               False   \n",
       "536            False                  False               False   \n",
       "537            False                  False               False   \n",
       "538            False                  False               False   \n",
       "539            False                  False               False   \n",
       "\n",
       "     input_is_prime        target_factor_str target_factor_list  \\\n",
       "0             False        [SOS] 2 * 2 [EOS]             [2, 2]   \n",
       "1             False        [SOS] 2 * 2 [EOS]             [2, 2]   \n",
       "2             False        [SOS] 2 * 2 [EOS]             [2, 2]   \n",
       "3             False        [SOS] 2 * 2 [EOS]             [2, 2]   \n",
       "4             False        [SOS] 2 * 2 [EOS]             [2, 2]   \n",
       "..              ...                      ...                ...   \n",
       "535           False  [SOS] 8 11 * 8 11 [EOS]         [251, 251]   \n",
       "536           False  [SOS] 8 11 * 8 11 [EOS]         [251, 251]   \n",
       "537           False  [SOS] 8 11 * 8 11 [EOS]         [251, 251]   \n",
       "538           False  [SOS] 8 11 * 8 11 [EOS]         [251, 251]   \n",
       "539           False  [SOS] 8 11 * 8 11 [EOS]         [251, 251]   \n",
       "\n",
       "     num_target_factors  min_target_prime_factor_if_composite  \n",
       "0                     2                                     2  \n",
       "1                     2                                     2  \n",
       "2                     2                                     2  \n",
       "3                     2                                     2  \n",
       "4                     2                                     2  \n",
       "..                  ...                                   ...  \n",
       "535                   2                                   251  \n",
       "536                   2                                   251  \n",
       "537                   2                                   251  \n",
       "538                   2                                   251  \n",
       "539                   2                                   251  \n",
       "\n",
       "[540 rows x 18 columns]"
      ]
     },
     "execution_count": 54,
     "metadata": {},
     "output_type": "execute_result"
    }
   ],
   "source": [
    "square_df"
   ]
  },
  {
   "cell_type": "code",
   "execution_count": 55,
   "metadata": {},
   "outputs": [
    {
     "data": {
      "application/vnd.jupyter.widget-view+json": {
       "model_id": "",
       "version_major": 2,
       "version_minor": 0
      },
      "text/plain": [
       "  0%|          | 0/54 [00:00<?, ?it/s]"
      ]
     },
     "metadata": {},
     "output_type": "display_data"
    }
   ],
   "source": [
    "cube_df = problem.form_prediction_df(model, device, cubes, args['model_args']['max_decode_size'], n_beams = 10)"
   ]
  },
  {
   "cell_type": "code",
   "execution_count": 56,
   "metadata": {
    "scrolled": false
   },
   "outputs": [
    {
     "data": {
      "text/plain": [
       "0.09259259259259259"
      ]
     },
     "execution_count": 56,
     "metadata": {},
     "output_type": "execute_result"
    }
   ],
   "source": [
    "cube_df[cube_df['beam_idx']==0]['correct_factorization'].mean()"
   ]
  },
  {
   "cell_type": "code",
   "execution_count": 57,
   "metadata": {
    "scrolled": true
   },
   "outputs": [
    {
     "data": {
      "text/html": [
       "<div>\n",
       "<style scoped>\n",
       "    .dataframe tbody tr th:only-of-type {\n",
       "        vertical-align: middle;\n",
       "    }\n",
       "\n",
       "    .dataframe tbody tr th {\n",
       "        vertical-align: top;\n",
       "    }\n",
       "\n",
       "    .dataframe thead th {\n",
       "        text-align: right;\n",
       "    }\n",
       "</style>\n",
       "<table border=\"1\" class=\"dataframe\">\n",
       "  <thead>\n",
       "    <tr style=\"text-align: right;\">\n",
       "      <th></th>\n",
       "      <th>input_num</th>\n",
       "      <th>model_input</th>\n",
       "      <th>beam_idx</th>\n",
       "      <th>log_prob</th>\n",
       "      <th>pred_str</th>\n",
       "      <th>pred_factor_list</th>\n",
       "      <th>product</th>\n",
       "      <th>num_pred_factors</th>\n",
       "      <th>num_prime_factors_pred</th>\n",
       "      <th>percent_prime_factors_pred</th>\n",
       "      <th>correct_product</th>\n",
       "      <th>correct_factorization</th>\n",
       "      <th>pred_same_as_input</th>\n",
       "      <th>input_is_prime</th>\n",
       "      <th>target_factor_str</th>\n",
       "      <th>target_factor_list</th>\n",
       "      <th>num_target_factors</th>\n",
       "      <th>min_target_prime_factor_if_composite</th>\n",
       "    </tr>\n",
       "  </thead>\n",
       "  <tbody>\n",
       "    <tr>\n",
       "      <th>0</th>\n",
       "      <td>8</td>\n",
       "      <td>[[SOS], 8, [EOS]]</td>\n",
       "      <td>0</td>\n",
       "      <td>-0.001551</td>\n",
       "      <td>[SOS] 2 * 2 * 2 [EOS] [PAD] [PAD] [PAD]</td>\n",
       "      <td>[2, 2, 2]</td>\n",
       "      <td>8</td>\n",
       "      <td>3</td>\n",
       "      <td>3</td>\n",
       "      <td>1.0</td>\n",
       "      <td>True</td>\n",
       "      <td>True</td>\n",
       "      <td>False</td>\n",
       "      <td>False</td>\n",
       "      <td>[SOS] 2 * 2 * 2 [EOS]</td>\n",
       "      <td>[2, 2, 2]</td>\n",
       "      <td>3</td>\n",
       "      <td>2</td>\n",
       "    </tr>\n",
       "    <tr>\n",
       "      <th>10</th>\n",
       "      <td>27</td>\n",
       "      <td>[[SOS], 27, [EOS]]</td>\n",
       "      <td>0</td>\n",
       "      <td>-0.000216</td>\n",
       "      <td>[SOS] 3 * 3 * 3 [EOS] [PAD] [PAD] [PAD]</td>\n",
       "      <td>[3, 3, 3]</td>\n",
       "      <td>27</td>\n",
       "      <td>3</td>\n",
       "      <td>3</td>\n",
       "      <td>1.0</td>\n",
       "      <td>True</td>\n",
       "      <td>True</td>\n",
       "      <td>False</td>\n",
       "      <td>False</td>\n",
       "      <td>[SOS] 3 * 3 * 3 [EOS]</td>\n",
       "      <td>[3, 3, 3]</td>\n",
       "      <td>3</td>\n",
       "      <td>3</td>\n",
       "    </tr>\n",
       "    <tr>\n",
       "      <th>20</th>\n",
       "      <td>125</td>\n",
       "      <td>[[SOS], 4, 5, [EOS]]</td>\n",
       "      <td>0</td>\n",
       "      <td>-0.000183</td>\n",
       "      <td>[SOS] 5 * 5 * 5 [EOS] [PAD]</td>\n",
       "      <td>[5, 5, 5]</td>\n",
       "      <td>125</td>\n",
       "      <td>3</td>\n",
       "      <td>3</td>\n",
       "      <td>1.0</td>\n",
       "      <td>True</td>\n",
       "      <td>True</td>\n",
       "      <td>False</td>\n",
       "      <td>False</td>\n",
       "      <td>[SOS] 5 * 5 * 5 [EOS]</td>\n",
       "      <td>[5, 5, 5]</td>\n",
       "      <td>3</td>\n",
       "      <td>5</td>\n",
       "    </tr>\n",
       "    <tr>\n",
       "      <th>30</th>\n",
       "      <td>343</td>\n",
       "      <td>[[SOS], 11, 13, [EOS]]</td>\n",
       "      <td>0</td>\n",
       "      <td>-1.034568</td>\n",
       "      <td>[SOS] 11 13 [EOS] [PAD] [PAD] [PAD]</td>\n",
       "      <td>[343]</td>\n",
       "      <td>343</td>\n",
       "      <td>1</td>\n",
       "      <td>0</td>\n",
       "      <td>0.0</td>\n",
       "      <td>True</td>\n",
       "      <td>False</td>\n",
       "      <td>False</td>\n",
       "      <td>False</td>\n",
       "      <td>[SOS] 7 * 7 * 7 [EOS]</td>\n",
       "      <td>[7, 7, 7]</td>\n",
       "      <td>3</td>\n",
       "      <td>7</td>\n",
       "    </tr>\n",
       "    <tr>\n",
       "      <th>40</th>\n",
       "      <td>1331</td>\n",
       "      <td>[[SOS], 1, 14, 11, [EOS]]</td>\n",
       "      <td>0</td>\n",
       "      <td>-0.524708</td>\n",
       "      <td>[SOS] 1 14 11 [EOS] [PAD] [PAD]</td>\n",
       "      <td>[1331]</td>\n",
       "      <td>1331</td>\n",
       "      <td>1</td>\n",
       "      <td>0</td>\n",
       "      <td>0.0</td>\n",
       "      <td>True</td>\n",
       "      <td>False</td>\n",
       "      <td>False</td>\n",
       "      <td>False</td>\n",
       "      <td>[SOS] 11 * 11 * 11 [EOS]</td>\n",
       "      <td>[11, 11, 11]</td>\n",
       "      <td>3</td>\n",
       "      <td>11</td>\n",
       "    </tr>\n",
       "    <tr>\n",
       "      <th>50</th>\n",
       "      <td>2197</td>\n",
       "      <td>[[SOS], 2, 13, 7, [EOS]]</td>\n",
       "      <td>0</td>\n",
       "      <td>-0.613068</td>\n",
       "      <td>[SOS] 2 13 7 [EOS] [PAD] [PAD]</td>\n",
       "      <td>[2197]</td>\n",
       "      <td>2197</td>\n",
       "      <td>1</td>\n",
       "      <td>0</td>\n",
       "      <td>0.0</td>\n",
       "      <td>True</td>\n",
       "      <td>False</td>\n",
       "      <td>False</td>\n",
       "      <td>False</td>\n",
       "      <td>[SOS] 13 * 13 * 13 [EOS]</td>\n",
       "      <td>[13, 13, 13]</td>\n",
       "      <td>3</td>\n",
       "      <td>13</td>\n",
       "    </tr>\n",
       "    <tr>\n",
       "      <th>60</th>\n",
       "      <td>4913</td>\n",
       "      <td>[[SOS], 5, 13, 23, [EOS]]</td>\n",
       "      <td>0</td>\n",
       "      <td>-0.767244</td>\n",
       "      <td>[SOS] 5 13 23 [EOS] [PAD] [PAD]</td>\n",
       "      <td>[4913]</td>\n",
       "      <td>4913</td>\n",
       "      <td>1</td>\n",
       "      <td>0</td>\n",
       "      <td>0.0</td>\n",
       "      <td>True</td>\n",
       "      <td>False</td>\n",
       "      <td>False</td>\n",
       "      <td>False</td>\n",
       "      <td>[SOS] 17 * 17 * 17 [EOS]</td>\n",
       "      <td>[17, 17, 17]</td>\n",
       "      <td>3</td>\n",
       "      <td>17</td>\n",
       "    </tr>\n",
       "    <tr>\n",
       "      <th>70</th>\n",
       "      <td>6859</td>\n",
       "      <td>[[SOS], 7, 18, 19, [EOS]]</td>\n",
       "      <td>0</td>\n",
       "      <td>-0.892139</td>\n",
       "      <td>[SOS] 7 18 19 [EOS] [PAD] [PAD] [PAD]</td>\n",
       "      <td>[6859]</td>\n",
       "      <td>6859</td>\n",
       "      <td>1</td>\n",
       "      <td>0</td>\n",
       "      <td>0.0</td>\n",
       "      <td>True</td>\n",
       "      <td>False</td>\n",
       "      <td>False</td>\n",
       "      <td>False</td>\n",
       "      <td>[SOS] 19 * 19 * 19 [EOS]</td>\n",
       "      <td>[19, 19, 19]</td>\n",
       "      <td>3</td>\n",
       "      <td>19</td>\n",
       "    </tr>\n",
       "    <tr>\n",
       "      <th>80</th>\n",
       "      <td>12167</td>\n",
       "      <td>[[SOS], 13, 15, 17, [EOS]]</td>\n",
       "      <td>0</td>\n",
       "      <td>-0.593286</td>\n",
       "      <td>[SOS] 13 15 17 [EOS] [PAD] [PAD] [PAD]</td>\n",
       "      <td>[12167]</td>\n",
       "      <td>12167</td>\n",
       "      <td>1</td>\n",
       "      <td>0</td>\n",
       "      <td>0.0</td>\n",
       "      <td>True</td>\n",
       "      <td>False</td>\n",
       "      <td>False</td>\n",
       "      <td>False</td>\n",
       "      <td>[SOS] 23 * 23 * 23 [EOS]</td>\n",
       "      <td>[23, 23, 23]</td>\n",
       "      <td>3</td>\n",
       "      <td>23</td>\n",
       "    </tr>\n",
       "    <tr>\n",
       "      <th>90</th>\n",
       "      <td>24389</td>\n",
       "      <td>[[SOS], 27, 2, 29, [EOS]]</td>\n",
       "      <td>0</td>\n",
       "      <td>-1.066110</td>\n",
       "      <td>[SOS] 27 2 29 [EOS] [PAD] [PAD] [PAD] [PAD]</td>\n",
       "      <td>[24389]</td>\n",
       "      <td>24389</td>\n",
       "      <td>1</td>\n",
       "      <td>0</td>\n",
       "      <td>0.0</td>\n",
       "      <td>True</td>\n",
       "      <td>False</td>\n",
       "      <td>False</td>\n",
       "      <td>False</td>\n",
       "      <td>[SOS] 29 * 29 * 29 [EOS]</td>\n",
       "      <td>[29, 29, 29]</td>\n",
       "      <td>3</td>\n",
       "      <td>29</td>\n",
       "    </tr>\n",
       "  </tbody>\n",
       "</table>\n",
       "</div>"
      ],
      "text/plain": [
       "    input_num                 model_input  beam_idx  log_prob  \\\n",
       "0           8           [[SOS], 8, [EOS]]         0 -0.001551   \n",
       "10         27          [[SOS], 27, [EOS]]         0 -0.000216   \n",
       "20        125        [[SOS], 4, 5, [EOS]]         0 -0.000183   \n",
       "30        343      [[SOS], 11, 13, [EOS]]         0 -1.034568   \n",
       "40       1331   [[SOS], 1, 14, 11, [EOS]]         0 -0.524708   \n",
       "50       2197    [[SOS], 2, 13, 7, [EOS]]         0 -0.613068   \n",
       "60       4913   [[SOS], 5, 13, 23, [EOS]]         0 -0.767244   \n",
       "70       6859   [[SOS], 7, 18, 19, [EOS]]         0 -0.892139   \n",
       "80      12167  [[SOS], 13, 15, 17, [EOS]]         0 -0.593286   \n",
       "90      24389   [[SOS], 27, 2, 29, [EOS]]         0 -1.066110   \n",
       "\n",
       "                                       pred_str pred_factor_list  product  \\\n",
       "0       [SOS] 2 * 2 * 2 [EOS] [PAD] [PAD] [PAD]        [2, 2, 2]        8   \n",
       "10      [SOS] 3 * 3 * 3 [EOS] [PAD] [PAD] [PAD]        [3, 3, 3]       27   \n",
       "20                  [SOS] 5 * 5 * 5 [EOS] [PAD]        [5, 5, 5]      125   \n",
       "30          [SOS] 11 13 [EOS] [PAD] [PAD] [PAD]            [343]      343   \n",
       "40              [SOS] 1 14 11 [EOS] [PAD] [PAD]           [1331]     1331   \n",
       "50               [SOS] 2 13 7 [EOS] [PAD] [PAD]           [2197]     2197   \n",
       "60              [SOS] 5 13 23 [EOS] [PAD] [PAD]           [4913]     4913   \n",
       "70        [SOS] 7 18 19 [EOS] [PAD] [PAD] [PAD]           [6859]     6859   \n",
       "80       [SOS] 13 15 17 [EOS] [PAD] [PAD] [PAD]          [12167]    12167   \n",
       "90  [SOS] 27 2 29 [EOS] [PAD] [PAD] [PAD] [PAD]          [24389]    24389   \n",
       "\n",
       "    num_pred_factors  num_prime_factors_pred  percent_prime_factors_pred  \\\n",
       "0                  3                       3                         1.0   \n",
       "10                 3                       3                         1.0   \n",
       "20                 3                       3                         1.0   \n",
       "30                 1                       0                         0.0   \n",
       "40                 1                       0                         0.0   \n",
       "50                 1                       0                         0.0   \n",
       "60                 1                       0                         0.0   \n",
       "70                 1                       0                         0.0   \n",
       "80                 1                       0                         0.0   \n",
       "90                 1                       0                         0.0   \n",
       "\n",
       "    correct_product  correct_factorization  pred_same_as_input  \\\n",
       "0              True                   True               False   \n",
       "10             True                   True               False   \n",
       "20             True                   True               False   \n",
       "30             True                  False               False   \n",
       "40             True                  False               False   \n",
       "50             True                  False               False   \n",
       "60             True                  False               False   \n",
       "70             True                  False               False   \n",
       "80             True                  False               False   \n",
       "90             True                  False               False   \n",
       "\n",
       "    input_is_prime         target_factor_str target_factor_list  \\\n",
       "0            False     [SOS] 2 * 2 * 2 [EOS]          [2, 2, 2]   \n",
       "10           False     [SOS] 3 * 3 * 3 [EOS]          [3, 3, 3]   \n",
       "20           False     [SOS] 5 * 5 * 5 [EOS]          [5, 5, 5]   \n",
       "30           False     [SOS] 7 * 7 * 7 [EOS]          [7, 7, 7]   \n",
       "40           False  [SOS] 11 * 11 * 11 [EOS]       [11, 11, 11]   \n",
       "50           False  [SOS] 13 * 13 * 13 [EOS]       [13, 13, 13]   \n",
       "60           False  [SOS] 17 * 17 * 17 [EOS]       [17, 17, 17]   \n",
       "70           False  [SOS] 19 * 19 * 19 [EOS]       [19, 19, 19]   \n",
       "80           False  [SOS] 23 * 23 * 23 [EOS]       [23, 23, 23]   \n",
       "90           False  [SOS] 29 * 29 * 29 [EOS]       [29, 29, 29]   \n",
       "\n",
       "    num_target_factors  min_target_prime_factor_if_composite  \n",
       "0                    3                                     2  \n",
       "10                   3                                     3  \n",
       "20                   3                                     5  \n",
       "30                   3                                     7  \n",
       "40                   3                                    11  \n",
       "50                   3                                    13  \n",
       "60                   3                                    17  \n",
       "70                   3                                    19  \n",
       "80                   3                                    23  \n",
       "90                   3                                    29  "
      ]
     },
     "execution_count": 57,
     "metadata": {},
     "output_type": "execute_result"
    }
   ],
   "source": [
    "cube_df[cube_df['beam_idx'] == 0].head(10)"
   ]
  },
  {
   "cell_type": "code",
   "execution_count": 58,
   "metadata": {},
   "outputs": [
    {
     "data": {
      "text/plain": [
       "correct_factorization    0.37037\n",
       "dtype: float64"
      ]
     },
     "execution_count": 58,
     "metadata": {},
     "output_type": "execute_result"
    }
   ],
   "source": [
    "cube_df.groupby('input_num').agg({'correct_factorization' : 'any'}).mean()"
   ]
  },
  {
   "cell_type": "markdown",
   "metadata": {},
   "source": [
    "### When encoding two different numbers, what are the cosine similarities of their representations?"
   ]
  },
  {
   "cell_type": "code",
   "execution_count": 59,
   "metadata": {},
   "outputs": [],
   "source": [
    "first_int = 16\n",
    "second_int = 32"
   ]
  },
  {
   "cell_type": "code",
   "execution_count": 60,
   "metadata": {},
   "outputs": [],
   "source": [
    "def get_reps_for_number(number):\n",
    "    tokens = t.encode(problem.form_input(number, args['data']['base']))\n",
    "    tens = torch.tensor(tokens).unsqueeze(0).to(device)\n",
    "    memory, _ = model.encode(tens)\n",
    "    return memory.squeeze().data.cpu().numpy(), tokens"
   ]
  },
  {
   "cell_type": "code",
   "execution_count": 61,
   "metadata": {},
   "outputs": [],
   "source": [
    "first_reps, first_tokens = get_reps_for_number(first_int)\n",
    "second_reps, second_tokens = get_reps_for_number(second_int)"
   ]
  },
  {
   "cell_type": "code",
   "execution_count": 62,
   "metadata": {},
   "outputs": [],
   "source": [
    "cs_sims = cosine_similarity(first_reps, second_reps)"
   ]
  },
  {
   "cell_type": "code",
   "execution_count": 63,
   "metadata": {},
   "outputs": [
    {
     "data": {
      "image/png": "[encoded data removed]",
      "text/plain": [
       "<Figure size 576x576 with 2 Axes>"
      ]
     },
     "metadata": {
      "needs_background": "light"
     },
     "output_type": "display_data"
    }
   ],
   "source": [
    "fig = plt.gcf()\n",
    "fig.set_size_inches(8,8)\n",
    "ax = plt.gca()\n",
    "plt.colorbar(ax.matshow(cs_sims), ax=ax)\n",
    "ax.set_xticks(np.arange(cs_sims.shape[1]))\n",
    "ax.set_yticks(np.arange(cs_sims.shape[0]))\n",
    "ax.set_xticklabels(t.decode(second_tokens, decode_special=True).split(' '))\n",
    "ax.set_yticklabels(t.decode(first_tokens, decode_special=True).split(' '))\n",
    "\n",
    "plt.xlabel(second_int, fontsize=32)\n",
    "ax.xaxis.set_label_position('top') \n",
    "plt.ylabel(first_int, fontsize=32)\n",
    "\n",
    "plt.show()"
   ]
  },
  {
   "cell_type": "markdown",
   "metadata": {},
   "source": [
    "# When the model gets it wrong, what is the probability of the right sequence?"
   ]
  },
  {
   "cell_type": "code",
   "execution_count": 64,
   "metadata": {},
   "outputs": [],
   "source": [
    "import Levenshtein"
   ]
  },
  {
   "cell_type": "code",
   "execution_count": 65,
   "metadata": {},
   "outputs": [],
   "source": [
    "target_num = 277337"
   ]
  },
  {
   "cell_type": "code",
   "execution_count": 66,
   "metadata": {
    "scrolled": true
   },
   "outputs": [
    {
     "data": {
      "application/vnd.jupyter.widget-view+json": {
       "model_id": "",
       "version_major": 2,
       "version_minor": 0
      },
      "text/plain": [
       "  0%|          | 0/1 [00:00<?, ?it/s]"
      ]
     },
     "metadata": {},
     "output_type": "display_data"
    },
    {
     "data": {
      "text/html": [
       "<div>\n",
       "<style scoped>\n",
       "    .dataframe tbody tr th:only-of-type {\n",
       "        vertical-align: middle;\n",
       "    }\n",
       "\n",
       "    .dataframe tbody tr th {\n",
       "        vertical-align: top;\n",
       "    }\n",
       "\n",
       "    .dataframe thead th {\n",
       "        text-align: right;\n",
       "    }\n",
       "</style>\n",
       "<table border=\"1\" class=\"dataframe\">\n",
       "  <thead>\n",
       "    <tr style=\"text-align: right;\">\n",
       "      <th></th>\n",
       "      <th>input_num</th>\n",
       "      <th>model_input</th>\n",
       "      <th>beam_idx</th>\n",
       "      <th>log_prob</th>\n",
       "      <th>pred_str</th>\n",
       "      <th>pred_factor_list</th>\n",
       "      <th>product</th>\n",
       "      <th>num_pred_factors</th>\n",
       "      <th>num_prime_factors_pred</th>\n",
       "      <th>percent_prime_factors_pred</th>\n",
       "      <th>correct_product</th>\n",
       "      <th>correct_factorization</th>\n",
       "      <th>pred_same_as_input</th>\n",
       "      <th>input_is_prime</th>\n",
       "      <th>target_factor_str</th>\n",
       "      <th>target_factor_list</th>\n",
       "      <th>num_target_factors</th>\n",
       "      <th>min_target_prime_factor_if_composite</th>\n",
       "      <th>lev_dist</th>\n",
       "    </tr>\n",
       "  </thead>\n",
       "  <tbody>\n",
       "    <tr>\n",
       "      <th>0</th>\n",
       "      <td>277337</td>\n",
       "      <td>[[SOS], 10, 8, 4, 17, [EOS]]</td>\n",
       "      <td>0</td>\n",
       "      <td>-1.165038</td>\n",
       "      <td>[SOS] 10 8 4 17 [EOS] [PAD] [PAD] [PAD] [PAD] [PAD]</td>\n",
       "      <td>[277337]</td>\n",
       "      <td>277337</td>\n",
       "      <td>1</td>\n",
       "      <td>0</td>\n",
       "      <td>0.000000</td>\n",
       "      <td>True</td>\n",
       "      <td>False</td>\n",
       "      <td>False</td>\n",
       "      <td>False</td>\n",
       "      <td>[SOS] 15 13 * 19 29 [EOS]</td>\n",
       "      <td>[463, 599]</td>\n",
       "      <td>2</td>\n",
       "      <td>463</td>\n",
       "      <td>36</td>\n",
       "    </tr>\n",
       "    <tr>\n",
       "      <th>1</th>\n",
       "      <td>277337</td>\n",
       "      <td>[[SOS], 10, 8, 4, 17, [EOS]]</td>\n",
       "      <td>1</td>\n",
       "      <td>-1.835820</td>\n",
       "      <td>[SOS] 7 * 17 * 23 * 3 11 [EOS] [PAD]</td>\n",
       "      <td>[7, 17, 23, 101]</td>\n",
       "      <td>276437</td>\n",
       "      <td>4</td>\n",
       "      <td>4</td>\n",
       "      <td>1.000000</td>\n",
       "      <td>False</td>\n",
       "      <td>False</td>\n",
       "      <td>False</td>\n",
       "      <td>False</td>\n",
       "      <td>[SOS] 15 13 * 19 29 [EOS]</td>\n",
       "      <td>[463, 599]</td>\n",
       "      <td>2</td>\n",
       "      <td>463</td>\n",
       "      <td>18</td>\n",
       "    </tr>\n",
       "    <tr>\n",
       "      <th>2</th>\n",
       "      <td>277337</td>\n",
       "      <td>[[SOS], 10, 8, 4, 17, [EOS]]</td>\n",
       "      <td>2</td>\n",
       "      <td>-2.655088</td>\n",
       "      <td>[SOS] 11 * 19 * 1 1 * 1 13 [EOS]</td>\n",
       "      <td>[11, 19, 31, 43]</td>\n",
       "      <td>278597</td>\n",
       "      <td>4</td>\n",
       "      <td>4</td>\n",
       "      <td>1.000000</td>\n",
       "      <td>False</td>\n",
       "      <td>False</td>\n",
       "      <td>False</td>\n",
       "      <td>False</td>\n",
       "      <td>[SOS] 15 13 * 19 29 [EOS]</td>\n",
       "      <td>[463, 599]</td>\n",
       "      <td>2</td>\n",
       "      <td>463</td>\n",
       "      <td>12</td>\n",
       "    </tr>\n",
       "    <tr>\n",
       "      <th>3</th>\n",
       "      <td>277337</td>\n",
       "      <td>[[SOS], 10, 8, 4, 17, [EOS]]</td>\n",
       "      <td>3</td>\n",
       "      <td>-2.778504</td>\n",
       "      <td>[SOS] 1 29 * 5 6 13 [EOS] [PAD] [PAD] [PAD]</td>\n",
       "      <td>[59, 4693]</td>\n",
       "      <td>276887</td>\n",
       "      <td>2</td>\n",
       "      <td>1</td>\n",
       "      <td>0.500000</td>\n",
       "      <td>False</td>\n",
       "      <td>False</td>\n",
       "      <td>False</td>\n",
       "      <td>False</td>\n",
       "      <td>[SOS] 15 13 * 19 29 [EOS]</td>\n",
       "      <td>[463, 599]</td>\n",
       "      <td>2</td>\n",
       "      <td>463</td>\n",
       "      <td>26</td>\n",
       "    </tr>\n",
       "    <tr>\n",
       "      <th>4</th>\n",
       "      <td>277337</td>\n",
       "      <td>[[SOS], 10, 8, 4, 17, [EOS]]</td>\n",
       "      <td>4</td>\n",
       "      <td>-3.186208</td>\n",
       "      <td>[SOS] 13 * 2 13 * 9 23 [EOS] [PAD] [PAD]</td>\n",
       "      <td>[13, 73, 293]</td>\n",
       "      <td>278057</td>\n",
       "      <td>3</td>\n",
       "      <td>3</td>\n",
       "      <td>1.000000</td>\n",
       "      <td>False</td>\n",
       "      <td>False</td>\n",
       "      <td>False</td>\n",
       "      <td>False</td>\n",
       "      <td>[SOS] 15 13 * 19 29 [EOS]</td>\n",
       "      <td>[463, 599]</td>\n",
       "      <td>2</td>\n",
       "      <td>463</td>\n",
       "      <td>19</td>\n",
       "    </tr>\n",
       "    <tr>\n",
       "      <th>...</th>\n",
       "      <td>...</td>\n",
       "      <td>...</td>\n",
       "      <td>...</td>\n",
       "      <td>...</td>\n",
       "      <td>...</td>\n",
       "      <td>...</td>\n",
       "      <td>...</td>\n",
       "      <td>...</td>\n",
       "      <td>...</td>\n",
       "      <td>...</td>\n",
       "      <td>...</td>\n",
       "      <td>...</td>\n",
       "      <td>...</td>\n",
       "      <td>...</td>\n",
       "      <td>...</td>\n",
       "      <td>...</td>\n",
       "      <td>...</td>\n",
       "      <td>...</td>\n",
       "      <td>...</td>\n",
       "    </tr>\n",
       "    <tr>\n",
       "      <th>45</th>\n",
       "      <td>277337</td>\n",
       "      <td>[[SOS], 10, 8, 4, 17, [EOS]]</td>\n",
       "      <td>45</td>\n",
       "      <td>-7.455013</td>\n",
       "      <td>[SOS] 12 29 * 23 13 [EOS] [PAD] [PAD] [PAD] [PAD]</td>\n",
       "      <td>[389, 703]</td>\n",
       "      <td>273467</td>\n",
       "      <td>2</td>\n",
       "      <td>1</td>\n",
       "      <td>0.500000</td>\n",
       "      <td>False</td>\n",
       "      <td>False</td>\n",
       "      <td>False</td>\n",
       "      <td>False</td>\n",
       "      <td>[SOS] 15 13 * 19 29 [EOS]</td>\n",
       "      <td>[463, 599]</td>\n",
       "      <td>2</td>\n",
       "      <td>463</td>\n",
       "      <td>31</td>\n",
       "    </tr>\n",
       "    <tr>\n",
       "      <th>46</th>\n",
       "      <td>277337</td>\n",
       "      <td>[[SOS], 10, 8, 4, 17, [EOS]]</td>\n",
       "      <td>46</td>\n",
       "      <td>-7.466121</td>\n",
       "      <td>[SOS] 18 23 * 16 19 [EOS] [PAD] [PAD] [PAD] [PAD]</td>\n",
       "      <td>[563, 499]</td>\n",
       "      <td>280937</td>\n",
       "      <td>2</td>\n",
       "      <td>2</td>\n",
       "      <td>1.000000</td>\n",
       "      <td>False</td>\n",
       "      <td>False</td>\n",
       "      <td>False</td>\n",
       "      <td>False</td>\n",
       "      <td>[SOS] 15 13 * 19 29 [EOS]</td>\n",
       "      <td>[463, 599]</td>\n",
       "      <td>2</td>\n",
       "      <td>463</td>\n",
       "      <td>28</td>\n",
       "    </tr>\n",
       "    <tr>\n",
       "      <th>47</th>\n",
       "      <td>277337</td>\n",
       "      <td>[[SOS], 10, 8, 4, 17, [EOS]]</td>\n",
       "      <td>47</td>\n",
       "      <td>-7.482573</td>\n",
       "      <td>[SOS] 17 * 2 13 * 7 7 [EOS] [PAD] [PAD]</td>\n",
       "      <td>[17, 73, 217]</td>\n",
       "      <td>269297</td>\n",
       "      <td>3</td>\n",
       "      <td>2</td>\n",
       "      <td>0.666667</td>\n",
       "      <td>False</td>\n",
       "      <td>False</td>\n",
       "      <td>False</td>\n",
       "      <td>False</td>\n",
       "      <td>[SOS] 15 13 * 19 29 [EOS]</td>\n",
       "      <td>[463, 599]</td>\n",
       "      <td>2</td>\n",
       "      <td>463</td>\n",
       "      <td>21</td>\n",
       "    </tr>\n",
       "    <tr>\n",
       "      <th>48</th>\n",
       "      <td>277337</td>\n",
       "      <td>[[SOS], 10, 8, 4, 17, [EOS]]</td>\n",
       "      <td>48</td>\n",
       "      <td>-7.491855</td>\n",
       "      <td>[SOS] 1 29 * 5 7 13 [EOS] [PAD] [PAD] [PAD]</td>\n",
       "      <td>[59, 4723]</td>\n",
       "      <td>278657</td>\n",
       "      <td>2</td>\n",
       "      <td>2</td>\n",
       "      <td>1.000000</td>\n",
       "      <td>False</td>\n",
       "      <td>False</td>\n",
       "      <td>False</td>\n",
       "      <td>False</td>\n",
       "      <td>[SOS] 15 13 * 19 29 [EOS]</td>\n",
       "      <td>[463, 599]</td>\n",
       "      <td>2</td>\n",
       "      <td>463</td>\n",
       "      <td>26</td>\n",
       "    </tr>\n",
       "    <tr>\n",
       "      <th>49</th>\n",
       "      <td>277337</td>\n",
       "      <td>[[SOS], 10, 8, 4, 17, [EOS]]</td>\n",
       "      <td>49</td>\n",
       "      <td>-7.518134</td>\n",
       "      <td>[SOS] 19 * 7 * 2 8 29 [EOS] [PAD] [PAD]</td>\n",
       "      <td>[19, 7, 2069]</td>\n",
       "      <td>275177</td>\n",
       "      <td>3</td>\n",
       "      <td>3</td>\n",
       "      <td>1.000000</td>\n",
       "      <td>False</td>\n",
       "      <td>False</td>\n",
       "      <td>False</td>\n",
       "      <td>False</td>\n",
       "      <td>[SOS] 15 13 * 19 29 [EOS]</td>\n",
       "      <td>[463, 599]</td>\n",
       "      <td>2</td>\n",
       "      <td>463</td>\n",
       "      <td>19</td>\n",
       "    </tr>\n",
       "  </tbody>\n",
       "</table>\n",
       "<p>50 rows × 19 columns</p>\n",
       "</div>"
      ],
      "text/plain": [
       "    input_num                   model_input  beam_idx  log_prob  \\\n",
       "0      277337  [[SOS], 10, 8, 4, 17, [EOS]]         0 -1.165038   \n",
       "1      277337  [[SOS], 10, 8, 4, 17, [EOS]]         1 -1.835820   \n",
       "2      277337  [[SOS], 10, 8, 4, 17, [EOS]]         2 -2.655088   \n",
       "3      277337  [[SOS], 10, 8, 4, 17, [EOS]]         3 -2.778504   \n",
       "4      277337  [[SOS], 10, 8, 4, 17, [EOS]]         4 -3.186208   \n",
       "..        ...                           ...       ...       ...   \n",
       "45     277337  [[SOS], 10, 8, 4, 17, [EOS]]        45 -7.455013   \n",
       "46     277337  [[SOS], 10, 8, 4, 17, [EOS]]        46 -7.466121   \n",
       "47     277337  [[SOS], 10, 8, 4, 17, [EOS]]        47 -7.482573   \n",
       "48     277337  [[SOS], 10, 8, 4, 17, [EOS]]        48 -7.491855   \n",
       "49     277337  [[SOS], 10, 8, 4, 17, [EOS]]        49 -7.518134   \n",
       "\n",
       "                                               pred_str  pred_factor_list  \\\n",
       "0   [SOS] 10 8 4 17 [EOS] [PAD] [PAD] [PAD] [PAD] [PAD]          [277337]   \n",
       "1                  [SOS] 7 * 17 * 23 * 3 11 [EOS] [PAD]  [7, 17, 23, 101]   \n",
       "2                      [SOS] 11 * 19 * 1 1 * 1 13 [EOS]  [11, 19, 31, 43]   \n",
       "3           [SOS] 1 29 * 5 6 13 [EOS] [PAD] [PAD] [PAD]        [59, 4693]   \n",
       "4              [SOS] 13 * 2 13 * 9 23 [EOS] [PAD] [PAD]     [13, 73, 293]   \n",
       "..                                                  ...               ...   \n",
       "45    [SOS] 12 29 * 23 13 [EOS] [PAD] [PAD] [PAD] [PAD]        [389, 703]   \n",
       "46    [SOS] 18 23 * 16 19 [EOS] [PAD] [PAD] [PAD] [PAD]        [563, 499]   \n",
       "47              [SOS] 17 * 2 13 * 7 7 [EOS] [PAD] [PAD]     [17, 73, 217]   \n",
       "48          [SOS] 1 29 * 5 7 13 [EOS] [PAD] [PAD] [PAD]        [59, 4723]   \n",
       "49              [SOS] 19 * 7 * 2 8 29 [EOS] [PAD] [PAD]     [19, 7, 2069]   \n",
       "\n",
       "    product  num_pred_factors  num_prime_factors_pred  \\\n",
       "0    277337                 1                       0   \n",
       "1    276437                 4                       4   \n",
       "2    278597                 4                       4   \n",
       "3    276887                 2                       1   \n",
       "4    278057                 3                       3   \n",
       "..      ...               ...                     ...   \n",
       "45   273467                 2                       1   \n",
       "46   280937                 2                       2   \n",
       "47   269297                 3                       2   \n",
       "48   278657                 2                       2   \n",
       "49   275177                 3                       3   \n",
       "\n",
       "    percent_prime_factors_pred  correct_product  correct_factorization  \\\n",
       "0                     0.000000             True                  False   \n",
       "1                     1.000000            False                  False   \n",
       "2                     1.000000            False                  False   \n",
       "3                     0.500000            False                  False   \n",
       "4                     1.000000            False                  False   \n",
       "..                         ...              ...                    ...   \n",
       "45                    0.500000            False                  False   \n",
       "46                    1.000000            False                  False   \n",
       "47                    0.666667            False                  False   \n",
       "48                    1.000000            False                  False   \n",
       "49                    1.000000            False                  False   \n",
       "\n",
       "    pred_same_as_input  input_is_prime          target_factor_str  \\\n",
       "0                False           False  [SOS] 15 13 * 19 29 [EOS]   \n",
       "1                False           False  [SOS] 15 13 * 19 29 [EOS]   \n",
       "2                False           False  [SOS] 15 13 * 19 29 [EOS]   \n",
       "3                False           False  [SOS] 15 13 * 19 29 [EOS]   \n",
       "4                False           False  [SOS] 15 13 * 19 29 [EOS]   \n",
       "..                 ...             ...                        ...   \n",
       "45               False           False  [SOS] 15 13 * 19 29 [EOS]   \n",
       "46               False           False  [SOS] 15 13 * 19 29 [EOS]   \n",
       "47               False           False  [SOS] 15 13 * 19 29 [EOS]   \n",
       "48               False           False  [SOS] 15 13 * 19 29 [EOS]   \n",
       "49               False           False  [SOS] 15 13 * 19 29 [EOS]   \n",
       "\n",
       "   target_factor_list  num_target_factors  \\\n",
       "0          [463, 599]                   2   \n",
       "1          [463, 599]                   2   \n",
       "2          [463, 599]                   2   \n",
       "3          [463, 599]                   2   \n",
       "4          [463, 599]                   2   \n",
       "..                ...                 ...   \n",
       "45         [463, 599]                   2   \n",
       "46         [463, 599]                   2   \n",
       "47         [463, 599]                   2   \n",
       "48         [463, 599]                   2   \n",
       "49         [463, 599]                   2   \n",
       "\n",
       "    min_target_prime_factor_if_composite  lev_dist  \n",
       "0                                    463        36  \n",
       "1                                    463        18  \n",
       "2                                    463        12  \n",
       "3                                    463        26  \n",
       "4                                    463        19  \n",
       "..                                   ...       ...  \n",
       "45                                   463        31  \n",
       "46                                   463        28  \n",
       "47                                   463        21  \n",
       "48                                   463        26  \n",
       "49                                   463        19  \n",
       "\n",
       "[50 rows x 19 columns]"
      ]
     },
     "execution_count": 66,
     "metadata": {},
     "output_type": "execute_result"
    }
   ],
   "source": [
    "num_df = problem.form_prediction_df(model, device,  np.array([target_num]), args['model_args']['max_decode_size'], n_beams=50)\n",
    "num_df['lev_dist'] = num_df.apply(lambda x: Levenshtein.distance(x['pred_str'].replace(' _', ''), x['target_factor_str']), axis=1)\n",
    "num_df"
   ]
  },
  {
   "cell_type": "code",
   "execution_count": 67,
   "metadata": {},
   "outputs": [
    {
     "data": {
      "text/plain": [
       "1"
      ]
     },
     "execution_count": 67,
     "metadata": {},
     "output_type": "execute_result"
    }
   ],
   "source": [
    "num_df['correct_factorization'].sum()"
   ]
  },
  {
   "cell_type": "code",
   "execution_count": 68,
   "metadata": {},
   "outputs": [
    {
     "data": {
      "text/plain": [
       "['[SOS]', 15, 13, '*', 19, 29, '[EOS]']"
      ]
     },
     "execution_count": 68,
     "metadata": {},
     "output_type": "execute_result"
    }
   ],
   "source": [
    "problem.form_label(target_num, args['data']['base'])"
   ]
  },
  {
   "cell_type": "code",
   "execution_count": 69,
   "metadata": {},
   "outputs": [],
   "source": [
    "def get_prob_of_factorization(number, factorization):\n",
    "    tokens = t.encode(problem.form_input(number, args['data']['base']))\n",
    "    tensor_input = torch.tensor(tokens).unsqueeze(0).to(device)\n",
    "    \n",
    "    factorization_input = torch.tensor(t.encode(factorization)).unsqueeze(0).to(device)\n",
    "    \n",
    "    model_output = torch.softmax(model(tensor_input, factorization_input).squeeze(0), dim=-1)\n",
    "    \n",
    "    probs = model_output[torch.arange(model_output.size(0)-1),factorization_input[0,1:]]\n",
    "    \n",
    "    return probs.log().sum()"
   ]
  },
  {
   "cell_type": "code",
   "execution_count": 70,
   "metadata": {},
   "outputs": [
    {
     "data": {
      "text/plain": [
       "tensor(-4.8159, device='cuda:0', grad_fn=<SumBackward0>)"
      ]
     },
     "execution_count": 70,
     "metadata": {},
     "output_type": "execute_result"
    }
   ],
   "source": [
    "get_prob_of_factorization(target_num, num_df.iloc[0]['target_factor_str'].strip().split(' '))"
   ]
  },
  {
   "cell_type": "code",
   "execution_count": 71,
   "metadata": {},
   "outputs": [
    {
     "data": {
      "text/plain": [
       "tensor([[33, 15, 13, 30, 19, 29, 32]], device='cuda:0')"
      ]
     },
     "execution_count": 71,
     "metadata": {},
     "output_type": "execute_result"
    }
   ],
   "source": [
    "torch.tensor(t.encode(num_df.iloc[0]['target_factor_str'].strip().split(' '))).unsqueeze(0).to(device)"
   ]
  },
  {
   "cell_type": "code",
   "execution_count": null,
   "metadata": {},
   "outputs": [],
   "source": []
  },
  {
   "cell_type": "code",
   "execution_count": null,
   "metadata": {},
   "outputs": [],
   "source": []
  }
 ],
 "metadata": {
  "kernelspec": {
   "display_name": "Python 3",
   "language": "python",
   "name": "python3"
  },
  "language_info": {
   "codemirror_mode": {
    "name": "ipython",
    "version": 3
   },
   "file_extension": ".py",
   "mimetype": "text/x-python",
   "name": "python",
   "nbconvert_exporter": "python",
   "pygments_lexer": "ipython3",
   "version": "3.8.7"
  }
 },
 "nbformat": 4,
 "nbformat_minor": 4
}
