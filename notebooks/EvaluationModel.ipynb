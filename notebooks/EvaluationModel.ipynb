{
 "cells": [
  {
   "cell_type": "code",
   "execution_count": 35,
   "metadata": {},
   "outputs": [],
   "source": [
    "import numpy as np\n",
    "import pandas as pd\n",
    "import torch\n",
    "import torch.nn as nn\n",
    "import matplotlib.pyplot as plt\n",
    "import os\n",
    "import sys\n",
    "sys.path.append('../src/')\n",
    "sys.path.append('../problems/')\n",
    "sys.path.append('../scripts/')\n",
    "from evaluation import Evaluation, EvaluationDataset\n",
    "import models\n",
    "import generation_utils\n",
    "import tokenizer\n",
    "import data_utils\n",
    "import metrics_utils\n",
    "from utils import get_best_checkpoint\n",
    "from train_model import get_loaders\n",
    "from tqdm.auto import tqdm\n",
    "import itertools\n",
    "from optimization_utils import test_on_loader"
   ]
  },
  {
   "cell_type": "code",
   "execution_count": 36,
   "metadata": {},
   "outputs": [
    {
     "name": "stdout",
     "output_type": "stream",
     "text": [
      "The autoreload extension is already loaded. To reload it, use:\n",
      "  %reload_ext autoreload\n"
     ]
    }
   ],
   "source": [
    "%load_ext autoreload\n",
    "%autoreload 2"
   ]
  },
  {
   "cell_type": "code",
   "execution_count": 37,
   "metadata": {},
   "outputs": [
    {
     "data": {
      "text/html": [
       "<style>.container { width:100% !important; }</style>"
      ],
      "text/plain": [
       "<IPython.core.display.HTML object>"
      ]
     },
     "metadata": {},
     "output_type": "display_data"
    }
   ],
   "source": [
    "from IPython.core.display import display, HTML\n",
    "display(HTML(\"<style>.container { width:100% !important; }</style>\"))"
   ]
  },
  {
   "cell_type": "code",
   "execution_count": 38,
   "metadata": {},
   "outputs": [],
   "source": [
    "pd.set_option('display.max_colwidth', 999)\n",
    "pd.set_option('display.max_rows', 9999)"
   ]
  },
  {
   "cell_type": "code",
   "execution_count": 39,
   "metadata": {},
   "outputs": [],
   "source": [
    "device = torch.device('cuda')"
   ]
  },
  {
   "cell_type": "code",
   "execution_count": 44,
   "metadata": {},
   "outputs": [],
   "source": [
    "base_path = '../models/evaluation/v3/'"
   ]
  },
  {
   "cell_type": "code",
   "execution_count": 45,
   "metadata": {},
   "outputs": [
    {
     "data": {
      "text/plain": [
       "['checkpoints', 'config.yaml', 'loss_hist.csv']"
      ]
     },
     "execution_count": 45,
     "metadata": {},
     "output_type": "execute_result"
    }
   ],
   "source": [
    "os.listdir(base_path)"
   ]
  },
  {
   "cell_type": "code",
   "execution_count": 46,
   "metadata": {},
   "outputs": [
    {
     "name": "stdout",
     "output_type": "stream",
     "text": [
      "Loading model at ../models/evaluation/v3/checkpoints/900000_0.3911.pt\n"
     ]
    }
   ],
   "source": [
    "checkpoint = get_best_checkpoint(base_path)\n",
    "# checkpoint = torch.load(checkpoint)"
   ]
  },
  {
   "cell_type": "code",
   "execution_count": 47,
   "metadata": {},
   "outputs": [],
   "source": [
    "args = checkpoint['args']"
   ]
  },
  {
   "cell_type": "code",
   "execution_count": 48,
   "metadata": {},
   "outputs": [],
   "source": [
    "for key in ['train', 'test', 'oos']:\n",
    "    args['data'][f'{key}_path'] = '../' + args['data'][f'{key}_path']"
   ]
  },
  {
   "cell_type": "code",
   "execution_count": 49,
   "metadata": {},
   "outputs": [],
   "source": [
    "problem = Evaluation(args)"
   ]
  },
  {
   "cell_type": "code",
   "execution_count": 50,
   "metadata": {},
   "outputs": [
    {
     "name": "stdout",
     "output_type": "stream",
     "text": [
      "Loading data...\n"
     ]
    }
   ],
   "source": [
    "train_loader, test_loader, oos_loader = get_loaders(problem)"
   ]
  },
  {
   "cell_type": "code",
   "execution_count": 51,
   "metadata": {},
   "outputs": [],
   "source": [
    "t = problem.get_tokenizer()"
   ]
  },
  {
   "cell_type": "code",
   "execution_count": 52,
   "metadata": {
    "scrolled": false
   },
   "outputs": [
    {
     "data": {
      "text/plain": [
       "dict_keys(['data', 'problem_type', 'model_args', 'optimizer', 'scheduler', 'loader', 'io', 'metrics', 'verbose', 'resume_training', 'overwrite', 'tokenizer'])"
      ]
     },
     "execution_count": 52,
     "metadata": {},
     "output_type": "execute_result"
    }
   ],
   "source": [
    "args.keys()"
   ]
  },
  {
   "cell_type": "code",
   "execution_count": 53,
   "metadata": {
    "scrolled": true
   },
   "outputs": [
    {
     "data": {
      "text/plain": [
       "Seq2SeqModel(\n",
       "  (src_embedding): TransformerEmbedding(\n",
       "    (embedding): Embedding(39, 128)\n",
       "  )\n",
       "  (tgt_embedding): TransformerEmbedding(\n",
       "    (embedding): Embedding(39, 128)\n",
       "  )\n",
       "  (positional_encoding): PositionalEncoding(\n",
       "    (dropout): Dropout(p=0.05, inplace=False)\n",
       "  )\n",
       "  (transformer): Transformer(\n",
       "    (encoder): TransformerEncoder(\n",
       "      (layers): ModuleList(\n",
       "        (0-3): 4 x TransformerEncoderLayer(\n",
       "          (self_attn): MultiHeadRelativeAttention(\n",
       "            (w_q): Linear(in_features=128, out_features=128, bias=False)\n",
       "            (w_k): Linear(in_features=128, out_features=128, bias=False)\n",
       "            (w_v): Linear(in_features=128, out_features=128, bias=False)\n",
       "            (out_proj): Linear(in_features=128, out_features=128, bias=False)\n",
       "            (pe_mod): PositionalEncoding(\n",
       "              (dropout): Dropout(p=0.05, inplace=False)\n",
       "            )\n",
       "            (w_k_pos): Linear(in_features=128, out_features=128, bias=False)\n",
       "          )\n",
       "          (linear1): Linear(in_features=128, out_features=128, bias=True)\n",
       "          (dropout): Dropout(p=0.1, inplace=False)\n",
       "          (linear2): Linear(in_features=128, out_features=128, bias=True)\n",
       "          (norm1): LayerNorm((128,), eps=1e-05, elementwise_affine=True)\n",
       "          (norm2): LayerNorm((128,), eps=1e-05, elementwise_affine=True)\n",
       "          (dropout1): Dropout(p=0.1, inplace=False)\n",
       "          (dropout2): Dropout(p=0.1, inplace=False)\n",
       "        )\n",
       "      )\n",
       "      (norm): LayerNorm((128,), eps=1e-05, elementwise_affine=True)\n",
       "    )\n",
       "    (decoder): TransformerDecoder(\n",
       "      (layers): ModuleList(\n",
       "        (0-3): 4 x TransformerDecoderLayer(\n",
       "          (self_attn): MultiHeadRelativeAttention(\n",
       "            (w_q): Linear(in_features=128, out_features=128, bias=False)\n",
       "            (w_k): Linear(in_features=128, out_features=128, bias=False)\n",
       "            (w_v): Linear(in_features=128, out_features=128, bias=False)\n",
       "            (out_proj): Linear(in_features=128, out_features=128, bias=False)\n",
       "            (pe_mod): PositionalEncoding(\n",
       "              (dropout): Dropout(p=0.05, inplace=False)\n",
       "            )\n",
       "            (w_k_pos): Linear(in_features=128, out_features=128, bias=False)\n",
       "          )\n",
       "          (multihead_attn): MultiHeadAttention(\n",
       "            (w_q): Linear(in_features=128, out_features=128, bias=False)\n",
       "            (w_k): Linear(in_features=128, out_features=128, bias=False)\n",
       "            (w_v): Linear(in_features=128, out_features=128, bias=False)\n",
       "            (out_proj): Linear(in_features=128, out_features=128, bias=False)\n",
       "          )\n",
       "          (linear1): Linear(in_features=128, out_features=128, bias=True)\n",
       "          (dropout): Dropout(p=0.1, inplace=False)\n",
       "          (linear2): Linear(in_features=128, out_features=128, bias=True)\n",
       "          (norm1): LayerNorm((128,), eps=1e-05, elementwise_affine=True)\n",
       "          (norm2): LayerNorm((128,), eps=1e-05, elementwise_affine=True)\n",
       "          (norm3): LayerNorm((128,), eps=1e-05, elementwise_affine=True)\n",
       "          (dropout1): Dropout(p=0.1, inplace=False)\n",
       "          (dropout2): Dropout(p=0.1, inplace=False)\n",
       "          (dropout3): Dropout(p=0.1, inplace=False)\n",
       "        )\n",
       "      )\n",
       "      (norm): LayerNorm((128,), eps=1e-05, elementwise_affine=True)\n",
       "    )\n",
       "  )\n",
       "  (tokens_out): Linear(in_features=128, out_features=39, bias=True)\n",
       ")"
      ]
     },
     "execution_count": 53,
     "metadata": {},
     "output_type": "execute_result"
    }
   ],
   "source": [
    "model = models.Seq2SeqModel(n_tokens = args['tokenizer']['n_tokens'], \n",
    "                          pad_token_id = args['tokenizer']['pad_token_id'],\n",
    "                          **args['model_args'])\n",
    "model.load_state_dict(checkpoint['model_state_dict'])\n",
    "model.to(device)\n",
    "model.eval()"
   ]
  },
  {
   "cell_type": "code",
   "execution_count": 54,
   "metadata": {
    "scrolled": false
   },
   "outputs": [
    {
     "data": {
      "text/plain": [
       "1215655"
      ]
     },
     "execution_count": 54,
     "metadata": {},
     "output_type": "execute_result"
    }
   ],
   "source": [
    "np.sum([np.prod(p.size()) for p in model.parameters()])"
   ]
  },
  {
   "cell_type": "code",
   "execution_count": 55,
   "metadata": {},
   "outputs": [
    {
     "data": {
      "text/plain": [
       "10000"
      ]
     },
     "execution_count": 55,
     "metadata": {},
     "output_type": "execute_result"
    }
   ],
   "source": [
    "len(test_loader.dataset)"
   ]
  },
  {
   "cell_type": "code",
   "execution_count": 65,
   "metadata": {
    "scrolled": true
   },
   "outputs": [
    {
     "name": "stdout",
     "output_type": "stream",
     "text": [
      "TODO FIX ME!!! FIGURE OUT WHAT ARGS TO CALL WITH!!!\n"
     ]
    },
    {
     "data": {
      "application/vnd.jupyter.widget-view+json": {
       "model_id": "",
       "version_major": 2,
       "version_minor": 0
      },
      "text/plain": [
       "  0%|          | 0/10000 [00:00<?, ?it/s]"
      ]
     },
     "metadata": {},
     "output_type": "display_data"
    },
    {
     "data": {
      "application/vnd.jupyter.widget-view+json": {
       "model_id": "",
       "version_major": 2,
       "version_minor": 0
      },
      "text/plain": [
       "  0%|          | 0/40 [00:00<?, ?it/s]"
      ]
     },
     "metadata": {},
     "output_type": "display_data"
    }
   ],
   "source": [
    "test_df, test_metrics = problem.compute_metrics(model, device, test_loader, save=False, n_beams=64)"
   ]
  },
  {
   "cell_type": "code",
   "execution_count": 66,
   "metadata": {
    "scrolled": true
   },
   "outputs": [
    {
     "data": {
      "text/html": [
       "<div>\n",
       "<style scoped>\n",
       "    .dataframe tbody tr th:only-of-type {\n",
       "        vertical-align: middle;\n",
       "    }\n",
       "\n",
       "    .dataframe tbody tr th {\n",
       "        vertical-align: top;\n",
       "    }\n",
       "\n",
       "    .dataframe thead th {\n",
       "        text-align: right;\n",
       "    }\n",
       "</style>\n",
       "<table border=\"1\" class=\"dataframe\">\n",
       "  <thead>\n",
       "    <tr style=\"text-align: right;\">\n",
       "      <th></th>\n",
       "      <th>expression</th>\n",
       "      <th>value</th>\n",
       "      <th>model_input</th>\n",
       "      <th>beam_idx</th>\n",
       "      <th>log_prob</th>\n",
       "      <th>output_toks</th>\n",
       "      <th>pred</th>\n",
       "      <th>correct_value</th>\n",
       "      <th>log_prob_decile</th>\n",
       "    </tr>\n",
       "  </thead>\n",
       "  <tbody>\n",
       "    <tr>\n",
       "      <th>0</th>\n",
       "      <td>60*(248—236)</td>\n",
       "      <td>720</td>\n",
       "      <td>[[SOS], 2, 0, *, (, 8, 8, —, 7, 26, ), [EOS]]</td>\n",
       "      <td>0</td>\n",
       "      <td>-0.004322</td>\n",
       "      <td>[[SOS], 24, 0, [EOS], [PAD]]</td>\n",
       "      <td>720.0</td>\n",
       "      <td>True</td>\n",
       "      <td>(-4.215, 0.0]</td>\n",
       "    </tr>\n",
       "    <tr>\n",
       "      <th>1</th>\n",
       "      <td>60*(248—236)</td>\n",
       "      <td>720</td>\n",
       "      <td>[[SOS], 2, 0, *, (, 8, 8, —, 7, 26, ), [EOS]]</td>\n",
       "      <td>1</td>\n",
       "      <td>-5.467641</td>\n",
       "      <td>[[SOS], 28, 0, [EOS], [PAD]]</td>\n",
       "      <td>840.0</td>\n",
       "      <td>False</td>\n",
       "      <td>(-5.645, -4.215]</td>\n",
       "    </tr>\n",
       "    <tr>\n",
       "      <th>2</th>\n",
       "      <td>60*(248—236)</td>\n",
       "      <td>720</td>\n",
       "      <td>[[SOS], 2, 0, *, (, 8, 8, —, 7, 26, ), [EOS]]</td>\n",
       "      <td>2</td>\n",
       "      <td>-9.214662</td>\n",
       "      <td>[[SOS], 24, 0, [EOS], 0]</td>\n",
       "      <td>720.0</td>\n",
       "      <td>True</td>\n",
       "      <td>(-9.964, -9.213]</td>\n",
       "    </tr>\n",
       "    <tr>\n",
       "      <th>3</th>\n",
       "      <td>60*(248—236)</td>\n",
       "      <td>720</td>\n",
       "      <td>[[SOS], 2, 0, *, (, 8, 8, —, 7, 26, ), [EOS]]</td>\n",
       "      <td>3</td>\n",
       "      <td>-9.214662</td>\n",
       "      <td>[[SOS], 24, 0, [EOS], 1]</td>\n",
       "      <td>720.0</td>\n",
       "      <td>True</td>\n",
       "      <td>(-9.964, -9.213]</td>\n",
       "    </tr>\n",
       "    <tr>\n",
       "      <th>4</th>\n",
       "      <td>60*(248—236)</td>\n",
       "      <td>720</td>\n",
       "      <td>[[SOS], 2, 0, *, (, 8, 8, —, 7, 26, ), [EOS]]</td>\n",
       "      <td>4</td>\n",
       "      <td>-9.214662</td>\n",
       "      <td>[[SOS], 24, 0, [EOS], 2]</td>\n",
       "      <td>720.0</td>\n",
       "      <td>True</td>\n",
       "      <td>(-9.964, -9.213]</td>\n",
       "    </tr>\n",
       "    <tr>\n",
       "      <th>...</th>\n",
       "      <td>...</td>\n",
       "      <td>...</td>\n",
       "      <td>...</td>\n",
       "      <td>...</td>\n",
       "      <td>...</td>\n",
       "      <td>...</td>\n",
       "      <td>...</td>\n",
       "      <td>...</td>\n",
       "      <td>...</td>\n",
       "    </tr>\n",
       "    <tr>\n",
       "      <th>639995</th>\n",
       "      <td>111+167—222</td>\n",
       "      <td>56</td>\n",
       "      <td>[[SOS], 3, 21, +, 5, 17, —, 7, 12, [EOS]]</td>\n",
       "      <td>59</td>\n",
       "      <td>-10.267776</td>\n",
       "      <td>[[SOS], 1, 20, [EOS], 20]</td>\n",
       "      <td>50.0</td>\n",
       "      <td>False</td>\n",
       "      <td>(-12.854, -9.964]</td>\n",
       "    </tr>\n",
       "    <tr>\n",
       "      <th>639996</th>\n",
       "      <td>111+167—222</td>\n",
       "      <td>56</td>\n",
       "      <td>[[SOS], 3, 21, +, 5, 17, —, 7, 12, [EOS]]</td>\n",
       "      <td>60</td>\n",
       "      <td>-10.267776</td>\n",
       "      <td>[[SOS], 1, 20, [EOS], 21]</td>\n",
       "      <td>50.0</td>\n",
       "      <td>False</td>\n",
       "      <td>(-12.854, -9.964]</td>\n",
       "    </tr>\n",
       "    <tr>\n",
       "      <th>639997</th>\n",
       "      <td>111+167—222</td>\n",
       "      <td>56</td>\n",
       "      <td>[[SOS], 3, 21, +, 5, 17, —, 7, 12, [EOS]]</td>\n",
       "      <td>61</td>\n",
       "      <td>-10.267776</td>\n",
       "      <td>[[SOS], 1, 20, [EOS], 22]</td>\n",
       "      <td>50.0</td>\n",
       "      <td>False</td>\n",
       "      <td>(-12.854, -9.964]</td>\n",
       "    </tr>\n",
       "    <tr>\n",
       "      <th>639998</th>\n",
       "      <td>111+167—222</td>\n",
       "      <td>56</td>\n",
       "      <td>[[SOS], 3, 21, +, 5, 17, —, 7, 12, [EOS]]</td>\n",
       "      <td>62</td>\n",
       "      <td>-10.267776</td>\n",
       "      <td>[[SOS], 1, 20, [EOS], 23]</td>\n",
       "      <td>50.0</td>\n",
       "      <td>False</td>\n",
       "      <td>(-12.854, -9.964]</td>\n",
       "    </tr>\n",
       "    <tr>\n",
       "      <th>639999</th>\n",
       "      <td>111+167—222</td>\n",
       "      <td>56</td>\n",
       "      <td>[[SOS], 3, 21, +, 5, 17, —, 7, 12, [EOS]]</td>\n",
       "      <td>63</td>\n",
       "      <td>-10.267776</td>\n",
       "      <td>[[SOS], 1, 20, [EOS], 24]</td>\n",
       "      <td>50.0</td>\n",
       "      <td>False</td>\n",
       "      <td>(-12.854, -9.964]</td>\n",
       "    </tr>\n",
       "  </tbody>\n",
       "</table>\n",
       "<p>640000 rows × 9 columns</p>\n",
       "</div>"
      ],
      "text/plain": [
       "          expression  value                                    model_input  \\\n",
       "0       60*(248—236)    720  [[SOS], 2, 0, *, (, 8, 8, —, 7, 26, ), [EOS]]   \n",
       "1       60*(248—236)    720  [[SOS], 2, 0, *, (, 8, 8, —, 7, 26, ), [EOS]]   \n",
       "2       60*(248—236)    720  [[SOS], 2, 0, *, (, 8, 8, —, 7, 26, ), [EOS]]   \n",
       "3       60*(248—236)    720  [[SOS], 2, 0, *, (, 8, 8, —, 7, 26, ), [EOS]]   \n",
       "4       60*(248—236)    720  [[SOS], 2, 0, *, (, 8, 8, —, 7, 26, ), [EOS]]   \n",
       "...              ...    ...                                            ...   \n",
       "639995   111+167—222     56      [[SOS], 3, 21, +, 5, 17, —, 7, 12, [EOS]]   \n",
       "639996   111+167—222     56      [[SOS], 3, 21, +, 5, 17, —, 7, 12, [EOS]]   \n",
       "639997   111+167—222     56      [[SOS], 3, 21, +, 5, 17, —, 7, 12, [EOS]]   \n",
       "639998   111+167—222     56      [[SOS], 3, 21, +, 5, 17, —, 7, 12, [EOS]]   \n",
       "639999   111+167—222     56      [[SOS], 3, 21, +, 5, 17, —, 7, 12, [EOS]]   \n",
       "\n",
       "        beam_idx   log_prob                   output_toks   pred  \\\n",
       "0              0  -0.004322  [[SOS], 24, 0, [EOS], [PAD]]  720.0   \n",
       "1              1  -5.467641  [[SOS], 28, 0, [EOS], [PAD]]  840.0   \n",
       "2              2  -9.214662      [[SOS], 24, 0, [EOS], 0]  720.0   \n",
       "3              3  -9.214662      [[SOS], 24, 0, [EOS], 1]  720.0   \n",
       "4              4  -9.214662      [[SOS], 24, 0, [EOS], 2]  720.0   \n",
       "...          ...        ...                           ...    ...   \n",
       "639995        59 -10.267776     [[SOS], 1, 20, [EOS], 20]   50.0   \n",
       "639996        60 -10.267776     [[SOS], 1, 20, [EOS], 21]   50.0   \n",
       "639997        61 -10.267776     [[SOS], 1, 20, [EOS], 22]   50.0   \n",
       "639998        62 -10.267776     [[SOS], 1, 20, [EOS], 23]   50.0   \n",
       "639999        63 -10.267776     [[SOS], 1, 20, [EOS], 24]   50.0   \n",
       "\n",
       "        correct_value    log_prob_decile  \n",
       "0                True      (-4.215, 0.0]  \n",
       "1               False   (-5.645, -4.215]  \n",
       "2                True   (-9.964, -9.213]  \n",
       "3                True   (-9.964, -9.213]  \n",
       "4                True   (-9.964, -9.213]  \n",
       "...               ...                ...  \n",
       "639995          False  (-12.854, -9.964]  \n",
       "639996          False  (-12.854, -9.964]  \n",
       "639997          False  (-12.854, -9.964]  \n",
       "639998          False  (-12.854, -9.964]  \n",
       "639999          False  (-12.854, -9.964]  \n",
       "\n",
       "[640000 rows x 9 columns]"
      ]
     },
     "execution_count": 66,
     "metadata": {},
     "output_type": "execute_result"
    }
   ],
   "source": [
    "test_df"
   ]
  },
  {
   "cell_type": "code",
   "execution_count": 67,
   "metadata": {
    "scrolled": false
   },
   "outputs": [
    {
     "data": {
      "text/plain": [
       "{'correct_value': 0.9213663227486727,\n",
       " 'beam_accuracy': {'correct_value': {0: 0.5734,\n",
       "   1: 0.2913,\n",
       "   2: 0.3833,\n",
       "   3: 0.4294,\n",
       "   4: 0.4401,\n",
       "   5: 0.4496,\n",
       "   6: 0.4512,\n",
       "   7: 0.4544,\n",
       "   8: 0.4562,\n",
       "   9: 0.4592,\n",
       "   10: 0.463,\n",
       "   11: 0.4607,\n",
       "   12: 0.4623,\n",
       "   13: 0.4615,\n",
       "   14: 0.4618,\n",
       "   15: 0.4615,\n",
       "   16: 0.4612,\n",
       "   17: 0.4622,\n",
       "   18: 0.4621,\n",
       "   19: 0.4623,\n",
       "   20: 0.4615,\n",
       "   21: 0.4624,\n",
       "   22: 0.4605,\n",
       "   23: 0.4619,\n",
       "   24: 0.4612,\n",
       "   25: 0.4613,\n",
       "   26: 0.4615,\n",
       "   27: 0.4618,\n",
       "   28: 0.4607,\n",
       "   29: 0.4611,\n",
       "   30: 0.46,\n",
       "   31: 0.4611,\n",
       "   32: 0.4618,\n",
       "   33: 0.4608,\n",
       "   34: 0.4614,\n",
       "   35: 0.4612,\n",
       "   36: 0.4614,\n",
       "   37: 0.4609,\n",
       "   38: 0.2341,\n",
       "   39: 0.1154,\n",
       "   40: 0.0651,\n",
       "   41: 0.0512,\n",
       "   42: 0.0412,\n",
       "   43: 0.0381,\n",
       "   44: 0.0359,\n",
       "   45: 0.0329,\n",
       "   46: 0.0335,\n",
       "   47: 0.0309,\n",
       "   48: 0.0319,\n",
       "   49: 0.0311,\n",
       "   50: 0.0306,\n",
       "   51: 0.0303,\n",
       "   52: 0.0306,\n",
       "   53: 0.03,\n",
       "   54: 0.0297,\n",
       "   55: 0.0293,\n",
       "   56: 0.0289,\n",
       "   57: 0.0291,\n",
       "   58: 0.0299,\n",
       "   59: 0.0297,\n",
       "   60: 0.0293,\n",
       "   61: 0.0298,\n",
       "   62: 0.03,\n",
       "   63: 0.0298}},\n",
       " 'by_prob': {'group_size': {'(-40.091, -20.537]': 64017.0,\n",
       "   '(-20.537, -16.483]': 63983.0,\n",
       "   '(-16.483, -12.854]': 64001.0,\n",
       "   '(-12.854, -9.964]': 64032.0,\n",
       "   '(-9.964, -9.213]': 63967.0,\n",
       "   '(-9.213, -9.21]': 64207.0,\n",
       "   '(-9.21, -8.607]': 63793.0,\n",
       "   '(-8.607, -5.645]': 64000.0,\n",
       "   '(-5.645, -4.215]': 64000.0,\n",
       "   '(-4.215, 0.0]': 64000.0},\n",
       "  'correct_value': {'(-40.091, -20.537]': 0.00026555446209600576,\n",
       "   '(-20.537, -16.483]': 0.00017192066642701968,\n",
       "   '(-16.483, -12.854]': 0.0024843361822471524,\n",
       "   '(-12.854, -9.964]': 0.11887806096951524,\n",
       "   '(-9.964, -9.213]': 0.7505588819234918,\n",
       "   '(-9.213, -9.21]': 0.9996417836061489,\n",
       "   '(-9.21, -8.607]': 0.8705500603514492,\n",
       "   '(-8.607, -5.645]': 0.004265625,\n",
       "   '(-5.645, -4.215]': 0.010796875,\n",
       "   '(-4.215, 0.0]': 0.12784375}},\n",
       " 'loss': 0.39113982189475544,\n",
       " 'meta': {'n_beams': 64, 'temperature': 1.0, 'max_decode_size': 64}}"
      ]
     },
     "execution_count": 67,
     "metadata": {},
     "output_type": "execute_result"
    }
   ],
   "source": [
    "test_metrics"
   ]
  },
  {
   "cell_type": "code",
   "execution_count": null,
   "metadata": {},
   "outputs": [],
   "source": [
    "sys.exit()"
   ]
  },
  {
   "cell_type": "code",
   "execution_count": null,
   "metadata": {},
   "outputs": [],
   "source": []
  },
  {
   "cell_type": "code",
   "execution_count": null,
   "metadata": {},
   "outputs": [],
   "source": []
  },
  {
   "cell_type": "code",
   "execution_count": null,
   "metadata": {},
   "outputs": [],
   "source": []
  },
  {
   "cell_type": "code",
   "execution_count": null,
   "metadata": {},
   "outputs": [],
   "source": []
  },
  {
   "cell_type": "code",
   "execution_count": null,
   "metadata": {},
   "outputs": [],
   "source": []
  },
  {
   "cell_type": "code",
   "execution_count": null,
   "metadata": {},
   "outputs": [],
   "source": []
  },
  {
   "cell_type": "code",
   "execution_count": null,
   "metadata": {},
   "outputs": [],
   "source": []
  },
  {
   "cell_type": "code",
   "execution_count": null,
   "metadata": {},
   "outputs": [],
   "source": [
    "sys.exit()"
   ]
  },
  {
   "cell_type": "code",
   "execution_count": null,
   "metadata": {
    "scrolled": true
   },
   "outputs": [],
   "source": [
    "pairs = np.array(list(itertools.permutations(list(range(400)), 2)))\n",
    "sample_pct = .01\n",
    "pairs = pairs[np.random.rand(pairs.shape[0]) < sample_pct]\n",
    "print(pairs.shape[0])\n",
    "n_beams = 5\n",
    "\n",
    "random_addition_df = problem.compute_metrics(model, device, problem.get_dataset(pairs), save=False, n_beams=5, max_samples=-1)"
   ]
  },
  {
   "cell_type": "markdown",
   "metadata": {},
   "source": [
    "### Explore the model a little"
   ]
  },
  {
   "cell_type": "code",
   "execution_count": null,
   "metadata": {},
   "outputs": [],
   "source": [
    "embeddings = model.src_embedding.embedding.weight.data.cpu().numpy()"
   ]
  },
  {
   "cell_type": "code",
   "execution_count": null,
   "metadata": {},
   "outputs": [],
   "source": [
    "tokens = [''.join(t.decode([i], decode_special=True)) for i in range(len(t))]\n",
    "special_tokens = set(problem.special_tokens)\n",
    "tokens = np.array([tok if tok in special_tokens else data_utils.base2dec([int(tok)], args['data']['base']) for tok in tokens])"
   ]
  },
  {
   "cell_type": "code",
   "execution_count": null,
   "metadata": {},
   "outputs": [],
   "source": [
    "embeddings.shape"
   ]
  },
  {
   "cell_type": "code",
   "execution_count": null,
   "metadata": {},
   "outputs": [],
   "source": [
    "tokens.shape"
   ]
  },
  {
   "cell_type": "code",
   "execution_count": null,
   "metadata": {},
   "outputs": [],
   "source": [
    "tokens"
   ]
  },
  {
   "cell_type": "code",
   "execution_count": null,
   "metadata": {},
   "outputs": [],
   "source": [
    "from sklearn.manifold import TSNE"
   ]
  },
  {
   "cell_type": "code",
   "execution_count": null,
   "metadata": {},
   "outputs": [],
   "source": [
    "tsne = TSNE()\n",
    "embeddings_for_plot = tsne.fit_transform(embeddings)"
   ]
  },
  {
   "cell_type": "code",
   "execution_count": null,
   "metadata": {},
   "outputs": [],
   "source": [
    "plt.scatter(embeddings_for_plot[:,0], embeddings_for_plot[:,1])\n",
    "ax = plt.gca()\n",
    "for tok, (x,y) in zip(tokens, embeddings_for_plot):\n",
    "    fontsize = 12 if not tok in ['.', '_'] else 24\n",
    "    ax.annotate(tok, (x+.3,y), fontsize=fontsize)\n",
    "plt.show()"
   ]
  },
  {
   "cell_type": "markdown",
   "metadata": {},
   "source": [
    "## Cosine Similarity\n",
    "* Some embeddings have relatively simlar cosine similarities"
   ]
  },
  {
   "cell_type": "code",
   "execution_count": null,
   "metadata": {},
   "outputs": [],
   "source": [
    "from sklearn.metrics.pairwise import cosine_similarity"
   ]
  },
  {
   "cell_type": "code",
   "execution_count": null,
   "metadata": {},
   "outputs": [],
   "source": [
    "cs_sim_mat = cosine_similarity(embeddings)\n",
    "cs_sims = np.triu(cs_sim_mat, 1).ravel()\n",
    "cs_sims = cs_sims[~np.isclose(cs_sims, 0)]"
   ]
  },
  {
   "cell_type": "code",
   "execution_count": null,
   "metadata": {},
   "outputs": [],
   "source": [
    "plt.title('cosine simiarlty of embeddings')\n",
    "pd.Series(cs_sims).hist()\n",
    "plt.show()"
   ]
  },
  {
   "cell_type": "code",
   "execution_count": null,
   "metadata": {},
   "outputs": [],
   "source": [
    "fig = plt.gcf()\n",
    "fig.set_size_inches(20, 20)\n",
    "ax = plt.gca()\n",
    "plt.colorbar(ax.matshow(np.clip(cs_sim_mat, a_min=-1, a_max=cs_sim_mat[cs_sim_mat<.99].max()*1.1)), ax=ax)\n",
    "ax.set_xticks(np.arange(cs_sim_mat.shape[0]))\n",
    "ax.set_yticks(np.arange(cs_sim_mat.shape[0]))\n",
    "ax.set_xticklabels(tokens[:cs_sim_mat.shape[0]])\n",
    "ax.set_yticklabels(tokens[:cs_sim_mat.shape[0]])\n",
    "plt.show()"
   ]
  },
  {
   "cell_type": "markdown",
   "metadata": {},
   "source": [
    "## See what the attention looks at"
   ]
  },
  {
   "cell_type": "code",
   "execution_count": null,
   "metadata": {},
   "outputs": [],
   "source": [
    "example_row = problem.form_prediction_df(model, device, problem.get_dataset([[1,1]]), args['model_args']['max_decode_size'], n_beams=1, temperature=1.)"
   ]
  },
  {
   "cell_type": "code",
   "execution_count": null,
   "metadata": {},
   "outputs": [],
   "source": [
    "example_row"
   ]
  },
  {
   "cell_type": "code",
   "execution_count": null,
   "metadata": {},
   "outputs": [],
   "source": [
    "input = t.encode(problem.form_input(example_row['n1'].iloc[0], example_row['n2'].iloc[0], args['data']['base']))\n",
    "# tgt = t.encode(data_utils.dec2base(example_row['pred_num'].iloc[0].replace('_', '').strip().split(' ')))\n",
    "tgt = t.encode(problem.form_label(example_row['pred_num'].iloc[0], 0, args['data']['base']))"
   ]
  },
  {
   "cell_type": "code",
   "execution_count": null,
   "metadata": {},
   "outputs": [],
   "source": [
    "input = torch.tensor(input).unsqueeze(0).to(device)\n",
    "tgt = torch.tensor(tgt).unsqueeze(0).to(device)"
   ]
  },
  {
   "cell_type": "code",
   "execution_count": null,
   "metadata": {},
   "outputs": [],
   "source": [
    "with torch.no_grad():\n",
    "    (memory, encoder_attn_weights), memory_key_padding_mask = model.encode(input, need_weights=True)"
   ]
  },
  {
   "cell_type": "code",
   "execution_count": null,
   "metadata": {},
   "outputs": [],
   "source": [
    "memory.size(), memory_key_padding_mask.size(), encoder_attn_weights.size()"
   ]
  },
  {
   "cell_type": "code",
   "execution_count": null,
   "metadata": {},
   "outputs": [],
   "source": [
    "res, mem_attn, self_attn = model.decode(tgt, memory.repeat(1, tgt.size(0), 1), memory_key_padding_mask.repeat(tgt.size(0), 1), return_enc_dec_attn=True)"
   ]
  },
  {
   "cell_type": "code",
   "execution_count": null,
   "metadata": {},
   "outputs": [],
   "source": [
    "res.size(), mem_attn.size(), self_attn.size()"
   ]
  },
  {
   "cell_type": "code",
   "execution_count": null,
   "metadata": {},
   "outputs": [],
   "source": [
    "mem_label = t.decode(input[0].data.cpu().numpy().tolist(), decode_special=True).split(' ')\n",
    "tgt_label_attended_to = t.decode(tgt[0].data.cpu().numpy().tolist(), decode_special=True).split(' ')\n",
    "tgt_label_attended_for = t.decode(tgt[0].data.cpu().numpy().tolist(), decode_special=True).split(' ')"
   ]
  },
  {
   "cell_type": "code",
   "execution_count": null,
   "metadata": {},
   "outputs": [],
   "source": [
    "mem_label"
   ]
  },
  {
   "cell_type": "code",
   "execution_count": null,
   "metadata": {},
   "outputs": [],
   "source": [
    "tgt_label_attended_to"
   ]
  },
  {
   "cell_type": "code",
   "execution_count": null,
   "metadata": {},
   "outputs": [],
   "source": [
    "tgt_label_attended_for"
   ]
  },
  {
   "cell_type": "code",
   "execution_count": null,
   "metadata": {},
   "outputs": [],
   "source": [
    "import matplotlib as mpl\n",
    "def show_attn(fig, ax, matrix, attn_type, title):\n",
    "    ax.set_title(title)\n",
    "    \n",
    "    ax.set_ylabel('Predicting the next token')\n",
    "    ax.set_xlabel('Attending to this token')\n",
    "    \n",
    "    if attn_type=='encoder_self':\n",
    "        ax.set_yticks(np.arange(len(mem_label)))\n",
    "        ax.set_yticklabels(labels=mem_label, fontsize=16)\n",
    "        \n",
    "        ax.set_xticks(np.arange(len(mem_label)))\n",
    "        ax.set_xticklabels(labels=mem_label, fontsize=16)\n",
    "    elif attn_type=='decoder_self':\n",
    "        ax.set_yticks(np.arange(len(tgt_label_attended_for)))\n",
    "        ax.set_yticklabels(labels=tgt_label_attended_for, fontsize=16)\n",
    "        \n",
    "        ax.set_xticks(np.arange(len(tgt_label_attended_to)))\n",
    "        ax.set_xticklabels(labels=tgt_label_attended_to, fontsize=16)\n",
    "    elif attn_type=='mem':\n",
    "        ax.set_yticks(np.arange(len(tgt_label_attended_for)))\n",
    "        ax.set_yticklabels(labels=tgt_label_attended_for, fontsize=16)\n",
    "        \n",
    "        ax.set_xticks(np.arange(len(mem_label)))\n",
    "        ax.set_xticklabels(labels=mem_label, fontsize=16)\n",
    "    else:\n",
    "        raise ValueError(f'attn type {attn_type} not understood')\n",
    "\n",
    "    \n",
    "    \n",
    "    im = ax.imshow(matrix, cmap='Blues')\n",
    "    fig.colorbar(im, ax=ax)\n",
    "\n",
    "    \n",
    "#     if 'self' in attn_type:\n",
    "#         fig.set_size_inches(7,7)\n",
    "#     else:\n",
    "#         fig.set_size_inches(4,7)"
   ]
  },
  {
   "cell_type": "code",
   "execution_count": null,
   "metadata": {},
   "outputs": [],
   "source": [
    "mem_attn.size()"
   ]
  },
  {
   "cell_type": "code",
   "execution_count": null,
   "metadata": {},
   "outputs": [],
   "source": [
    "fig, ax = plt.subplots(encoder_attn_weights.size(0), encoder_attn_weights.size(1))\n",
    "\n",
    "for i in range(encoder_attn_weights.size(0)):\n",
    "    for j in range(encoder_attn_weights.size(1)):\n",
    "        title = '%s Layer: %d Head: %d'%('Encoder Self Attention', i,j)\n",
    "        show_attn(fig, ax[i,j], encoder_attn_weights[i][j].data.cpu().numpy(), 'encoder_self', title)\n",
    "fig.set_size_inches(36,36)\n",
    "fig.tight_layout()"
   ]
  },
  {
   "cell_type": "code",
   "execution_count": null,
   "metadata": {
    "scrolled": false
   },
   "outputs": [],
   "source": [
    "fig, ax = plt.subplots(mem_attn.size(0), mem_attn.size(1))\n",
    "\n",
    "for i in range(mem_attn.size(0)):\n",
    "    for j in range(mem_attn.size(1)):\n",
    "        title = '%s Layer: %d Head: %d'%('Mem', i,j)\n",
    "        show_attn(fig, ax[i,j], mem_attn[i][j].data.cpu().numpy(), 'mem', title)\n",
    "fig.set_size_inches(36,36)\n",
    "fig.tight_layout()"
   ]
  },
  {
   "cell_type": "code",
   "execution_count": null,
   "metadata": {},
   "outputs": [],
   "source": [
    "fig, ax = plt.subplots(self_attn.size(0), self_attn.size(1))\n",
    "\n",
    "for i in range(self_attn.size(0)):\n",
    "    for j in range(self_attn.size(1)):\n",
    "        title = '%s AttentionLayer: %d Head: %d'%('Self', i,j)\n",
    "        show_attn(fig, ax[i,j], np.clip(self_attn[i][j].data.cpu().numpy(), a_min=0, a_max=.6), 'decoder_self', title)\n",
    "fig.set_size_inches(36,36)\n",
    "fig.tight_layout()"
   ]
  },
  {
   "cell_type": "code",
   "execution_count": null,
   "metadata": {},
   "outputs": [],
   "source": []
  },
  {
   "cell_type": "code",
   "execution_count": null,
   "metadata": {},
   "outputs": [],
   "source": []
  }
 ],
 "metadata": {
  "kernelspec": {
   "display_name": "Python 3",
   "language": "python",
   "name": "python3"
  },
  "language_info": {
   "codemirror_mode": {
    "name": "ipython",
    "version": 3
   },
   "file_extension": ".py",
   "mimetype": "text/x-python",
   "name": "python",
   "nbconvert_exporter": "python",
   "pygments_lexer": "ipython3",
   "version": "3.8.7"
  }
 },
 "nbformat": 4,
 "nbformat_minor": 4
}
