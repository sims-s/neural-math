{
 "cells": [
  {
   "cell_type": "code",
   "execution_count": 1,
   "metadata": {},
   "outputs": [],
   "source": [
    "import numpy as np\n",
    "import pandas as pd\n",
    "from treelib import Node, Tree\n",
    "from collections import defaultdict\n",
    "import copy\n",
    "from tqdm.auto import tqdm\n",
    "tqdm.pandas(leave=False)"
   ]
  },
  {
   "cell_type": "code",
   "execution_count": 2,
   "metadata": {},
   "outputs": [],
   "source": [
    "dict2obj = lambda d: type(\"Object\", (), d)"
   ]
  },
  {
   "cell_type": "code",
   "execution_count": 32,
   "metadata": {},
   "outputs": [],
   "source": [
    "tree_finished = lambda t: all([\n",
    "                (not node.is_leaf() and node.data.type == 'expr') or\n",
    "                (node.is_leaf() and node.data.type == 'num')\n",
    "                \n",
    "                for _, node in t.nodes.items()])\n",
    "\n",
    "\n",
    "def sample_equation(cache):\n",
    "    node_id = 0\n",
    "    tree = Tree()\n",
    "    if not cache.distr[0,0] == 1:\n",
    "        raise ValueError('should sample an equation first')\n",
    "    tree.create_node(node_id, node_id, data = dict2obj({'type' : 'expr', 'val' : cache.sample('functions')}))\n",
    "    node_id += 1\n",
    "    \n",
    "    while not tree_finished(tree):\n",
    "        \n",
    "        run_dict = {k:v for k, v in tree.nodes.items()}#copy.deepcopy(tree.nodes)\n",
    "        \n",
    "        for node_name, node in run_dict.items():\n",
    "            if node.is_leaf() and not node.data.type == 'num':\n",
    "                assert node.data.type == 'expr'\n",
    "                n_children = function_to_nargs[node.data.val]\n",
    "                node_depth = tree.depth(node)\n",
    "                \n",
    "                for i in range(n_children):\n",
    "#                     type_ = 'expr' if rand_stream.sample() < distr[node_depth+2,0] else 'num'\n",
    "#                     value = rand_stream.choice(functions if type_ == 'expr' else vals, distr[node_depth+2])\n",
    "#                     type_ = np.random.choice(['expr', 'num'], p=distr[node_depth+1])\n",
    "                    type_ = cache.sample('types', depth=node_depth+1)\n",
    "#         def sample(self, sample_type, depth=-1):\n",
    "#                     value = np.random.choice(functions if type_ == 'expr' else vals)\n",
    "                    value = cache.sample('vals' if type_=='num' else 'functions')\n",
    "                    tree.create_node(node_id, node_id, data = dict2obj({'type' : type_, 'val' : value}), parent=node.identifier)\n",
    "                    node_id += 1\n",
    "                \n",
    "    \n",
    "    #tree.show(data_property='val')\n",
    "    \n",
    "    \n",
    "    return tree\n",
    "    \n",
    "    "
   ]
  },
  {
   "cell_type": "code",
   "execution_count": 33,
   "metadata": {},
   "outputs": [],
   "source": [
    "def convert_tree_to_equation(tree, full_parens=False):\n",
    "    equation = \"\"\n",
    "\n",
    "    def _traverse(node):\n",
    "        nonlocal equation\n",
    "        \n",
    "        if node.is_leaf():\n",
    "            equation += str(node.data.val)\n",
    "        else:\n",
    "            n_children = len(tree.children(node.identifier))\n",
    "            for i, child in enumerate(tree.children(node.identifier)):\n",
    "                if full_parens:\n",
    "                    need_parens = child.data.type == 'expr'\n",
    "                else:\n",
    "                    need_parens = child.data.type == 'expr' and parent_needs_parens_for_child(node.data.val, child.data.val)\n",
    "                    need_parens = need_parens and not (i==0 and order_operations[node.data.val] >= order_operations[child.data.val])\n",
    "                \n",
    "                if need_parens:\n",
    "                    equation += \"(\"\n",
    "                _traverse(child)\n",
    "                if need_parens:\n",
    "                    equation += \")\"\n",
    "                if not i == n_children - 1:\n",
    "                    equation += node.data.val\n",
    "                    \n",
    "                \n",
    "\n",
    "    _traverse(tree.nodes[tree.root])\n",
    "\n",
    "    return equation"
   ]
  },
  {
   "cell_type": "code",
   "execution_count": 34,
   "metadata": {},
   "outputs": [],
   "source": [
    "def parent_needs_parens_for_child(f1, f2):\n",
    "    f1_idx = order_operations[f1]\n",
    "    f2_idx = order_operations[f2]\n",
    "    if not f1_idx == f2_idx:\n",
    "        return f1 < f2\n",
    "    else:\n",
    "        return f1 in non_associative_functions\n",
    "#     else:\n",
    "#         return False"
   ]
  },
  {
   "cell_type": "code",
   "execution_count": 35,
   "metadata": {},
   "outputs": [],
   "source": [
    "class ExpressionSampleCache():\n",
    "    def __init__(self, size, functions, vals, distr):\n",
    "        self.size = size\n",
    "        self.functions = functions\n",
    "        self.vals = vals\n",
    "        self.distr = distr\n",
    "        self.data = {\n",
    "            'functions' : {\n",
    "                'counter' : 0,\n",
    "                'values' : np.random.choice(functions, size)\n",
    "            },\n",
    "            'vals' : {\n",
    "                'counter' : 0,\n",
    "                'values' : np.random.choice(vals, size)\n",
    "            },\n",
    "            'types' : {\n",
    "                    i+1 : {\n",
    "                        'counter' : 0,\n",
    "                        'values' : np.random.choice(['expr', 'num'], size=size, p=d)\n",
    "                    }\n",
    "                    for i, d in enumerate(distr[1:])\n",
    "            },\n",
    "            \n",
    "        }\n",
    "        \n",
    "    def restart(self, key, depth=-1):\n",
    "        if key == 'functions':\n",
    "            self.data['functions'] = {\n",
    "                'counter' : 0,\n",
    "                'values' : np.random.choice(self.functions, self.size)\n",
    "            }\n",
    "        elif key == 'vals' : \n",
    "            self.data['vals'] = {\n",
    "                'counter' : 0,\n",
    "                'values' : np.random.choice(self.vals, self.size)\n",
    "            }\n",
    "        elif key == 'types' :\n",
    "            assert depth > 0, 'need to specify depth for type'\n",
    "            self.data['types'][depth] = {\n",
    "                        'counter' : 0,\n",
    "                        'values' : np.random.choice(['expr', 'num'], size=self.size, p=self.distr[depth])\n",
    "                    }\n",
    "            \n",
    "    def sample(self, sample_type, depth=-1):\n",
    "        subdict = self.data[sample_type]\n",
    "        if sample_type == 'types':\n",
    "            assert depth > 0, 'need to specify depth for type'\n",
    "            subdict = subdict[depth]\n",
    "        if subdict['counter'] >= len(subdict['values']):\n",
    "            self.restart(sample_type, depth)\n",
    "            subdict = self.data[sample_type]\n",
    "            if sample_type == 'types':\n",
    "                subdict = subdict[depth]\n",
    "        \n",
    "        to_return = subdict['values'][subdict['counter']]\n",
    "        subdict['counter'] += 1\n",
    "        \n",
    "        return to_return\n",
    "            \n",
    "        \n",
    "        "
   ]
  },
  {
   "cell_type": "code",
   "execution_count": 36,
   "metadata": {},
   "outputs": [],
   "source": [
    "order_operations = {\n",
    "    '^' : 0,\n",
    "    '*' : 1,\n",
    "    '/' : 1,\n",
    "    '—' : 2,\n",
    "    '+' : 2\n",
    "}\n",
    "non_associative_functions = set(['^', '/', '—'])\n",
    "functions = ['*', '+', '—']"
   ]
  },
  {
   "cell_type": "code",
   "execution_count": 37,
   "metadata": {},
   "outputs": [],
   "source": [
    "exp_vs_num_prob = np.array([\n",
    "    [1.,0.],\n",
    "    [.5, .5],\n",
    "    [.5,.5],\n",
    "    [0.,1.],\n",
    "#     [.5,.5],\n",
    "#     [.25,.75],\n",
    "#     [0,1]\n",
    "])\n",
    "sample_nums = np.arange(1000)\n",
    "\n",
    "function_to_nargs = defaultdict(lambda: 2)"
   ]
  },
  {
   "cell_type": "code",
   "execution_count": 38,
   "metadata": {},
   "outputs": [],
   "source": [
    "sampler_cache = ExpressionSampleCache(50000, functions, sample_nums, exp_vs_num_prob)"
   ]
  },
  {
   "cell_type": "code",
   "execution_count": 39,
   "metadata": {},
   "outputs": [
    {
     "name": "stdout",
     "output_type": "stream",
     "text": [
      "—\n",
      "├── *\n",
      "│   ├── *\n",
      "│   │   ├── 565\n",
      "│   │   └── 683\n",
      "│   └── 935\n",
      "└── *\n",
      "    ├── 507\n",
      "    └── —\n",
      "        ├── 925\n",
      "        └── 942\n",
      "\n"
     ]
    },
    {
     "data": {
      "text/plain": [
       "'565*683*935—507*(925—942)'"
      ]
     },
     "execution_count": 39,
     "metadata": {},
     "output_type": "execute_result"
    }
   ],
   "source": [
    "tree = sample_equation(sampler_cache)\n",
    "tree.show(data_property='val')\n",
    "convert_tree_to_equation(tree)"
   ]
  },
  {
   "cell_type": "code",
   "execution_count": 41,
   "metadata": {},
   "outputs": [
    {
     "name": "stdout",
     "output_type": "stream",
     "text": [
      "131 µs ± 655 ns per loop (mean ± std. dev. of 7 runs, 10000 loops each)\n"
     ]
    }
   ],
   "source": [
    "%%timeit\n",
    "tree = sample_equation(sampler_cache)\n",
    "eqn = convert_tree_to_equation(tree)"
   ]
  },
  {
   "cell_type": "code",
   "execution_count": null,
   "metadata": {},
   "outputs": [],
   "source": []
  },
  {
   "cell_type": "code",
   "execution_count": null,
   "metadata": {},
   "outputs": [],
   "source": []
  },
  {
   "cell_type": "code",
   "execution_count": null,
   "metadata": {},
   "outputs": [],
   "source": []
  },
  {
   "cell_type": "code",
   "execution_count": 20,
   "metadata": {},
   "outputs": [
    {
     "data": {
      "application/vnd.jupyter.widget-view+json": {
       "model_id": "",
       "version_major": 2,
       "version_minor": 0
      },
      "text/plain": [
       "  0%|          | 0/100000 [00:00<?, ?it/s]"
      ]
     },
     "metadata": {},
     "output_type": "display_data"
    }
   ],
   "source": [
    "rows = []\n",
    "n_samples = 100000\n",
    "with tqdm(total = n_samples, leave=False) as pbar:\n",
    "    for i in range(n_samples):\n",
    "        tree = sample_equation(sampler_cache)\n",
    "        eqn = convert_tree_to_equation(tree)\n",
    "        rows.append([tree, eqn])\n",
    "        pbar.update(1)"
   ]
  },
  {
   "cell_type": "code",
   "execution_count": 21,
   "metadata": {},
   "outputs": [],
   "source": [
    "df = pd.DataFrame.from_records(rows, columns = ['tree', 'eqn'])\n",
    "df['res'] = df['eqn'].apply(lambda x: eval(x.replace('—', '-')))"
   ]
  },
  {
   "cell_type": "code",
   "execution_count": 23,
   "metadata": {},
   "outputs": [
    {
     "data": {
      "text/html": [
       "<div>\n",
       "<style scoped>\n",
       "    .dataframe tbody tr th:only-of-type {\n",
       "        vertical-align: middle;\n",
       "    }\n",
       "\n",
       "    .dataframe tbody tr th {\n",
       "        vertical-align: top;\n",
       "    }\n",
       "\n",
       "    .dataframe thead th {\n",
       "        text-align: right;\n",
       "    }\n",
       "</style>\n",
       "<table border=\"1\" class=\"dataframe\">\n",
       "  <thead>\n",
       "    <tr style=\"text-align: right;\">\n",
       "      <th></th>\n",
       "      <th>tree</th>\n",
       "      <th>eqn</th>\n",
       "      <th>res</th>\n",
       "    </tr>\n",
       "  </thead>\n",
       "  <tbody>\n",
       "    <tr>\n",
       "      <th>2162</th>\n",
       "      <td>(Node(tag=0, identifier=0, data=&lt;class '__main...</td>\n",
       "      <td>310*632—793+167</td>\n",
       "      <td>195294</td>\n",
       "    </tr>\n",
       "    <tr>\n",
       "      <th>83214</th>\n",
       "      <td>(Node(tag=0, identifier=0, data=&lt;class '__main...</td>\n",
       "      <td>289—265*752*864*252</td>\n",
       "      <td>-43388835551</td>\n",
       "    </tr>\n",
       "    <tr>\n",
       "      <th>27328</th>\n",
       "      <td>(Node(tag=0, identifier=0, data=&lt;class '__main...</td>\n",
       "      <td>(142+586*589)*912</td>\n",
       "      <td>314909952</td>\n",
       "    </tr>\n",
       "    <tr>\n",
       "      <th>54508</th>\n",
       "      <td>(Node(tag=0, identifier=0, data=&lt;class '__main...</td>\n",
       "      <td>(609+17)*(286+482)*779</td>\n",
       "      <td>374518272</td>\n",
       "    </tr>\n",
       "    <tr>\n",
       "      <th>77213</th>\n",
       "      <td>(Node(tag=0, identifier=0, data=&lt;class '__main...</td>\n",
       "      <td>935+679*141+635+352+740</td>\n",
       "      <td>98401</td>\n",
       "    </tr>\n",
       "    <tr>\n",
       "      <th>46945</th>\n",
       "      <td>(Node(tag=0, identifier=0, data=&lt;class '__main...</td>\n",
       "      <td>251+234+494—877</td>\n",
       "      <td>102</td>\n",
       "    </tr>\n",
       "    <tr>\n",
       "      <th>9256</th>\n",
       "      <td>(Node(tag=0, identifier=0, data=&lt;class '__main...</td>\n",
       "      <td>198+633</td>\n",
       "      <td>831</td>\n",
       "    </tr>\n",
       "    <tr>\n",
       "      <th>29142</th>\n",
       "      <td>(Node(tag=0, identifier=0, data=&lt;class '__main...</td>\n",
       "      <td>115—830</td>\n",
       "      <td>-715</td>\n",
       "    </tr>\n",
       "    <tr>\n",
       "      <th>62291</th>\n",
       "      <td>(Node(tag=0, identifier=0, data=&lt;class '__main...</td>\n",
       "      <td>790—(967+747)—572*748</td>\n",
       "      <td>-428780</td>\n",
       "    </tr>\n",
       "    <tr>\n",
       "      <th>34740</th>\n",
       "      <td>(Node(tag=0, identifier=0, data=&lt;class '__main...</td>\n",
       "      <td>830*(871+466)*67</td>\n",
       "      <td>74350570</td>\n",
       "    </tr>\n",
       "  </tbody>\n",
       "</table>\n",
       "</div>"
      ],
      "text/plain": [
       "                                                    tree  \\\n",
       "2162   (Node(tag=0, identifier=0, data=<class '__main...   \n",
       "83214  (Node(tag=0, identifier=0, data=<class '__main...   \n",
       "27328  (Node(tag=0, identifier=0, data=<class '__main...   \n",
       "54508  (Node(tag=0, identifier=0, data=<class '__main...   \n",
       "77213  (Node(tag=0, identifier=0, data=<class '__main...   \n",
       "46945  (Node(tag=0, identifier=0, data=<class '__main...   \n",
       "9256   (Node(tag=0, identifier=0, data=<class '__main...   \n",
       "29142  (Node(tag=0, identifier=0, data=<class '__main...   \n",
       "62291  (Node(tag=0, identifier=0, data=<class '__main...   \n",
       "34740  (Node(tag=0, identifier=0, data=<class '__main...   \n",
       "\n",
       "                           eqn           res  \n",
       "2162           310*632—793+167        195294  \n",
       "83214      289—265*752*864*252  -43388835551  \n",
       "27328        (142+586*589)*912     314909952  \n",
       "54508   (609+17)*(286+482)*779     374518272  \n",
       "77213  935+679*141+635+352+740         98401  \n",
       "46945          251+234+494—877           102  \n",
       "9256                   198+633           831  \n",
       "29142                  115—830          -715  \n",
       "62291    790—(967+747)—572*748       -428780  \n",
       "34740         830*(871+466)*67      74350570  "
      ]
     },
     "execution_count": 23,
     "metadata": {},
     "output_type": "execute_result"
    }
   ],
   "source": [
    "df.sample(10)"
   ]
  },
  {
   "cell_type": "code",
   "execution_count": 24,
   "metadata": {},
   "outputs": [],
   "source": [
    "split_tokens = [\n",
    "            '+',\n",
    "            '-',\n",
    "            '*',\n",
    "            '(',\n",
    "            ')', ]\n"
   ]
  },
  {
   "cell_type": "code",
   "execution_count": 25,
   "metadata": {},
   "outputs": [
    {
     "ename": "NameError",
     "evalue": "name 'expresssion' is not defined",
     "output_type": "error",
     "traceback": [
      "\u001b[1;31m---------------------------------------------------------------------------\u001b[0m",
      "\u001b[1;31mNameError\u001b[0m                                 Traceback (most recent call last)",
      "\u001b[1;32m<ipython-input-25-4446956dd25b>\u001b[0m in \u001b[0;36m<module>\u001b[1;34m\u001b[0m\n\u001b[0;32m      2\u001b[0m \u001b[0mchar_idx\u001b[0m \u001b[1;33m=\u001b[0m \u001b[1;36m0\u001b[0m\u001b[1;33m\u001b[0m\u001b[1;33m\u001b[0m\u001b[0m\n\u001b[0;32m      3\u001b[0m \u001b[0mstart\u001b[0m \u001b[1;33m=\u001b[0m \u001b[1;36m0\u001b[0m\u001b[1;33m\u001b[0m\u001b[1;33m\u001b[0m\u001b[0m\n\u001b[1;32m----> 4\u001b[1;33m \u001b[1;32mwhile\u001b[0m \u001b[0mchar_idx\u001b[0m \u001b[1;33m<\u001b[0m \u001b[0mlen\u001b[0m\u001b[1;33m(\u001b[0m\u001b[0mexpresssion\u001b[0m\u001b[1;33m)\u001b[0m\u001b[1;33m+\u001b[0m\u001b[1;36m1\u001b[0m\u001b[1;33m:\u001b[0m\u001b[1;33m\u001b[0m\u001b[1;33m\u001b[0m\u001b[0m\n\u001b[0m\u001b[0;32m      5\u001b[0m     \u001b[1;32mif\u001b[0m \u001b[0mchar_idx\u001b[0m \u001b[1;33m==\u001b[0m \u001b[0mlen\u001b[0m\u001b[1;33m(\u001b[0m\u001b[0mexpresssion\u001b[0m\u001b[1;33m)\u001b[0m\u001b[1;33m:\u001b[0m\u001b[1;33m\u001b[0m\u001b[1;33m\u001b[0m\u001b[0m\n\u001b[0;32m      6\u001b[0m         \u001b[1;32mif\u001b[0m \u001b[0mchar_idx\u001b[0m \u001b[1;33m<\u001b[0m \u001b[0mlen\u001b[0m\u001b[1;33m(\u001b[0m\u001b[0mexpresssion\u001b[0m\u001b[1;33m)\u001b[0m\u001b[1;33m:\u001b[0m\u001b[1;33m\u001b[0m\u001b[1;33m\u001b[0m\u001b[0m\n",
      "\u001b[1;31mNameError\u001b[0m: name 'expresssion' is not defined"
     ]
    }
   ],
   "source": [
    "tokens = []\n",
    "char_idx = 0\n",
    "start = 0\n",
    "while char_idx < len(expresssion)+1:\n",
    "    if char_idx == len(expresssion):\n",
    "        if char_idx < len(expresssion):\n",
    "            tokens.append(expresssion[start:])\n",
    "        break\n",
    "    if expresssion[char_idx] in split_tokens:\n",
    "        if char_idx > 0 and not expresssion[char_idx-1] in split_tokens:\n",
    "            tokens.append(expresssion[start:char_idx])\n",
    "            tokens.append(expresssion[char_idx])\n",
    "            start = char_idx + 1\n",
    "        else:\n",
    "            tokens.append(expresssion[char_idx])\n",
    "        \n",
    "    char_idx += 1"
   ]
  },
  {
   "cell_type": "code",
   "execution_count": null,
   "metadata": {},
   "outputs": [],
   "source": [
    "tokens"
   ]
  },
  {
   "cell_type": "code",
   "execution_count": null,
   "metadata": {},
   "outputs": [],
   "source": []
  },
  {
   "cell_type": "code",
   "execution_count": null,
   "metadata": {},
   "outputs": [],
   "source": []
  },
  {
   "cell_type": "code",
   "execution_count": null,
   "metadata": {},
   "outputs": [],
   "source": []
  }
 ],
 "metadata": {
  "kernelspec": {
   "display_name": "Python 3",
   "language": "python",
   "name": "python3"
  },
  "language_info": {
   "codemirror_mode": {
    "name": "ipython",
    "version": 3
   },
   "file_extension": ".py",
   "mimetype": "text/x-python",
   "name": "python",
   "nbconvert_exporter": "python",
   "pygments_lexer": "ipython3",
   "version": "3.8.7"
  }
 },
 "nbformat": 4,
 "nbformat_minor": 4
}
